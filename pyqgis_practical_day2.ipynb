{
 "cells": [
  {
   "cell_type": "markdown",
   "id": "chicken-field",
   "metadata": {},
   "source": [
    "# PyQGIS: Expanding QGIS's functionality with Python. \n",
    "# Day 2 – Processing and plugins\n",
    "\n",
    "Yesterday, you learned the basics of PyQGIS: how to run code from the embedded Python console, how to use the central classes (such as QgsVectorLayer) and run operations of layer geometries and attributes. However, the strength of QGIS is its vast library of geospatial algorithms (both native and those added by plugins, such as GRASS) coupled with general data crunching tools. \n",
    "\n",
    "In these practicals, we will learn how to run processing algorithms via PyQGIS, even chaining multiple operations together. We will create automated processes using the graphic Model Builder and link it with our Python code. The point of these exercises is to learn how to use Python in QGIS to create reproducible and easily shareable tools for spatial analysis needs.\n",
    "\n",
    "In the final section we will look at plugin development in QGIS: this section will teach you the basics of creating plugins with graphic user interfaces."
   ]
  },
  {
   "cell_type": "markdown",
   "id": "quiet-arbor",
   "metadata": {},
   "source": [
    "### Preparations\n",
    "Open QGIS and load in all the layers from _practical_data.gpkg_. Do this via the GUI or, if you want to do the same programmatically, use the script below. Adapted [from the PyQGIS Cookbook](https://docs.qgis.org/latest/en/docs/pyqgis_developer_cookbook/cheat_sheet.html#layers)."
   ]
  },
  {
   "cell_type": "code",
   "execution_count": null,
   "id": "stylish-adaptation",
   "metadata": {},
   "outputs": [],
   "source": [
    "# EXAMPLE PATH: define the actual path on your system\n",
    "gpkg_path = \"C:/Users/tatu/pyqgis_practical/data/practical_data.gpkg\" # windows\n",
    "gpkg_layer = QgsVectorLayer(gpkg_path, \"whole_gpkg\", \"ogr\")\n",
    "\n",
    "# returns a list of strings describing the sublayers\n",
    "sub_strings = gpkg_layer.dataProvider().subLayers()\n",
    "# EXAMPLE: 1!!::!!Paavo!!::!!3027!!::!!MultiPolygon!!::!!geom!!::!!\n",
    "# !!::!! separates the values\n",
    "\n",
    "for sub_string in sub_strings:\n",
    "    layer_name = sub_string.split(gpkg_layer.dataProvider().sublayerSeparator())[1]\n",
    "    uri = \"{0}|layername={1}\".format(gpkg_path, layer_name)\n",
    "    # Create layer\n",
    "    sub_vlayer = QgsVectorLayer(uri, layer_name, 'ogr')\n",
    "    # Add layer to map\n",
    "    if sub_vlayer.isValid():\n",
    "        QgsProject.instance().addMapLayer(sub_vlayer)\n",
    "    else:\n",
    "        print(\"Can't add layer\", layer_name)"
   ]
  },
  {
   "cell_type": "markdown",
   "id": "second-jacket",
   "metadata": {},
   "source": [
    "Next, make sure you have the processing toolbox open in the GUI. If not, open it from the drop down menu _Processing > Toolbox_. If the toolbox is unavailable for some reason, [follow these instructions](https://docs.qgis.org/3.22/en/docs/training_manual/processing/set_up.html) to remedy."
   ]
  },
  {
   "cell_type": "markdown",
   "id": "cooked-jacob",
   "metadata": {},
   "source": [
    "### Model builder and processing algorithms\n",
    "1. Processing algorithms with PyQGIS\n",
    "2. Writing a custom processing script\n",
    "3. Model builder\n",
    "4. Linking the script with model builder\n",
    "\n",
    "### A look at plugin development\n",
    "1. Processing plugins\n",
    "2. GUI plugins"
   ]
  },
  {
   "cell_type": "markdown",
   "id": "adverse-spring",
   "metadata": {},
   "source": [
    "## Basics of processing algorithms\n",
    "The processing framework is a collection of helpful functions for topics ranging from network analysis to raster terrain analysis. Both native and custom algorithms can be called programmatically, but doing so requires us to know a few things, namely the algorigthm name and its parameters.\n",
    "\n",
    "The simplest way to access these is by letting QGIS create the initial code for us."
   ]
  },
  {
   "cell_type": "markdown",
   "id": "desirable-holmes",
   "metadata": {},
   "source": [
    "### TASK\n",
    "- Using the GUI, run _Simplify_ algorithm, under _Vector geometry_. The easiest way to find it is to use the search bar. \n",
    "    - Change _Tolerance_ to 5000, otherwise keep the default settings.\n",
    "    - Run the algorithm. It should add a new memory layer with simplified geometry to the project.\n",
    "    \n",
    "![Simplify algorithm in gui](images/simplify_algorithm_settings.JPG)"
   ]
  },
  {
   "cell_type": "markdown",
   "id": "vulnerable-ireland",
   "metadata": {},
   "source": [
    "After running the algorithm, click on the _Processing_ drop-down menu and select _History_. The opened window contains a list of previous processing runs (under ALGORITHM). \n",
    "\n",
    "Select the latest one. An algorithm call is displayed on the text box below the list and it looks something like this (formatted for clarity):"
   ]
  },
  {
   "cell_type": "code",
   "execution_count": null,
   "id": "compatible-alcohol",
   "metadata": {},
   "outputs": [],
   "source": [
    "processing.run(\"native:simplifygeometries\", \n",
    "               {'INPUT':'C:/Users/tatu/pyqgis_practical/data/practical_data.gpkg|layername=NUTS2_FIN_pop',\n",
    "                'METHOD':0,\n",
    "                'TOLERANCE':5000,\n",
    "                'OUTPUT':'TEMPORARY_OUTPUT'})"
   ]
  },
  {
   "cell_type": "markdown",
   "id": "transsexual-speech",
   "metadata": {},
   "source": [
    "What we have here is a call to the processing framework. Specifically, we name the algorithm and pass a dictionary of algorithm parameters (if you need a refresher of Python dicts, [check this out](https://www.w3schools.com/python/python_dictionaries.asp)). \n",
    "\n",
    "Notice that the parameters are identical to the ones we defined graphically. Though you might wonder how one could know that _Distance: Douglas-Peucker_ maps to method 0 without first running the algorithm graphically. The processing framework has a function for describing algorithms:"
   ]
  },
  {
   "cell_type": "code",
   "execution_count": null,
   "id": "municipal-proportion",
   "metadata": {},
   "outputs": [],
   "source": [
    ">>> processing.algorithmHelp(\"native:simplifygeometries\")"
   ]
  },
  {
   "cell_type": "code",
   "execution_count": null,
   "id": "surprised-devil",
   "metadata": {},
   "outputs": [],
   "source": [
    "Simplify (native:simplifygeometries)\n",
    "\n",
    "This algorithm simplifies the geometries in a line or polygon layer. \n",
    "---\n",
    "METHOD: Simplification method\n",
    "\n",
    "\tParameter type:\tQgsProcessingParameterEnum\n",
    "\n",
    "\tAvailable values:\n",
    "\t\t- 0: Distance (Douglas-Peucker)\n",
    "\t\t- 1: Snap to grid\n",
    "\t\t- 2: Area (Visvalingam)\n",
    "---"
   ]
  },
  {
   "cell_type": "markdown",
   "id": "bearing-salmon",
   "metadata": {},
   "source": [
    "There we have it. Use this function if you want to learn more about the algorithms and the parameters.\n",
    "\n",
    "However, to use the helper function, you need the algorithm's id string, which is different from its screen name (like _native:simplifygeometries_ vs. _Simplify_). Print all available algorithms [like this](https://docs.qgis.org/latest/en/docs/user_manual/processing/console.html#calling-algorithms-from-the-python-console). Because the hundreds of algorithms can be overwhelming, a simple filter is applied below:"
   ]
  },
  {
   "cell_type": "code",
   "execution_count": null,
   "id": "immediate-lindsay",
   "metadata": {},
   "outputs": [],
   "source": [
    ">>> for alg in QgsApplication.processingRegistry().algorithms():\n",
    "...        search_str = \"simplify\"\n",
    "...        if search_str in alg.displayName().lower():\n",
    "...            print(alg.displayName(), \"->\", alg.id())\n",
    "\n",
    "Simplify Network -> NetworkGT:Simplify Network\n",
    "Simplify -> native:simplifygeometries"
   ]
  },
  {
   "cell_type": "markdown",
   "id": "33fda7ac",
   "metadata": {},
   "source": [
    "The part before the colon (_NetworkGT_ and _native_) refers to the algorithm provider – in this case a plugin and the native processing library."
   ]
  },
  {
   "cell_type": "markdown",
   "id": "stuck-first",
   "metadata": {},
   "source": [
    "## Running processing algorithms with PyQGIS\n",
    "If you ran the processing.run call before, you might've noticed that it simply returned a dictionary with a layer as the value – this is because an algorithm can have multiple outputs. The output layers are accessed simply by entering the key of the output."
   ]
  },
  {
   "cell_type": "code",
   "execution_count": null,
   "id": "documentary-energy",
   "metadata": {},
   "outputs": [],
   "source": [
    ">>> input_layer_path = 'C:/Users/tatu/pyqgis_practical/data/practical_data.gpkg|layername=NUTS2_FIN_pop'\n",
    ">>> results = processing.run(\"native:simplifygeometries\", \n",
    "...              {'INPUT':input_layer_path,\n",
    "...                'METHOD':0,\n",
    "...                'TOLERANCE':5000,\n",
    "...                'OUTPUT':'TEMPORARY_OUTPUT'})\n",
    ">>> print(results)\n",
    "{'OUTPUT': <QgsVectorLayer: 'Simplified' (memory)>}\n",
    ">>> simplified_layer = results['OUTPUT']"
   ]
  },
  {
   "cell_type": "markdown",
   "id": "social-angle",
   "metadata": {},
   "source": [
    "Or to skip the middle steps and load the layer directly to the current project, use _runAndLoadResults_."
   ]
  },
  {
   "cell_type": "code",
   "execution_count": null,
   "id": "suitable-retrieval",
   "metadata": {},
   "outputs": [],
   "source": [
    ">>> processing.runAndLoadResults(\"native:simplifygeometries\", \n",
    "                {'INPUT': input_layer_path,\n",
    "                'METHOD':0,\n",
    "                'TOLERANCE':5000,\n",
    "                'OUTPUT':'TEMPORARY_OUTPUT'})"
   ]
  },
  {
   "cell_type": "markdown",
   "id": "viral-lucas",
   "metadata": {},
   "source": [
    "### Batch processing\n",
    "Running processing algorithms on multiple layers is straightforward to do with Python loops.\n",
    "\n",
    "The script below runs simplification on all vector layers in a project:"
   ]
  },
  {
   "cell_type": "code",
   "execution_count": null,
   "id": "white-jackson",
   "metadata": {},
   "outputs": [],
   "source": [
    "proj_layers = QgsProject.instance().mapLayers()\n",
    "\n",
    "for layer in proj_layers.values():\n",
    "    # excluding other layer types\n",
    "    if isinstance(layer, QgsVectorLayer):\n",
    "        processing.runAndLoadResults(\"native:simplifygeometries\", \n",
    "                {'INPUT': layer,\n",
    "                'METHOD':0,\n",
    "                'TOLERANCE':5000,\n",
    "                'OUTPUT':'TEMPORARY_OUTPUT'})"
   ]
  },
  {
   "cell_type": "markdown",
   "id": "respective-virgin",
   "metadata": {},
   "source": [
    "### Chaining algorithms\n",
    "The real power of these algorithms gets unleashed when they're chained together to form an analysis pipeline. For example, you may remember how long and cumbersome the script used to get to simplify the geometries and fields of our input layer was previously. With the processing framework, we can offset the heavy lifting to two processing algorithms (_Simplify_ and _Drop fields_). Since we're _dropping_ fields instead of _keeping_ them, we need to do a bit of Python magic first.\n",
    "\n",
    "P.S. If we'd be using ≥QGIS 3.18., we could use [_Retain fields_](https://qgis.org/en/site/forusers/visualchangelog318/#feature-add-retain-fields-algorithm). It's not available in the current LTR."
   ]
  },
  {
   "cell_type": "code",
   "execution_count": null,
   "id": "national-table",
   "metadata": {},
   "outputs": [],
   "source": [
    "# defining input parameters\n",
    "\n",
    "# path to the NUTS2 layer\n",
    "input_layer_path = 'C:/Users/tatu/pyqgis_practical/data/practical_data.gpkg|layername=NUTS2_FIN_pop'\n",
    "\n",
    "input_layer = QgsVectorLayer(input_layer_path, \"input_layer\", \"ogr\")\n",
    "\n",
    "tolerance = 5000\n",
    "# list of field names to keep\n",
    "fields_to_keep = ['name', 'pop']\n",
    "\n",
    "# get all fields\n",
    "all_fields = input_layer.fields().names()\n",
    "\n",
    "# BASICALLY: create a list containing all fields except those that are in the \"keep\" list\n",
    "drop_fields = [field for field in all_fields if field not in fields_to_keep]\n",
    "\n",
    "simplified_layer = processing.run(\"native:simplifygeometries\", \n",
    "              {'INPUT':input_layer,\n",
    "               'METHOD':0,\n",
    "               'TOLERANCE':tolerance,\n",
    "               'OUTPUT':'TEMPORARY_OUTPUT'})['OUTPUT'] # NOTICE THAT THE LAYER IS IMMEDIATELY FETCHED FROM THE DICT\n",
    "\n",
    "processing.runAndLoadResults(\"qgis:deletecolumn\", \n",
    "               {'INPUT':simplified_layer,\n",
    "                'COLUMN':drop_fields,\n",
    "                'OUTPUT':'TEMPORARY_OUTPUT'})"
   ]
  },
  {
   "cell_type": "markdown",
   "id": "52bb4c0e",
   "metadata": {},
   "source": [
    "Notice that with _runAndLoadResults_, the layer will be named automatically according to the algorithm definitions (like _Remaining fields_)."
   ]
  },
  {
   "cell_type": "markdown",
   "id": "excess-impossible",
   "metadata": {},
   "source": [
    "### TASK\n",
    "- Modify the script above by adding one more algorithm to the pipeline, namely _Add geometry attributes_\n",
    "    - Find out the algorithm id of _Add geometry attributes_.\n",
    "    - Create the parameter dictionary as needed for the algorithm (HINT: if you're lost, run the algorithm through the GUI first)\n",
    "    - Add the algorithm call to the end of the script and modify the previous algorithm call accordingly."
   ]
  },
  {
   "cell_type": "markdown",
   "id": "725d18e5",
   "metadata": {},
   "source": [
    "## Custom processing scripts\n",
    "Processing scripts like above are already quite neat, but they do have some weaknesses. Using them requires some programming understanding, which hinders their usability if you'd want to share your tools with others. It's much more user friendly to select the input parameters graphically like in the processing toolbox algorithms.\n",
    "\n",
    "We will create such a processing tool. One approach would be to write it in code from scratch, like the existing tools are. However, in the interested of time, we will create the base of the script using the graphic _Model Designer_ in QGIS. "
   ]
  },
  {
   "cell_type": "markdown",
   "id": "excited-radar",
   "metadata": {},
   "source": [
    "### Graphical processing models\n",
    "Model designer enables defining inputs and chaining processing algorithms graphically. The picture below shows an example pipeline for creating a population heatmap clipped to sea boundaries. Subpicture (1) shows the pipeline running through centroid creation, KDE, and clipping with a mask layer. The yellow rectangles are inputs given by the user. These are shown as options when running the script, as seen in subpicture (2). The process outputs a raster (subpicture (3)).\n",
    "\n",
    "If you want to play around with this model, find it in _scripts > heatmap_from_pop_grid.model3_  in the practical materials.\n",
    "\n",
    "![Graphic modeler example](images/graphic_model.png)"
   ]
  },
  {
   "cell_type": "markdown",
   "id": "japanese-easter",
   "metadata": {},
   "source": [
    "Great thing about the models is that they can be exported to Python code. We will use this function later on. \n",
    "\n",
    "## Recreating the script as a processing script\n",
    "Now, let's once again recreate the layer simplification and trimming script, this time as an installable processing tool.\n",
    "\n",
    "**Open the Model Designer window** from the the left-most button under _Processing Toolbox > Create new Model_.\n",
    "\n",
    "![Opening graphical model](images/opening_graphical_modeler.JPG)"
   ]
  },
  {
   "cell_type": "markdown",
   "id": "federal-heath",
   "metadata": {},
   "source": [
    "A mostly empty window is opened. The empty area in the middle is where we'll start building our script. On the left, there's a selection of inputs (1) and algorithms (2), which can be dragged to the builder. Other important functions are naming the model (3), exporting to a Python script (4) and running the model (5).\n",
    "\n",
    "![Model builder introduction](images/model_builder_intro.png)"
   ]
  },
  {
   "cell_type": "markdown",
   "id": "confirmed-density",
   "metadata": {},
   "source": [
    "Start by dragging and dropping inputs. Remember which ones we defined previously, namely vector layer and a list of fields:"
   ]
  },
  {
   "cell_type": "code",
   "execution_count": null,
   "id": "increasing-arthritis",
   "metadata": {},
   "outputs": [],
   "source": [
    "input_layer_path = 'C:/Users/tatu/pyqgis_practical/data/practical_data.gpkg|layername=NUTS2_FIN_pop'\n",
    "fields_to_keep = ['name', 'pop']"
   ]
  },
  {
   "cell_type": "markdown",
   "id": "arabic-patrol",
   "metadata": {},
   "source": [
    "Equivalently, first drag _Vector layer_, then _Vector field_. Below are the parameters definitions for both. Make sure to toggle _Accept multiple fields_ for the field input:\n",
    "![Vector layer and field model inputs](images/model_builder_vector_input.png)"
   ]
  },
  {
   "cell_type": "markdown",
   "id": "spread-process",
   "metadata": {},
   "source": [
    "Next, click the algorithms tab active. The whole algorithm toolbox and a search function is available. Search for _Drop fields_ and drag it to the model.\n",
    "\n",
    "In the properties window that opens, change the input type to _Model input_ for both _Input layer_ and _Fields to drop_. Also write _Kept fields_ in the output box:\n",
    "![Setting drop field algorithm properties](images/drop_field_parameters.png)"
   ]
  },
  {
   "cell_type": "markdown",
   "id": "massive-reason",
   "metadata": {},
   "source": [
    "Now you should have something like this:\n",
    "\n",
    "![Opening script template](images/drop_fields_model.JPG)"
   ]
  },
  {
   "cell_type": "markdown",
   "id": "emotional-might",
   "metadata": {},
   "source": [
    "This is a fully functional model that gives the user an option to select a layer and fields in it, and the drops the selected fields. Hmm, but we want to keep the fields. To implemented that, we need to apply the custom Python logic created before and create a new tool.\n",
    "\n",
    "Press the button with Python logo (_Export as script algorithm_). It throws a Script editor window where the model is expressed as Python code. Let's first briefly explore the code to understand processing scripts."
   ]
  },
  {
   "cell_type": "markdown",
   "id": "af9b15ad",
   "metadata": {},
   "source": [
    "### Understanding processing scripts\n",
    "\n",
    "The first thing you might notice are the imports. The Python console imports qgis.core automatically, but the same is not true of processing scripts. Following good coding practices, only the necessary methods are imported."
   ]
  },
  {
   "cell_type": "code",
   "execution_count": null,
   "id": "4ea5cab3",
   "metadata": {},
   "outputs": [],
   "source": [
    "from qgis.core import QgsProcessing\n",
    "from qgis.core import QgsProcessingAlgorithm\n",
    "from qgis.core import QgsProcessingMultiStepFeedback\n",
    "from qgis.core import QgsProcessingParameterVectorLayer\n",
    "from qgis.core import QgsProcessingParameterField\n",
    "from qgis.core import QgsProcessingParameterFeatureSink\n",
    "import processing"
   ]
  },
  {
   "cell_type": "markdown",
   "id": "e335be7a",
   "metadata": {},
   "source": [
    "Next, the script defines a **class** that inherits from the general [QgsProcessingAlgorithm](https://qgis.org/pyqgis/3.22/core/QgsProcessingParameterField.html#qgis.core.QgsProcessingParameterField)."
   ]
  },
  {
   "cell_type": "code",
   "execution_count": null,
   "id": "feddbce5",
   "metadata": {},
   "outputs": [],
   "source": [
    "class Model(QgsProcessingAlgorithm):"
   ]
  },
  {
   "cell_type": "markdown",
   "id": "f6202f79",
   "metadata": {},
   "source": [
    "Under this class, there are methods that both define metadata information, such as the algorithm identifier and display name, and run the actual processing. For the interested, [here's a thorough description of all the mandatory methods](https://docs.qgis.org/latest/en/docs/user_manual/processing/scripts.html#extending-qgsprocessingalgorithm)."
   ]
  },
  {
   "cell_type": "markdown",
   "id": "signal-documentation",
   "metadata": {},
   "source": [
    "The script is currently generically named \"model\". **Change the name to _Keep fields_** under _name_, _displayName_, _createInstance_ and class definition as shown below\n",
    "![Script name changes](images/keep_fields_script_names.png)"
   ]
  },
  {
   "cell_type": "markdown",
   "id": "industrial-official",
   "metadata": {},
   "source": [
    "The workhorse methods are _initAlgorithm_ and _processAlgorithm_. In the initiation step, the input **and output** [parameters](https://qgis.org/pyqgis/latest/core/QgsProcessingParameters.html) are defined.  Notice that the settings are the same we did previously graphically.\n",
    "\n",
    "BTW, the order the parameters are written here defines the order they're shown in the program. Therefore, if you want the user to first select the layer and then the fields, insert QgsProcessingParameterVectorLayer first."
   ]
  },
  {
   "cell_type": "code",
   "execution_count": null,
   "id": "traditional-spending",
   "metadata": {},
   "outputs": [],
   "source": [
    "def initAlgorithm(self, config=None):\n",
    "    self.addParameter(QgsProcessingParameterVectorLayer('Inputlayer', 'Input layer', defaultValue=None))\n",
    "    \n",
    "    self.addParameter(QgsProcessingParameterField('Fieldstokeep', 'Fields to keep', \n",
    "                                                  type=QgsProcessingParameterField.Any, \n",
    "                                                  parentLayerParameterName='Inputlayer', \n",
    "                                                  allowMultiple=True, defaultValue=None))\n",
    "    \n",
    "    self.addParameter(QgsProcessingParameterFeatureSink('KeptFields', 'Kept fields', \n",
    "                                                        type=QgsProcessing.TypeVectorAnyGeometry, \n",
    "                                                        createByDefault=True, supportsAppend=True, \n",
    "                                                        defaultValue=None))"
   ]
  },
  {
   "cell_type": "markdown",
   "id": "lovely-kuwait",
   "metadata": {},
   "source": [
    "Currently, the processing simply defines the parameters for Drop fields algorithm, runs it and returns a result dictionary."
   ]
  },
  {
   "cell_type": "code",
   "execution_count": null,
   "id": "romantic-repository",
   "metadata": {},
   "outputs": [],
   "source": [
    "def processAlgorithm(self, parameters, context, model_feedback):\n",
    "    # Use a multi-step feedback, so that individual child algorithm progress reports are adjusted for the\n",
    "    # overall progress through the model\n",
    "    feedback = QgsProcessingMultiStepFeedback(1, model_feedback)\n",
    "    results = {}\n",
    "    outputs = {}\n",
    "\n",
    "    # Drop field(s)\n",
    "    alg_params = {\n",
    "        'COLUMN': parameters['Fieldstokeep'],\n",
    "        'INPUT': parameters['Inputlayer'],\n",
    "        'OUTPUT': parameters['KeptFields']\n",
    "    }\n",
    "    \n",
    "    outputs['DropFields'] = processing.run('qgis:deletecolumn', alg_params, \n",
    "                                           context=context, feedback=feedback, \n",
    "                                           is_child_algorithm=True)\n",
    "    results['KeptFields'] = outputs['DropFields']['OUTPUT']\n",
    "    return results"
   ]
  },
  {
   "cell_type": "markdown",
   "id": "engaging-player",
   "metadata": {},
   "source": [
    "### Creating a new processing script\n",
    "Let's start inserting our own code. First, we need the vector layer and a list of fields to keep. The pre-made code calls the parameter dictionary, like:"
   ]
  },
  {
   "cell_type": "code",
   "execution_count": null,
   "id": "impressed-furniture",
   "metadata": {},
   "outputs": [],
   "source": [
    "'INPUT': parameters['Inputlayer']"
   ]
  },
  {
   "cell_type": "markdown",
   "id": "weird-decision",
   "metadata": {},
   "source": [
    "But this returns a _string_ by default, not the objects we need. QgsProcessingAlgorithm has [methods to return the actual objects](https://qgis.org/pyqgis/latest/core/QgsProcessingAlgorithm.html#qgis.core.QgsProcessingAlgorithm.parameterAsVectorLayer)"
   ]
  },
  {
   "cell_type": "code",
   "execution_count": null,
   "id": "sealed-gazette",
   "metadata": {},
   "outputs": [],
   "source": [
    "input_layer = self.parameterAsVectorLayer(parameters, \"Inputlayer\", context)\n",
    "fields_to_keep = self.parameterAsFields(parameters, 'Fieldstokeep', context)"
   ]
  },
  {
   "cell_type": "markdown",
   "id": "infectious-approach",
   "metadata": {},
   "source": [
    "Next, insert the field selection code used previously:"
   ]
  },
  {
   "cell_type": "code",
   "execution_count": null,
   "id": "constitutional-pressing",
   "metadata": {},
   "outputs": [],
   "source": [
    "all_fields = input_layer.fields().names()\n",
    "        \n",
    "drop_fields = [field for field in all_fields if field not in fields_to_keep]"
   ]
  },
  {
   "cell_type": "markdown",
   "id": "gentle-december",
   "metadata": {},
   "source": [
    "Now that drop_fields contains the fields we want to delete, change the COLUMN paramater to drop_fields:"
   ]
  },
  {
   "cell_type": "code",
   "execution_count": null,
   "id": "oriented-houston",
   "metadata": {},
   "outputs": [],
   "source": [
    "alg_params = {\n",
    "    'COLUMN': drop_fields,\n",
    "    'INPUT': parameters['Inputlayer'],\n",
    "    'OUTPUT': parameters['KeptFields']\n",
    "}"
   ]
  },
  {
   "cell_type": "markdown",
   "id": "significant-engineering",
   "metadata": {},
   "source": [
    "All in all, the script looks like this:"
   ]
  },
  {
   "cell_type": "code",
   "execution_count": null,
   "id": "aquatic-prairie",
   "metadata": {},
   "outputs": [],
   "source": [
    "from qgis.core import QgsProcessing\n",
    "from qgis.core import QgsProcessingAlgorithm\n",
    "from qgis.core import QgsProcessingMultiStepFeedback\n",
    "from qgis.core import QgsProcessingParameterVectorLayer\n",
    "from qgis.core import QgsProcessingParameterField\n",
    "from qgis.core import QgsProcessingParameterFeatureSink\n",
    "import processing\n",
    "\n",
    "\n",
    "class KeepFields(QgsProcessingAlgorithm):\n",
    "\n",
    "    def initAlgorithm(self, config=None):\n",
    "        self.addParameter(QgsProcessingParameterVectorLayer('Inputlayer', 'Input layer', defaultValue=None))\n",
    "        self.addParameter(QgsProcessingParameterField('Fieldstokeep', 'Fields to keep', type=QgsProcessingParameterField.Any, parentLayerParameterName='Inputlayer', allowMultiple=True, defaultValue=None))\n",
    "        self.addParameter(QgsProcessingParameterFeatureSink('KeptFields', 'Kept fields', type=QgsProcessing.TypeVectorAnyGeometry, createByDefault=True, supportsAppend=True, defaultValue=None))\n",
    "\n",
    "    def processAlgorithm(self, parameters, context, model_feedback):\n",
    "        # Use a multi-step feedback, so that individual child algorithm progress reports are adjusted for the\n",
    "        # overall progress through the model\n",
    "        feedback = QgsProcessingMultiStepFeedback(1, model_feedback)\n",
    "        results = {}\n",
    "        outputs = {}\n",
    "\n",
    "        input_layer = self.parameterAsVectorLayer(parameters, \"Inputlayer\", context)\n",
    "        fields_to_keep = self.parameterAsFields(parameters, 'Fieldstokeep', context)\n",
    "        \n",
    "        all_fields = input_layer.fields().names()\n",
    "        \n",
    "        drop_fields = [field for field in all_fields if field not in fields_to_keep]\n",
    "\n",
    "        # Drop field(s)\n",
    "        alg_params = {\n",
    "            'COLUMN': drop_fields,\n",
    "            'INPUT': parameters['Inputlayer'],\n",
    "            'OUTPUT': parameters['KeptFields']\n",
    "        }\n",
    "        outputs['DropFields'] = processing.run('qgis:deletecolumn', alg_params, context=context, feedback=feedback, is_child_algorithm=True)\n",
    "        results['KeptFields'] = outputs['DropFields']['OUTPUT']\n",
    "        return results\n",
    "\n",
    "    def name(self):\n",
    "        return 'keepFields'\n",
    "\n",
    "    def displayName(self):\n",
    "        return 'Keep fields'\n",
    "\n",
    "    def group(self):\n",
    "        return ''\n",
    "\n",
    "    def groupId(self):\n",
    "        return ''\n",
    "\n",
    "    def createInstance(self):\n",
    "        return KeepFields()"
   ]
  },
  {
   "cell_type": "markdown",
   "id": "resident-radiation",
   "metadata": {},
   "source": [
    "**Save your script** locally for example as keep_fields.py.\n",
    "\n",
    "After saving, close the script window. From prosessing toolboxes' Python drop-down, **select _Add script to toolbox_ and add the script file**. This adds _Keep fields_ in the toolbox under _Scripts_. You may run the tool to test that it indeed works.\n",
    "\n",
    "![Adding script to toolbox](images/add_script_to_toolbox.JPG)"
   ]
  },
  {
   "cell_type": "markdown",
   "id": "handy-asset",
   "metadata": {},
   "source": [
    "### TASK: Finalizing the model\n",
    "- Re-create the simplify-and-trim algorithm with the graphical modeler using _Simplify_ and _Keep fields_. It should look something like the pic below.\n",
    "    - NOTE! Use _Algorithm output_ as the input layer for the second algorithm.\n",
    "    - Simplification tolerance is simply a _Number_ input.\n",
    "\n",
    "![Final model](images/simplify_and_trim_final.png)"
   ]
  },
  {
   "cell_type": "markdown",
   "id": "dress-virginia",
   "metadata": {},
   "source": [
    "## Wrapping up processing\n",
    "The take-home messages of this session were:\n",
    "- Processing algorithms can be run, chained and expanded upon with PyQGIS to create efficient automated GIS processes.\n",
    "- New processing algorithms can be created by using the model builder – these models can be expanded with Python.\n",
    "\n",
    "While this tutorial used graphic modeler to create a basis for the scripts, new processing scripts can be created purely by code as well. \n",
    "\n",
    "To do this, see the upper row tools of _Processing toolbox_, click on the Python drop-down menu and select _Create new script from template_. [See the user manual for a tutorial](https://docs.qgis.org/latest/en/docs/user_manual/processing/console.html#creating-scripts-and-running-them-from-the-toolbox)\n",
    "\n",
    "![Opening script template](images/opening_script_template.JPG)"
   ]
  },
  {
   "cell_type": "markdown",
   "id": "c927db20",
   "metadata": {},
   "source": [
    "# A look at plugin development"
   ]
  }
 ],
 "metadata": {
  "kernelspec": {
   "display_name": "Python 3",
   "language": "python",
   "name": "python3"
  },
  "language_info": {
   "codemirror_mode": {
    "name": "ipython",
    "version": 3
   },
   "file_extension": ".py",
   "mimetype": "text/x-python",
   "name": "python",
   "nbconvert_exporter": "python",
   "pygments_lexer": "ipython3",
   "version": "3.8.5"
  }
 },
 "nbformat": 4,
 "nbformat_minor": 5
}
