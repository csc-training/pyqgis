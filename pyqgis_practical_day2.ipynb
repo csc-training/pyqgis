{
 "cells": [
  {
   "cell_type": "markdown",
   "id": "chicken-field",
   "metadata": {},
   "source": [
    "# PyQGIS: Expanding QGIS's functionality with Python. \n",
    "# Day 2 – Processing and plugins\n",
    "\n",
    "Yesterday, you learned the basics of PyQGIS: how to run code from the embedded Python console, how to use the central classes (such as QgsVectorLayer) and run operations of layer geometries and attributes. However, the strength of QGIS is its vast library of geospatial algorithms (both native and those added by plugins, such as GRASS) coupled with general data crunching tools. \n",
    "\n",
    "In these practicals, you will learn how to run processing algorithms via PyQGIS, even chaining multiple operations together and running batch processes on multiple layers. You will create automated processes using the graphic Model Builder and expand on the models with Python. The point of these exercises is to learn how to use Python in QGIS to create reproducible and easily shareable tools for automated spatial analysis.\n",
    "\n",
    "The final section is a brief look at QGIS plugin development – what are plugins, when to develop them, what are the basic parts of plugins and the underlying tools, like the QT framework. There's also a challenge related to modifying and adding to a simple graphical plugin."
   ]
  },
  {
   "cell_type": "markdown",
   "id": "quiet-arbor",
   "metadata": {},
   "source": [
    "### Preparations\n",
    "Open QGIS and load in all the layers from *practical_data.gpkg*. Do this via the GUI or, if you want to do the same programmatically, use the script below. Adapted [from the PyQGIS Cookbook](https://docs.qgis.org/latest/en/docs/pyqgis_developer_cookbook/cheat_sheet.html#layers)."
   ]
  },
  {
   "cell_type": "code",
   "execution_count": null,
   "id": "stylish-adaptation",
   "metadata": {},
   "outputs": [],
   "source": [
    "# EXAMPLE PATH: define the actual path on your system\n",
    "gpkg_path = \"C:/Users/tatu/pyqgis_practical/data/practical_data.gpkg\" # windows\n",
    "gpkg_layer = QgsVectorLayer(gpkg_path, \"whole_gpkg\", \"ogr\")\n",
    "\n",
    "# returns a list of strings describing the sublayers\n",
    "sub_strings = gpkg_layer.dataProvider().subLayers()\n",
    "# EXAMPLE: 1!!::!!Paavo!!::!!3027!!::!!MultiPolygon!!::!!geom!!::!!\n",
    "# !!::!! separates the values\n",
    "\n",
    "for sub_string in sub_strings:\n",
    "    layer_name = sub_string.split(gpkg_layer.dataProvider().sublayerSeparator())[1]\n",
    "    uri = \"{0}|layername={1}\".format(gpkg_path, layer_name)\n",
    "    # Create layer\n",
    "    sub_vlayer = QgsVectorLayer(uri, layer_name, 'ogr')\n",
    "    # Add layer to map\n",
    "    if sub_vlayer.isValid():\n",
    "        QgsProject.instance().addMapLayer(sub_vlayer)\n",
    "    else:\n",
    "        print(\"Can't add layer\", layer_name)"
   ]
  },
  {
   "cell_type": "markdown",
   "id": "second-jacket",
   "metadata": {},
   "source": [
    "Next, make sure you have the processing toolbox open in the GUI. If not, open it from the drop down menu _Processing > Toolbox_. If the toolbox is unavailable for some reason, [follow these instructions](https://docs.qgis.org/3.22/en/docs/training_manual/processing/set_up.html) to remedy."
   ]
  },
  {
   "cell_type": "markdown",
   "id": "1d28ad90",
   "metadata": {},
   "source": [
    "### Data description\n",
    "As are reminder, below are brief descriptions of the layers and relevant fields used in these practicals. The original datasets are available through Statistics Finland: here, the field names have been translated to English."
   ]
  },
  {
   "cell_type": "markdown",
   "id": "40d47669",
   "metadata": {},
   "source": [
    "| Layer    | Layer description |Fields | Field description | Source |\n",
    "| ----------- | ----------- | ----------- | ----------- |  ----------- |\n",
    "| **Helsinki_region_pop_squares**  |  Capital region population (2020) in 1 km x 1 km squares  |        || [Statistics Finland](https://www.paikkatietohakemisto.fi/geonetwork/srv/eng/catalog.search#/metadata/a901d40a-8a6b-4678-814c-79d2e2ab130c), CC-BY 4.0|\n",
    "|      |       | pop        |Population in 2020||\n",
    "|      |       | men / women        | Number of men or women| | \n",
    "|      |       | ages x_y        | Number of people in age group|| \n",
    "|  **NUTS2_FIN_POP**    |   Population (2020) in NUTS2 regions (suuralueet)    |       ||[Statistics Finland](https://www.paikkatietohakemisto.fi/geonetwork/srv/eng/catalog.search#/metadata/d136a588-7fc6-4865-8d7c-b50d1398e728), CC-BY 4.0|\n",
    "|      |       | nimi / name        | Name of the region||\n",
    "|      |       | pop        | Population in 2020||\n",
    "|  |  | total_pop_perc        | This region's share of total Finnish population||\n",
    "|  |  | male/female_perc        | Share of men or women in this region||\n",
    "| **Paavo** | Socio-economic statistics on postal regions |         || [Statistics Finland](https://www.stat.fi/tup/paavo/index_en.html), CC-BY 4.0 |\n",
    "|  |  | Too many to describe        | [See here for full description](https://www.stat.fi/static/media/uploads/tup/paavo/paavo_kuvaus_en.pdf) ||"
   ]
  },
  {
   "cell_type": "markdown",
   "id": "internal-client",
   "metadata": {},
   "source": [
    "### Table of contents:\n",
    "[**1. Processing algorithms**](#1.-Processing-algorithms)\n",
    "\n",
    "[1.1. Basics of processing algorithms](#1.1.-Basics-of-processing-algorithms)\n",
    "\n",
    "[Task 1](#TASK-1)\n",
    "\n",
    "[1.2. Running processing algorithms with PyQGIS](#1.2.-Running-processing-algorithms-with-PyQGIS)\n",
    "\n",
    "[1.2.1. Batch processing](#1.2.1.-Batch-processing)\n",
    "\n",
    "[1.2.2. Chaining algorithms](#1.2.2.-Chaining-algorithms)\n",
    "\n",
    "[Task 2](#TASK-2)\n",
    "\n",
    "[1.3. Recreating simplify_and_trim as a processing script](#1.3.-Recreating-simplify_and_trim-as-a-processing-script)\n",
    "\n",
    "[1.3.1 Graphical processing models](#1.3.1-Graphical-processing-models)\n",
    "\n",
    "[1.3.2. Building the script base as a graphical model](#1.3.2.-Building-the-script-base-as-a-graphical-model)\n",
    "\n",
    "[1.3.3. Understanding processing scripts](#1.3.3.-Understanding-processing-scripts)\n",
    "\n",
    "[1.3.4. Creating a new processing script](#1.3.4.-Creating-a-new-processing-script)\n",
    "\n",
    "[TASK 3: Finalizing the model](#TASK-3:-Finalizing-the-model)\n",
    "\n",
    "[1.4. Wrapping up processing](#1.4.-Wrapping-up-processing)\n",
    "\n",
    "[**Challenge X: Processing algorithm with the @alg decorator**](#Challenge-X:-Processing-algorithm-with-the-@alg-decorator)\n",
    "\n",
    "\n",
    "[**2. A look at plugin development**](#2.-A-look-at-plugin-development)\n",
    "\n",
    "[2.1. Plugins: what are they good for?](#2.1.-Plugins:-what-are-they-good-for?)\n",
    "\n",
    "[2.2. QT framework: signals and slots](#2.2.-QT-framework:-signals-and-slots)\n",
    "\n",
    "[2.3. Elements of a QGIS plugin](#2.3.-Elements-of-a-QGIS-plugin)\n",
    "\n",
    "[**Challenge Y: Modifying a plugin**](#Challenge-Y:-Modifying-a-plugin)"
   ]
  },
  {
   "cell_type": "markdown",
   "id": "adverse-spring",
   "metadata": {},
   "source": [
    "## 1. Processing algorithms\n",
    "## 1.1. Basics of processing algorithms\n",
    "The processing framework is a collection of helpful functions for topics ranging from network analysis to raster terrain analysis. Both native and custom algorithms can be called programmatically, but doing so requires us to know a few things, namely the algorigthm name and its parameters.\n",
    "\n",
    "The simplest way to access these is by letting QGIS create the initial code for us."
   ]
  },
  {
   "cell_type": "markdown",
   "id": "desirable-holmes",
   "metadata": {},
   "source": [
    "### TASK 1\n",
    "- Using the GUI, run _Simplify_ algorithm, under _Vector geometry_. The easiest way to find it is to use the search bar. \n",
    "    - Change _Tolerance_ to 5000, otherwise keep the default settings.\n",
    "    - Run the algorithm. It should add a new memory layer with simplified geometry to the project.\n",
    "    \n",
    "![Simplify algorithm in gui](images/simplify_algorithm_settings.JPG)"
   ]
  },
  {
   "cell_type": "markdown",
   "id": "vulnerable-ireland",
   "metadata": {},
   "source": [
    "After running the algorithm, click on the _Processing_ drop-down menu and select _History_. Alternatively, _History_ can be opened through this button on the processing toolbox \n",
    "\n",
    "![History button](images/history_button.JPG)\n",
    "\n",
    "The opened window contains a list of previous processing runs (under ALGORITHM). \n",
    "\n",
    "Select the latest one. An algorithm call is displayed on the text box below the list and it looks something like this (formatted for clarity):"
   ]
  },
  {
   "cell_type": "code",
   "execution_count": null,
   "id": "compatible-alcohol",
   "metadata": {},
   "outputs": [],
   "source": [
    "processing.run(\"native:simplifygeometries\", \n",
    "               {'INPUT':'C:/Users/tatu/pyqgis_practical/data/practical_data.gpkg|layername=NUTS2_FIN_pop',\n",
    "                'METHOD':0,\n",
    "                'TOLERANCE':5000,\n",
    "                'OUTPUT':'TEMPORARY_OUTPUT'})"
   ]
  },
  {
   "cell_type": "markdown",
   "id": "transsexual-speech",
   "metadata": {},
   "source": [
    "What we have here is a call to the processing framework. Specifically, we name the algorithm and pass a dictionary of algorithm parameters (if you need a refresher of Python dicts, [check this out](https://www.w3schools.com/python/python_dictionaries.asp)). \n",
    "\n",
    "Notice that the parameters are identical to the ones we defined graphically. Though you might wonder how one could know that _Distance: Douglas-Peucker_ maps to method 0 without first running the algorithm graphically. The processing framework has a function for describing algorithms:"
   ]
  },
  {
   "cell_type": "code",
   "execution_count": null,
   "id": "municipal-proportion",
   "metadata": {},
   "outputs": [],
   "source": [
    ">>> processing.algorithmHelp(\"native:simplifygeometries\")"
   ]
  },
  {
   "cell_type": "code",
   "execution_count": null,
   "id": "surprised-devil",
   "metadata": {},
   "outputs": [],
   "source": [
    "Simplify (native:simplifygeometries)\n",
    "\n",
    "This algorithm simplifies the geometries in a line or polygon layer. \n",
    "---\n",
    "METHOD: Simplification method\n",
    "\n",
    "\tParameter type:\tQgsProcessingParameterEnum\n",
    "\n",
    "\tAvailable values:\n",
    "\t\t- 0: Distance (Douglas-Peucker)\n",
    "\t\t- 1: Snap to grid\n",
    "\t\t- 2: Area (Visvalingam)\n",
    "---"
   ]
  },
  {
   "cell_type": "markdown",
   "id": "bearing-salmon",
   "metadata": {},
   "source": [
    "There we have it. Use this function if you want to learn more about the algorithms and the parameters.\n",
    "\n",
    "However, to use the helper function, you need the algorithm's id string, which is different from its screen name (like _native:simplifygeometries_ vs. _Simplify_). Print all available algorithms [like this](https://docs.qgis.org/latest/en/docs/user_manual/processing/console.html#calling-algorithms-from-the-python-console). Because the hundreds of algorithms can be overwhelming, a simple filter is applied below:"
   ]
  },
  {
   "cell_type": "code",
   "execution_count": null,
   "id": "immediate-lindsay",
   "metadata": {},
   "outputs": [],
   "source": [
    ">>> for alg in QgsApplication.processingRegistry().algorithms():\n",
    "...        search_str = \"simplify\"\n",
    "...        if search_str in alg.displayName().lower():\n",
    "...            print(alg.displayName(), \"->\", alg.id())\n",
    "\n",
    "Simplify Network -> NetworkGT:Simplify Network\n",
    "Simplify -> native:simplifygeometries"
   ]
  },
  {
   "cell_type": "markdown",
   "id": "33fda7ac",
   "metadata": {},
   "source": [
    "The part before the colon (_NetworkGT_ and _native_) refers to the algorithm provider – in this case a plugin and the native processing library."
   ]
  },
  {
   "cell_type": "markdown",
   "id": "stuck-first",
   "metadata": {},
   "source": [
    "## 1.2. Running processing algorithms with PyQGIS\n",
    "If you ran the processing.run call before, you might've noticed that it simply returned a dictionary with a layer as the value – this is because an algorithm can have multiple outputs. The output objects are accessed by entering the key of the output: most often, that's 'OUTPUT'."
   ]
  },
  {
   "cell_type": "code",
   "execution_count": null,
   "id": "documentary-energy",
   "metadata": {},
   "outputs": [],
   "source": [
    ">>> input_layer_path = 'C:/Users/tatu/pyqgis_practical/data/practical_data.gpkg|layername=NUTS2_FIN_pop'\n",
    ">>> results = processing.run(\"native:simplifygeometries\", \n",
    "...              {'INPUT':input_layer_path,\n",
    "...                'METHOD':0,\n",
    "...                'TOLERANCE':5000,\n",
    "...                'OUTPUT':'TEMPORARY_OUTPUT'})\n",
    ">>> print(results)\n",
    "{'OUTPUT': <QgsVectorLayer: 'Simplified' (memory)>}\n",
    ">>> simplified_layer = results['OUTPUT']"
   ]
  },
  {
   "cell_type": "markdown",
   "id": "scenic-windows",
   "metadata": {},
   "source": [
    "The same can be achieved with one line of code by appending the output key to the end of the processing call. Like this:"
   ]
  },
  {
   "cell_type": "code",
   "execution_count": null,
   "id": "sexual-concentration",
   "metadata": {},
   "outputs": [],
   "source": [
    ">>> simplified_layer = processing.run(\"native:simplifygeometries\", \n",
    "...              {'INPUT':input_layer_path,\n",
    "...                'METHOD':0,\n",
    "...                'TOLERANCE':5000,\n",
    "...                'OUTPUT':'TEMPORARY_OUTPUT'})['OUTPUT'] #<--- output fetched directly"
   ]
  },
  {
   "cell_type": "markdown",
   "id": "social-angle",
   "metadata": {},
   "source": [
    "Or alternatively, to load the layer directly to the current project, use `runAndLoadResults`. \n"
   ]
  },
  {
   "cell_type": "code",
   "execution_count": null,
   "id": "suitable-retrieval",
   "metadata": {},
   "outputs": [],
   "source": [
    ">>> processing.runAndLoadResults(\"native:simplifygeometries\", \n",
    "                {'INPUT': input_layer_path,\n",
    "                'METHOD':0,\n",
    "                'TOLERANCE':5000,\n",
    "                'OUTPUT':'TEMPORARY_OUTPUT'})"
   ]
  },
  {
   "cell_type": "markdown",
   "id": "viral-lucas",
   "metadata": {},
   "source": [
    "### 1.2.1. Batch processing\n",
    "Running processing algorithms on multiple layers is straightforward to do with Python loops.\n",
    "\n",
    "The script below runs simplification on all vector layers in a project:"
   ]
  },
  {
   "cell_type": "code",
   "execution_count": null,
   "id": "white-jackson",
   "metadata": {},
   "outputs": [],
   "source": [
    "proj_layers = QgsProject.instance().mapLayers()\n",
    "\n",
    "for layer in proj_layers.values():\n",
    "    # excluding other layer types\n",
    "    if isinstance(layer, QgsVectorLayer):\n",
    "        processing.runAndLoadResults(\"native:simplifygeometries\", \n",
    "                {'INPUT': layer,\n",
    "                'METHOD':0,\n",
    "                'TOLERANCE':5000,\n",
    "                'OUTPUT':'TEMPORARY_OUTPUT'})"
   ]
  },
  {
   "cell_type": "markdown",
   "id": "respective-virgin",
   "metadata": {},
   "source": [
    "### 1.2.2. Chaining algorithms\n",
    "The real power of these algorithms gets unleashed when they're chained together to form an analysis pipeline. For example, you may remember how long and cumbersome the script used to get to simplify the geometries and fields of our input layer was previously. With the processing framework, we can offset the heavy lifting to two processing algorithms (_Simplify_ and _Drop fields_). Since we're _dropping_ fields instead of _keeping_ them, we need to do a bit of Python magic first.\n",
    "\n",
    "P.S. If we'd be using ≥QGIS 3.18., we could use [_Retain fields_](https://qgis.org/en/site/forusers/visualchangelog318/#feature-add-retain-fields-algorithm). It's not available in the current LTR."
   ]
  },
  {
   "cell_type": "code",
   "execution_count": null,
   "id": "national-table",
   "metadata": {},
   "outputs": [],
   "source": [
    "# defining input parameters\n",
    "\n",
    "# path to the NUTS2 layer\n",
    "input_layer_path = gpkg_path + '|layername=NUTS2_FIN_pop'\n",
    "\n",
    "input_layer = QgsVectorLayer(input_layer_path, \"input_layer\", \"ogr\")\n",
    "\n",
    "tolerance = 5000\n",
    "# list of field names to keep\n",
    "fields_to_keep = ['name', 'pop']\n",
    "\n",
    "# get all fields\n",
    "all_fields = input_layer.fields().names()\n",
    "\n",
    "# BASICALLY: create a list containing all fields except those that are in the \"keep\" list\n",
    "drop_fields = [field for field in all_fields if field not in fields_to_keep]\n",
    "\n",
    "# NOTE! Processing result is a dictionary, \n",
    "# here the result layer is fetched by key OUTPUT from the dictionary. \n",
    "simplified_layer = processing.run(\"native:simplifygeometries\", \n",
    "              {'INPUT':input_layer,\n",
    "               'METHOD':0,\n",
    "               'TOLERANCE':tolerance,\n",
    "               'OUTPUT':'TEMPORARY_OUTPUT'})['OUTPUT'] \n",
    "\n",
    "processing.runAndLoadResults(\"qgis:deletecolumn\", \n",
    "               {'INPUT':simplified_layer,\n",
    "                'COLUMN':drop_fields,\n",
    "                'OUTPUT':'TEMPORARY_OUTPUT'})"
   ]
  },
  {
   "cell_type": "markdown",
   "id": "52bb4c0e",
   "metadata": {},
   "source": [
    "Notice that with _runAndLoadResults_, the layer will be named automatically according to the algorithm definitions (like _Remaining fields_)."
   ]
  },
  {
   "cell_type": "markdown",
   "id": "excess-impossible",
   "metadata": {},
   "source": [
    "### TASK 2\n",
    "- Modify the script above by adding one more algorithm to the pipeline, namely _Add geometry attributes_\n",
    "    - Find out the algorithm id of _Add geometry attributes_.\n",
    "    - Create the parameter dictionary as needed for the algorithm (HINT: if you're lost, run the algorithm through the GUI first)\n",
    "    - Add the algorithm call to the end of the script and modify the previous algorithm call accordingly."
   ]
  },
  {
   "cell_type": "markdown",
   "id": "725d18e5",
   "metadata": {},
   "source": [
    "## 1.3. Recreating simplify_and_trim as a processing script\n",
    "\n",
    "Processing scripts like above are already quite neat, but they do have some weaknesses. Using them requires some programming understanding, which hinders their usability if you'd want to share your tools with others. It's much more user friendly to select the input parameters graphically like in the processing toolbox algorithms.\n",
    "\n",
    "We will create such a processing tool. One approach would be to write it in code from scratch, like the existing tools are. However, in the interested of time, we will create the base of the script using the graphic _Model Designer_ in QGIS. "
   ]
  },
  {
   "cell_type": "markdown",
   "id": "excited-radar",
   "metadata": {},
   "source": [
    "### 1.3.1 Graphical processing models\n",
    "Model designer enables defining inputs and chaining processing algorithms graphically. The picture below shows an example pipeline for creating a population heatmap clipped to sea boundaries. Subpicture (1) shows the pipeline running through centroid creation, KDE, and clipping with a mask layer. The yellow rectangles are inputs given by the user. These are shown as options when running the script, as seen in subpicture (2). The process outputs a raster (subpicture (3)).\n",
    "\n",
    "If you want to play around with this model, find it in *scripts > heatmap_from_pop_grid.model3*  in the practical materials.\n",
    "\n",
    "![Graphic modeler example](images/graphic_model.png)"
   ]
  },
  {
   "cell_type": "markdown",
   "id": "japanese-easter",
   "metadata": {},
   "source": [
    "Great thing about the models is that they can be exported to Python code. We will use this function later on. \n",
    "\n",
    "### 1.3.2. Building the script base as a graphical model\n",
    "Now, let's once again recreate the layer simplification and trimming script, this time as an installable processing tool.\n",
    "\n",
    "**Open the Model Designer window** from the the left-most button under _Processing Toolbox > Create new Model_.\n",
    "\n",
    "![Opening graphical model](images/opening_graphical_modeler.JPG)"
   ]
  },
  {
   "cell_type": "markdown",
   "id": "federal-heath",
   "metadata": {},
   "source": [
    "A mostly empty window is opened. The empty area in the middle is where we'll start building our script. On the left, there's a selection of inputs (1) and algorithms (2), which can be dragged to the builder. Other important functions are naming the model (3), exporting to a Python script (4) and running the model (5).\n",
    "\n",
    "![Model builder introduction](images/model_builder_intro.png)"
   ]
  },
  {
   "cell_type": "markdown",
   "id": "confirmed-density",
   "metadata": {},
   "source": [
    "Start by dragging and dropping inputs. Remember which ones we defined previously, namely vector layer and a list of fields:"
   ]
  },
  {
   "cell_type": "code",
   "execution_count": null,
   "id": "increasing-arthritis",
   "metadata": {},
   "outputs": [],
   "source": [
    "input_layer_path = gpkg_path + '|layername=NUTS2_FIN_pop'\n",
    "fields_to_keep = ['name', 'pop']"
   ]
  },
  {
   "cell_type": "markdown",
   "id": "arabic-patrol",
   "metadata": {},
   "source": [
    "Equivalently, first drag _Vector layer_, then _Vector field_. Below are the parameters definitions for both. Make sure to toggle _Accept multiple fields_ for the field input:\n",
    "![Vector layer and field model inputs](images/model_builder_vector_input.png)"
   ]
  },
  {
   "cell_type": "markdown",
   "id": "spread-process",
   "metadata": {},
   "source": [
    "Next, click the algorithms tab active. The whole algorithm toolbox and a search function is available. Search for _Drop fields_ and drag it to the model.\n",
    "\n",
    "In the properties window that opens, change the input type to _Model input_ for both _Input layer_ and _Fields to drop_. Also write _Kept fields_ in the output box:\n",
    "![Setting drop field algorithm properties](images/drop_field_parameters.png)"
   ]
  },
  {
   "cell_type": "markdown",
   "id": "massive-reason",
   "metadata": {},
   "source": [
    "Now you should have something like this:\n",
    "\n",
    "![Opening script template](images/drop_fields_model.JPG)"
   ]
  },
  {
   "cell_type": "markdown",
   "id": "emotional-might",
   "metadata": {},
   "source": [
    "This is a fully functional model that gives the user an option to select a layer and fields in it, and the drops the selected fields. Hmm, but we want to keep the fields. To implemented that, we need to apply the custom Python logic created before and create a new tool.\n",
    "\n",
    "Press the button with Python logo (_Export as script algorithm_). It throws a Script editor window where the model is expressed as Python code. Let's first briefly explore the code to understand processing scripts."
   ]
  },
  {
   "cell_type": "markdown",
   "id": "af9b15ad",
   "metadata": {},
   "source": [
    "### 1.3.3. Understanding processing scripts\n",
    "\n",
    "The first thing you might notice are the imports. The Python console imports qgis.core automatically, but the same is not true of processing scripts. Following good coding practices, only the necessary methods are imported."
   ]
  },
  {
   "cell_type": "code",
   "execution_count": null,
   "id": "4ea5cab3",
   "metadata": {},
   "outputs": [],
   "source": [
    "from qgis.core import QgsProcessing\n",
    "from qgis.core import QgsProcessingAlgorithm\n",
    "from qgis.core import QgsProcessingMultiStepFeedback\n",
    "from qgis.core import QgsProcessingParameterVectorLayer\n",
    "from qgis.core import QgsProcessingParameterField\n",
    "from qgis.core import QgsProcessingParameterFeatureSink\n",
    "import processing"
   ]
  },
  {
   "cell_type": "markdown",
   "id": "e335be7a",
   "metadata": {},
   "source": [
    "Next, the script defines a **class** that inherits from the general [QgsProcessingAlgorithm](https://qgis.org/pyqgis/3.22/core/QgsProcessingParameterField.html#qgis.core.QgsProcessingParameterField)."
   ]
  },
  {
   "cell_type": "code",
   "execution_count": null,
   "id": "feddbce5",
   "metadata": {},
   "outputs": [],
   "source": [
    "class Model(QgsProcessingAlgorithm):"
   ]
  },
  {
   "cell_type": "markdown",
   "id": "f6202f79",
   "metadata": {},
   "source": [
    "Under this class, there are methods that both define metadata information, such as the algorithm identifier and display name, and run the actual processing. For the interested, [here's a thorough description of all the mandatory methods](https://docs.qgis.org/latest/en/docs/user_manual/processing/scripts.html#extending-qgsprocessingalgorithm)."
   ]
  },
  {
   "cell_type": "markdown",
   "id": "signal-documentation",
   "metadata": {},
   "source": [
    "The script is currently generically named \"model\". **Change the name to _Keep fields_** under _name_, _displayName_, _createInstance_ and class definition as shown below\n",
    "![Script name changes](images/keep_fields_script_names.png)"
   ]
  },
  {
   "cell_type": "markdown",
   "id": "industrial-official",
   "metadata": {},
   "source": [
    "The workhorse methods are _initAlgorithm_ and _processAlgorithm_. In the initiation step, the input **and output** [parameters](https://qgis.org/pyqgis/latest/core/QgsProcessingParameters.html) are defined.  Notice that the settings are the same we did previously graphically.\n",
    "\n",
    "BTW, the order the parameters are written here defines the order they're shown in the program. Therefore, if you want the user to first select the layer and then the fields, insert QgsProcessingParameterVectorLayer first."
   ]
  },
  {
   "cell_type": "code",
   "execution_count": null,
   "id": "traditional-spending",
   "metadata": {},
   "outputs": [],
   "source": [
    "def initAlgorithm(self, config=None):\n",
    "    self.addParameter(QgsProcessingParameterVectorLayer('Inputlayer', 'Input layer', defaultValue=None))\n",
    "    \n",
    "    self.addParameter(QgsProcessingParameterField('Fieldstokeep', 'Fields to keep', \n",
    "                                                  type=QgsProcessingParameterField.Any, \n",
    "                                                  parentLayerParameterName='Inputlayer', \n",
    "                                                  allowMultiple=True, defaultValue=None))\n",
    "    \n",
    "    self.addParameter(QgsProcessingParameterFeatureSink('KeptFields', 'Kept fields', \n",
    "                                                        type=QgsProcessing.TypeVectorAnyGeometry, \n",
    "                                                        createByDefault=True, supportsAppend=True, \n",
    "                                                        defaultValue=None))"
   ]
  },
  {
   "cell_type": "markdown",
   "id": "lovely-kuwait",
   "metadata": {},
   "source": [
    "Currently, the processing simply defines the parameters for Drop fields algorithm, runs it and returns a result dictionary."
   ]
  },
  {
   "cell_type": "code",
   "execution_count": null,
   "id": "romantic-repository",
   "metadata": {},
   "outputs": [],
   "source": [
    "def processAlgorithm(self, parameters, context, model_feedback):\n",
    "    # Use a multi-step feedback, so that individual child algorithm progress reports are adjusted for the\n",
    "    # overall progress through the model\n",
    "    feedback = QgsProcessingMultiStepFeedback(1, model_feedback)\n",
    "    results = {}\n",
    "    outputs = {}\n",
    "\n",
    "    # Drop field(s)\n",
    "    alg_params = {\n",
    "        'COLUMN': parameters['Fieldstokeep'],\n",
    "        'INPUT': parameters['Inputlayer'],\n",
    "        'OUTPUT': parameters['KeptFields']\n",
    "    }\n",
    "    \n",
    "    outputs['DropFields'] = processing.run('qgis:deletecolumn', alg_params, \n",
    "                                           context=context, feedback=feedback, \n",
    "                                           is_child_algorithm=True)\n",
    "    results['KeptFields'] = outputs['DropFields']['OUTPUT']\n",
    "    return results"
   ]
  },
  {
   "cell_type": "markdown",
   "id": "engaging-player",
   "metadata": {},
   "source": [
    "### 1.3.4. Creating a new processing script\n",
    "Let's start inserting our own code. First, we need the vector layer and a list of fields to keep. The pre-made code calls the parameter dictionary, like:"
   ]
  },
  {
   "cell_type": "code",
   "execution_count": null,
   "id": "impressed-furniture",
   "metadata": {},
   "outputs": [],
   "source": [
    "'INPUT': parameters['Inputlayer']"
   ]
  },
  {
   "cell_type": "markdown",
   "id": "weird-decision",
   "metadata": {},
   "source": [
    "But this returns a _string_ by default, not the objects we need. QgsProcessingAlgorithm has [methods to return the actual objects](https://qgis.org/pyqgis/latest/core/QgsProcessingAlgorithm.html#qgis.core.QgsProcessingAlgorithm.parameterAsVectorLayer)"
   ]
  },
  {
   "cell_type": "code",
   "execution_count": null,
   "id": "sealed-gazette",
   "metadata": {},
   "outputs": [],
   "source": [
    "input_layer = self.parameterAsVectorLayer(parameters, \"Inputlayer\", context)\n",
    "fields_to_keep = self.parameterAsFields(parameters, 'Fieldstokeep', context)"
   ]
  },
  {
   "cell_type": "markdown",
   "id": "infectious-approach",
   "metadata": {},
   "source": [
    "Next, insert the field selection code used previously:"
   ]
  },
  {
   "cell_type": "code",
   "execution_count": null,
   "id": "constitutional-pressing",
   "metadata": {},
   "outputs": [],
   "source": [
    "all_fields = input_layer.fields().names()\n",
    "        \n",
    "drop_fields = [field for field in all_fields if field not in fields_to_keep]"
   ]
  },
  {
   "cell_type": "markdown",
   "id": "gentle-december",
   "metadata": {},
   "source": [
    "Now that drop_fields contains the fields we want to delete, change the COLUMN paramater to drop_fields:"
   ]
  },
  {
   "cell_type": "code",
   "execution_count": null,
   "id": "oriented-houston",
   "metadata": {},
   "outputs": [],
   "source": [
    "alg_params = {\n",
    "    'COLUMN': drop_fields,\n",
    "    'INPUT': parameters['Inputlayer'],\n",
    "    'OUTPUT': parameters['KeptFields']\n",
    "}"
   ]
  },
  {
   "cell_type": "markdown",
   "id": "significant-engineering",
   "metadata": {},
   "source": [
    "All in all, the script looks like this:"
   ]
  },
  {
   "cell_type": "code",
   "execution_count": null,
   "id": "aquatic-prairie",
   "metadata": {},
   "outputs": [],
   "source": [
    "from qgis.core import QgsProcessing\n",
    "from qgis.core import QgsProcessingAlgorithm\n",
    "from qgis.core import QgsProcessingMultiStepFeedback\n",
    "from qgis.core import QgsProcessingParameterVectorLayer\n",
    "from qgis.core import QgsProcessingParameterField\n",
    "from qgis.core import QgsProcessingParameterFeatureSink\n",
    "import processing\n",
    "\n",
    "\n",
    "class KeepFields(QgsProcessingAlgorithm):\n",
    "\n",
    "    def initAlgorithm(self, config=None):\n",
    "        self.addParameter(QgsProcessingParameterVectorLayer('Inputlayer', 'Input layer', defaultValue=None))\n",
    "        self.addParameter(QgsProcessingParameterField('Fieldstokeep', 'Fields to keep', type=QgsProcessingParameterField.Any, parentLayerParameterName='Inputlayer', allowMultiple=True, defaultValue=None))\n",
    "        self.addParameter(QgsProcessingParameterFeatureSink('KeptFields', 'Kept fields', type=QgsProcessing.TypeVectorAnyGeometry, createByDefault=True, supportsAppend=True, defaultValue=None))\n",
    "\n",
    "    def processAlgorithm(self, parameters, context, model_feedback):\n",
    "        # Use a multi-step feedback, so that individual child algorithm progress reports are adjusted for the\n",
    "        # overall progress through the model\n",
    "        feedback = QgsProcessingMultiStepFeedback(1, model_feedback)\n",
    "        results = {}\n",
    "        outputs = {}\n",
    "\n",
    "        input_layer = self.parameterAsVectorLayer(parameters, \"Inputlayer\", context)\n",
    "        fields_to_keep = self.parameterAsFields(parameters, 'Fieldstokeep', context)\n",
    "        \n",
    "        all_fields = input_layer.fields().names()\n",
    "        \n",
    "        drop_fields = [field for field in all_fields if field not in fields_to_keep]\n",
    "\n",
    "        # Drop field(s)\n",
    "        alg_params = {\n",
    "            'COLUMN': drop_fields,\n",
    "            'INPUT': parameters['Inputlayer'],\n",
    "            'OUTPUT': parameters['KeptFields']\n",
    "        }\n",
    "        outputs['DropFields'] = processing.run('qgis:deletecolumn', alg_params, context=context, feedback=feedback, is_child_algorithm=True)\n",
    "        results['KeptFields'] = outputs['DropFields']['OUTPUT']\n",
    "        return results\n",
    "\n",
    "    def name(self):\n",
    "        return 'keepFields'\n",
    "\n",
    "    def displayName(self):\n",
    "        return 'Keep fields'\n",
    "\n",
    "    def group(self):\n",
    "        return ''\n",
    "\n",
    "    def groupId(self):\n",
    "        return ''\n",
    "\n",
    "    def createInstance(self):\n",
    "        return KeepFields()"
   ]
  },
  {
   "cell_type": "markdown",
   "id": "resident-radiation",
   "metadata": {},
   "source": [
    "**Save your script** locally for example as keep_fields.py.\n",
    "\n",
    "After saving, close the script window. From prosessing toolboxes' Python drop-down, **select _Add script to toolbox_ and add the script file**. This adds _Keep fields_ in the toolbox under _Scripts_. You may run the tool to test that it indeed works.\n",
    "\n",
    "![Adding script to toolbox](images/add_script_to_toolbox.JPG)"
   ]
  },
  {
   "cell_type": "markdown",
   "id": "handy-asset",
   "metadata": {},
   "source": [
    "### TASK 3: Finalizing the model\n",
    "- Re-create the simplify-and-trim algorithm with the graphical modeler using _Simplify_ and _Keep fields_. It should look something like the pic below.\n",
    "    - NOTE! Use _Algorithm output_ as the input layer for the second algorithm.\n",
    "    - Simplification tolerance is simply a _Number_ input.\n",
    "    - To use the model click `Run model` button (green arrow) in upper toolbar and fill in inputs as you wish. \n",
    "    - If the input fields are not in logical order (fields before layer), adjust this under menu `Model` -> `Reorder Model Inputs`. \n",
    "\n",
    "![Final model](images/simplify_and_trim_final.png)\n",
    "\n",
    "You may save and add the finalized model to the toolbox to use it anytime and in other processing scripts!\n",
    "\n"
   ]
  },
  {
   "cell_type": "markdown",
   "id": "dress-virginia",
   "metadata": {},
   "source": [
    "## 1.4. Wrapping up processing\n",
    "The take-home messages of this session were:\n",
    "- Processing algorithms can be run, chained and expanded upon with PyQGIS to create efficient automated GIS processes.\n",
    "- New processing algorithms can be created by using the model builder – these models can be expanded with Python.\n",
    "\n",
    "While this tutorial used graphic modeler to create a basis for the scripts, new processing scripts can be created purely by code as well. \n",
    "\n",
    "To do this, see the upper row tools of _Processing toolbox_, click on the Python drop-down menu and select _Create new script from template_. [See the user manual for a tutorial](https://docs.qgis.org/latest/en/docs/user_manual/processing/console.html#creating-scripts-and-running-them-from-the-toolbox). Another example is given in Challenge X.\n",
    "\n",
    "![Opening script template](images/opening_script_template.JPG)"
   ]
  },
  {
   "cell_type": "markdown",
   "id": "fe938320",
   "metadata": {},
   "source": [
    "## Challenge X: Processing algorithm with the @alg decorator\n",
    "There's a way to create processing scripts that takes away a lot of the empty \"boilerplate\" code. It uses a Python trick called [decorators](https://www.programiz.com/python-programming/decorator): the inputs and outputs are defined by calls to @alg. See [here for a full explanation and an example](https://docs.qgis.org/3.22/en/docs/user_manual/processing/scripts.html#the-alg-decorator)."
   ]
  },
  {
   "cell_type": "markdown",
   "id": "6097792d",
   "metadata": {},
   "source": [
    "The code below defines an algorithm that:\n",
    " - Gets a polygon input and a value field, such as population, from the same layer\n",
    " - Creates as many points inside the layer as the value field's attribute is for that feature\n",
    " - Scales the amount of point by a scaling factor given as input (e.g. population for a region is 1500 and scaling factor is 10 --> 1500 / 10 = 150 points). It does this by creating a [_QgsProperty_](https://qgis.org/pyqgis/3.16/core/QgsProperty.html) from an expression.\n",
    " - Outputs the point layer _and_ a count of how many features there are in the input layer\n",
    " \n",
    "Such an algorithm could for example be used to visualize the population in an area.."
   ]
  },
  {
   "cell_type": "markdown",
   "id": "0ed3fe8a",
   "metadata": {},
   "source": [
    "### CHALLENGE X TASKS\n",
    "1. There's an unused output called SUM_OF_FIELD. Use aggregation (check the first day for a refresher) to get the sum of values in the given value field: append the value to the results dictionary.\n",
    "\n",
    "2. Add another algorithm of your choice after the points generation and use the points as inputs. The algorithm could for example be _Buffer_ or _Rasterize_. Return both the outputs both processes. [See here for an example](https://docs.qgis.org/3.22/en/docs/user_manual/processing/scripts.html#the-alg-decorator)."
   ]
  },
  {
   "cell_type": "code",
   "execution_count": null,
   "id": "99bedd87",
   "metadata": {},
   "outputs": [],
   "source": [
    "from qgis import processing\n",
    "from qgis.processing import alg\n",
    "from qgis.core import QgsProject, QgsProperty\n",
    "\n",
    "# INPUTS ARE DEFINED HERE\n",
    "@alg(name='polygonToAggregatedPoints', label='Polygons to aggregated points',\n",
    "     group='examplescripts', group_label='Example scripts')\n",
    "# 'INPUT' is the recommended name for the main input parameter\n",
    "@alg.input(type=alg.SOURCE, name='INPUT', label='Input vector layer')\n",
    "# 'OUTPUT' is the recommended name for the main output parameter\n",
    "@alg.input(type=alg.VECTOR_LAYER_DEST, name='OUTPUT',\n",
    "           label='Point output')\n",
    "@alg.input(type=alg.FIELD, name='VALUE_FIELD', parentLayerParameterName=\"INPUT\",\n",
    "           label='Value field to scale on')\n",
    "@alg.input(type=alg.NUMBER, name='SCALE_VALUE', label='Scale value',\n",
    "           default=10)\n",
    "@alg.output(type=alg.NUMBER, name='NUMBER_OF_FEATURES',\n",
    "            label='Number of features processed')\n",
    "#@alg.output(type=alg.NUMBER, name='SUM_OF_FIELD',\n",
    "#            label='Sum of value field')   \n",
    "\n",
    "def bufferrasteralg(self, parameters, context, feedback, inputs):\n",
    "    \"\"\"\n",
    "    Description of the algorithm.\n",
    "    (If there is no comment here, you will get an error)\n",
    "    \"\"\"\n",
    "    input_layer = self.parameterAsVectorLayer(parameters,\n",
    "                                                     'INPUT', context)\n",
    "    value_field = self.parameterAsString(parameters, 'VALUE_FIELD', context)\n",
    "    numfeatures = input_layer.featureCount()\n",
    "\n",
    "    scale_value = self.parameterAsDouble(parameters, 'SCALE_VALUE',\n",
    "                                            context)\n",
    "                                            \n",
    "    points_expression = QgsProperty.fromExpression('round(  \"{0}\" / {1} )'.format(value_field, str(scale_value)))\n",
    "    if feedback.isCanceled():\n",
    "        return {}\n",
    "    \n",
    "\n",
    "    points_generation = processing.run(\"native:randompointsinpolygons\", \n",
    "                        {'INPUT':parameters['INPUT'],\n",
    "                        'POINTS_NUMBER': points_expression,\n",
    "                        'MIN_DISTANCE':0,\n",
    "                        'OUTPUT': parameters['OUTPUT']},\n",
    "                        context=context,\n",
    "                        feedback=feedback,\n",
    "                        is_child_algorithm=True)\n",
    "\n",
    " \n",
    "    if feedback.isCanceled():\n",
    "        return {}\n",
    "    \n",
    "    results = {'OUTPUT': points_generation['OUTPUT'],\n",
    "                'NUMBER_OF_FEATURES': numfeatures}\n",
    "    return results"
   ]
  },
  {
   "cell_type": "markdown",
   "id": "c927db20",
   "metadata": {},
   "source": [
    "# 2. A look at plugin development\n",
    "This section serves as a brief introduction to plugins in QGIS. First, there's a discussion on why plugins are made through a few examples. Then the basic building blocks of a plugin are introduced. Throughout, there're links to various resources where you may read more on specific aspects of plugin development, if you're interested in engaging it yourself. The section is followed by a challenge where you may modify and examine a simple pre-made plugin."
   ]
  },
  {
   "cell_type": "markdown",
   "id": "suspected-issue",
   "metadata": {},
   "source": [
    "## 2.1. Plugins: what are they good for?\n",
    "QGIS consists both of [core plugins](https://docs.qgis.org/3.22/en/docs/user_manual/plugins/plugins.html#core-and-external-plugins), maintained by the program developers themselves, and external plugins by independent developers. So, plugins extend the base program in some way. But what does this mean in practice?\n",
    "\n",
    "A lot of times the plugins integrate some external service's functionality to QGIS: for example by allowing flexible download of rasters from [GeoCubes Finland](https://github.com/geoportti/GeoCubes-Finland-QGIS-Plugin) or to [add resources](https://qgis-contribution.github.io/QGIS-ResourceSharing/authoring/what-to-share.html) like processing scripts, styles and SVG images directly to QGIS from online repositories. Both of these plugins sport a custom graphical user interface:"
   ]
  },
  {
   "cell_type": "markdown",
   "id": "creative-amazon",
   "metadata": {},
   "source": [
    "![Examples of graphical plugins](images/graphical_plugin_examples.png)"
   ]
  },
  {
   "cell_type": "markdown",
   "id": "promising-finding",
   "metadata": {},
   "source": [
    "Sometimes the plugins add a neat new functionality, like [adding a globe visualization](https://github.com/GispoCoding/GlobeBuilder) to the current project. If such functions are deemed useful enough, they might be intergrated natively to the program over time.\n",
    "\n",
    "A custom user interface isn't a necessity for plugins. [Openlayers plugin](https://github.com/sourcepole/qgis-openlayers-plugin) has its main functionality (adding background maps) in a drop-down menu. [QNEAT3](https://root676.github.io/), a network analysis library, is a processing plugin: it adds a new provider and a bunch of scripts. The description of QNEAT3 mentions that some scripts require matplotlib Python plotting library: since QGIS includes a Python installation (on Windows), external libraries can easily be pip installed.\n",
    "\n",
    "As the examples above show, QGIS plugins can extend the base program in many forms. However, these materials focus on ones with custom GUI's.\n",
    "\n",
    "When is it beneficial to engage in plugin development? Plugin development can be time-consuming and not worth the while if you simply want to share a quick and dirty script with a co-worker. Models and processing scripts, too, are simpler than full GUI plugins since they have functionality to easily e.g. ask user for input and output paths. From the examples above, creating a GUI plugin might pay off when you have a service you want to reach more people or believe you can add a new necessary feature not possible with the existing tools."
   ]
  },
  {
   "cell_type": "markdown",
   "id": "gross-finding",
   "metadata": {},
   "source": [
    "## 2.2. QT framework: signals and slots\n",
    "QGIS is built on a development framework called [QT](https://www.qt.io/). Basically all the user interface elements (buttons, tables, windows etc.) are based on QT objects.\n",
    "\n",
    "A central QT concept is signals and slots. These two are used to connect what the user does to actions in the program: signal sends the information that something has been done and slot is the reaction. Signals can carry information related to the action made by the user or the state of the system, and then pass these to the slots, which are often Python functions. For a thorough discussion of these concepts, see [Nils Nolde's tutorial](https://gis-ops.com/qgis-3-plugin-tutorial-pyqt-signal-slot-explained/).\n",
    "\n",
    "As an example of the signal/slot system in action, pressing _Zoom to layer_ ![Zoom to layer icon](images/zoom_to_layer.JPG)\n",
    "sends a signal that the button has been clicked to the program and QGIS reacts presumably by calling ***iface.zoomToActiveLayer()*** behind the scenes.\n",
    "\n",
    "Developers of plugins with GUI's must similarly think in terms of what each element in their interface does and how the user can interact with it. "
   ]
  },
  {
   "cell_type": "markdown",
   "id": "departmental-eight",
   "metadata": {},
   "source": [
    "## 2.3. Elements of a QGIS plugin\n",
    "QGIS plugins written in Python (which pretty much all _external_ plugins are) are stored in a directory, which should have a few required and a few recommended files. This list is from [The PyQGIS developer cookbook](https://docs.qgis.org/latest/en/docs/pyqgis_developer_cookbook/plugins/plugins.html#plugin-files):"
   ]
  },
  {
   "cell_type": "code",
   "execution_count": null,
   "id": "serial-adventure",
   "metadata": {},
   "outputs": [],
   "source": [
    "PYTHON_PLUGINS_PATH/\n",
    "  MyPlugin/\n",
    "    __init__.py    --> *Initialization code: required*\n",
    "    metadata.txt   --> *Info about the plugin, its author etc.: required*\n",
    "    mainPlugin.py  --> *Actual plugin code: can have multiple .py files*\n",
    "    resources.qrc  --> *Resources, like paths to image files: likely useful*\n",
    "    resources.py   --> *Python compiled resources, likely useful*\n",
    "    form.ui        --> *Graphical user interface in XML format: likely useful*\n",
    "    form.py        --> *Python compiled version of GUI, likely useful*"
   ]
  },
  {
   "cell_type": "markdown",
   "id": "honest-civilian",
   "metadata": {},
   "source": [
    "_Resources.qrc_ and _form.ui_ are both related to QT: the first is a list of paths to inform QT where things like icon image files are found and the second instructions on how to format the UI. Both of these must be compiled, encodes the e.g. image paths to images as binary data in .py files. See [Ujaval Gandi's tutorial section 9 for more info on compiling the files](http://www.qgistutorials.com/it/docs/3/building_a_python_plugin.html#procedure).\n",
    "\n",
    "What about the plugin path? That's the path where QGIS loads the plugins from when the program is opened. The folder is found under the currently active profile's path. \n",
    "\n",
    "A shortcut to this path is available from QGIS interface: *Setting drop-down > User profiles > Open active profile folder*. From this folder navigate to *Python > Plugins*. Here you can find all your installed plugins. Check out a few of them! You may even open their main plugin .py files to see how other programmers have created their plugins.\n",
    "\n",
    "The plugin path may for example look like this:\n",
    "![Example plugins folder](images/plugins_folder.png)"
   ]
  },
  {
   "cell_type": "markdown",
   "id": "complimentary-sellers",
   "metadata": {},
   "source": [
    "## Challenge Y: Modifying a plugin\n",
    "In the course materials folder under _data_, there's another [(zipped) folder called *cool_plugin*](https://github.com/csc-training/pyqgis/blob/main/data/cool_plugin.zip). Download the zipped folder and unzip it in your project folder.  Within the folder are files for a functional, albeit simple plugin. If you're interested in creating such a plugin from the scratch, [here's an earlier tutorial](https://autogis-site.readthedocs.io/en/latest/lessons/PyQGIS/pyqgis.html#developing-the-plugin) by the author.\n",
    "\n",
    "#### Challenge preparations\n",
    "First copy the whole folder and paste it to the active profile's _plugins_ folder (see above on how to locate this folder). \n",
    "\n",
    "Then save your current project and restart QGIS. This should load the Cool Plugin and add it under _Plugins > Cool plugin_ drop down menu and as a default icon in the toolbar ![Default icon](images/default_plugin_icon.JPG)\n",
    "\n",
    "Running the plugin throws this GUI:\n",
    "\n",
    "![Cool plugin interface](images/cool_plugin_interface.JPG)"
   ]
  },
  {
   "cell_type": "markdown",
   "id": "higher-compound",
   "metadata": {},
   "source": [
    "Try pressing the magic button!\n",
    "Yeah, doesn't do much. Your task is to add more functionality to the plugin. Start modifying the code in *plugins > Cool_plugin > cool_plugin.py*. You can do the editing in any text editor: like simply Notepad on Windows.\n",
    "\n",
    "The function's we're interested in are at the bottom of the script. There's _coolFunction_ and _run_. \n",
    "\n",
    "In _run_ Magic Button is connected to the cool function – or, for the clicked signal, the _coolFunction_ slot is defined:"
   ]
  },
  {
   "cell_type": "code",
   "execution_count": null,
   "id": "stupid-elevation",
   "metadata": {},
   "outputs": [],
   "source": [
    "self.dlg.magicButton.clicked.connect(self.coolFunction)"
   ]
  },
  {
   "cell_type": "markdown",
   "id": "compound-malpractice",
   "metadata": {},
   "source": [
    "Translated to human speak, this means:"
   ]
  },
  {
   "cell_type": "code",
   "execution_count": null,
   "id": "naval-architecture",
   "metadata": {},
   "outputs": [],
   "source": [
    "Every time this button is pressed, run coolFunction"
   ]
  },
  {
   "cell_type": "markdown",
   "id": "instant-indianapolis",
   "metadata": {},
   "source": [
    "coolFunction simply throws a QT [messagebox](https://doc.qt.io/qt-5/qmessagebox.html) (the third parameter is the actual message)."
   ]
  },
  {
   "cell_type": "code",
   "execution_count": null,
   "id": "competent-endorsement",
   "metadata": {},
   "outputs": [],
   "source": [
    "def coolFunction(self):\n",
    "    \"\"\"Does something cool (but currently just throws an messagebox)\"\"\"\n",
    "    QMessageBox.information(self.dlg, \"Cool message\", \"You just clicked a button\")"
   ]
  },
  {
   "cell_type": "markdown",
   "id": "plain-apparel",
   "metadata": {},
   "source": [
    "FINALLY: install a plugin called **Plugin reloader** from _Plugins > Manage and install plugins_. This allows reloading changes made into the code without restarting QGIS every time. Once plugin reloader is installed, configure its settings so that it reinstalls _Cool plugin_.\n",
    "![Cool plugin configuration](images/plugin_reloader_settings.JPG)"
   ]
  },
  {
   "cell_type": "markdown",
   "id": "champion-prediction",
   "metadata": {},
   "source": [
    "### CHALLENGE Y TASKS\n",
    "1. Instead of giving out a static message, load in the current active layer and write the layer's name in the messagebox. If there're no layers in the project, write \"No layers available!\". \n",
    "    - Hint: Reference to the interface is saved as `self.iface`. \n",
    "    - What type of object does `activeLayer()` return when there are no layers?\n",
    "\n",
    "2. Add a new GUI object by modifying *cool_plugin_dialog_base.ui* in _QT Designer_. QT designer is a graphical UI designer program, which should be installed alongside QGIS. [See these instuctions on adding GUI elements](https://autogis-site.readthedocs.io/en/latest/lessons/PyQGIS/pyqgis.html#adding-ui-elements).\n",
    "    - Add another `Push button` with the text \"Simplify\".\n",
    "    - Add a new function that processes geometry simplification on the active layer (if one is available).\n",
    "    - Connect the button and the function.\n",
    "    - Remember to import `Processing`\n",
    "\n",
    "3. Add another GUI element. For example, add a new _QSpinBox_, which allows the user to input numerical values. Use the Spinbox input as the tolerance level for the simplification level.\n",
    "    - GUI elements can be accessed through `self.dlg.elementName`. \n",
    "    - How to access the current value of the spinbox? [Hint](https://doc.qt.io/qt-5/qspinbox.html#value-prop)"
   ]
  },
  {
   "cell_type": "markdown",
   "id": "planned-being",
   "metadata": {},
   "source": [
    "The final plugin can, for example, look like this. You can [download this plugin from here](https://github.com/csc-training/pyqgis/blob/main/data/cool_plugin_SOLUTIONS.zip):\n",
    "\n",
    "![Cool plugin final view](images/cool_plugin_final.JPG)"
   ]
  },
  {
   "cell_type": "markdown",
   "id": "nearby-columbia",
   "metadata": {},
   "source": [
    "## 3. PyQGIS resources\n",
    "Below are some great resources for delving into PyQGIS:\n",
    "\n",
    "### General resources\n",
    "[PyQGIS Developer Cookbook](https://docs.qgis.org/latest/en/docs/pyqgis_developer_cookbook/index.html), by [QGIS contributors](https://docs.qgis.org/3.16/en/docs/user_manual/preamble/contributors.html)\n",
    "\n",
    "[PyQGIS Documentation](https://qgis.org/pyqgis/latest/index.html), by [QGIS contributors](https://docs.qgis.org/3.16/en/docs/user_manual/preamble/contributors.html)\n",
    "\n",
    "[Customizing QGIS with Python (course)](https://courses.spatialthoughts.com/pyqgis-in-a-day.html), by Ujaval Gandhi, shared under CC BY-NC 4.0\n",
    "\n",
    "[PyQGIS 101: Introduction to QGIS Python programming for non-programmers](https://anitagraser.com/pyqgis-101-introduction-to-qgis-python-programming-for-non-programmers/), by Anita Graser\n",
    "\n",
    "[The PyQGIS Programmer's Guide 3](http://locatepress.com/ppg3) (available for purchase) by Gary Sherman\n",
    "\n",
    "### Plugin development\n",
    "For starting out with plugin development, see these resources:\n",
    "\n",
    "[Building a Python Plugin (QGIS3)](http://www.qgistutorials.com/it/docs/3/building_a_python_plugin.html), by Ujaval Gandhi\n",
    "\n",
    "[QGIS 3 Plugin Tutorial – Plugin development reference guide](https://gis-ops.com/qgis-3-plugin-tutorial-plugin-development-reference-guide/), by Nils Nolde"
   ]
  }
 ],
 "metadata": {
  "kernelspec": {
   "display_name": "Python 3",
   "language": "python",
   "name": "python3"
  },
  "language_info": {
   "codemirror_mode": {
    "name": "ipython",
    "version": 3
   },
   "file_extension": ".py",
   "mimetype": "text/x-python",
   "name": "python",
   "nbconvert_exporter": "python",
   "pygments_lexer": "ipython3",
   "version": "3.8.5"
  }
 },
 "nbformat": 4,
 "nbformat_minor": 5
}
