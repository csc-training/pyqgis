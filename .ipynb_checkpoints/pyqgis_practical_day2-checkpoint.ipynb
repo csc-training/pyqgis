{
 "cells": [
  {
   "cell_type": "markdown",
   "id": "chicken-field",
   "metadata": {},
   "source": [
    "# PyQGIS: Expanding QGIS's functionality with Python. Day 2.\n",
    "\n",
    "Yesterday, you learned the basics of PyQGIS: how to run code from the embedded Python console, how to use the central classes (such as QgsVectorLayer) and run operations of layer geometries and attributes. However, the strength of QGIS is its vast library of geospatial algorithms (both native and those added by plugins, such as GRASS) coupled with general data crunching tools. \n",
    "\n",
    "In these practicals, we will learn how to run processing algorithms via PyQGIS, even chaining multiple operations together. We will create automated processes using the graphic Model Builder and link it with our Python code. The point of these exercises is to learn how to use Python in QGIS to create reproducible and easily shareable tools for spatial analysis needs.\n",
    "\n",
    "In this final section we will look at plugin development in QGIS: both at processing plugins and plugins with custom user interfaces."
   ]
  },
  {
   "cell_type": "markdown",
   "id": "quiet-arbor",
   "metadata": {},
   "source": [
    "### Preparations\n",
    "Open QGIS and load in all the layers from _practical_data.gpkg_. Do this via the GUI or, if you want to do the same programmatically, use the script below. Adapted [from the PyQGIS Cookbook](https://docs.qgis.org/latest/en/docs/pyqgis_developer_cookbook/cheat_sheet.html#layers)."
   ]
  },
  {
   "cell_type": "code",
   "execution_count": null,
   "id": "stylish-adaptation",
   "metadata": {},
   "outputs": [],
   "source": [
    "# EXAMPLE PATH: define the actual path on your system\n",
    "gpkg_path = \"C:/Users/tatu/pyqgis_practical/data/practical_data.gpkg\" # windows\n",
    "gpkg_layer = QgsVectorLayer(gpkg_path, \"whole_gpkg\", \"ogr\")\n",
    "\n",
    "# returns a list of strings describing the sublayers\n",
    "sub_strings = gpkg_layer.dataProvider().subLayers()\n",
    "# EXAMPLE: 1!!::!!Paavo!!::!!3027!!::!!MultiPolygon!!::!!geom!!::!!\n",
    "# !!::!! separates the values\n",
    "\n",
    "for sub_string in sub_strings:\n",
    "    layer_name = sub_string.split(gpkg_layer.dataProvider().sublayerSeparator())[1]\n",
    "    uri = \"{0}|layername={1}\".format(gpkg_path, layer_name)\n",
    "    # Create layer\n",
    "    sub_vlayer = QgsVectorLayer(uri, layer_name, 'ogr')\n",
    "    # Add layer to map\n",
    "    if sub_vlayer.isValid():\n",
    "        QgsProject.instance().addMapLayer(sub_vlayer)\n",
    "    else:\n",
    "        print(\"Can't add layer\", layer_name)"
   ]
  },
  {
   "cell_type": "markdown",
   "id": "second-jacket",
   "metadata": {},
   "source": [
    "Next, make sure you have the processing toolbox open in the GUI. If not, open it from the drop down menu _Processing > Toolbox_. If the toolbox is unavailable for some reason, [follow these instructions](https://docs.qgis.org/3.22/en/docs/training_manual/processing/set_up.html) to remedy."
   ]
  },
  {
   "cell_type": "markdown",
   "id": "cooked-jacob",
   "metadata": {},
   "source": [
    "### Model builder and processing algorithms\n",
    "1. Processing algorithms with PyQGIS\n",
    "2. Writing a custom processing script\n",
    "3. Model builder\n",
    "4. Linking the script with model builder\n",
    "\n",
    "### A look at plugin development\n",
    "1. Processing plugins\n",
    "2. GUI plugins"
   ]
  },
  {
   "cell_type": "markdown",
   "id": "adverse-spring",
   "metadata": {},
   "source": [
    "## Basics of processing algorithms\n",
    "The processing framework is a collection of helpful functions for topics ranging from network analysis to raster terrain analysis. Both native and custom algorithms can be called programmatically, but doing so requires us to know a few things, namely the algorigthm name and its parameters.\n",
    "\n",
    "The simplest way to access these is by letting QGIS create the initial code for us."
   ]
  },
  {
   "cell_type": "markdown",
   "id": "desirable-holmes",
   "metadata": {},
   "source": [
    "### TASK\n",
    "- Using the GUI, run _Simplify_ algorithm, under _Vector geometry_. The easiest way to find it is to use the search bar. \n",
    "    - Change _Tolerance_ to 5000, otherwise keep the default settings.\n",
    "    - Run the algorithm. It should add a new memory layer with simplified geometry to the project.\n",
    "    \n",
    "![Simplify algorithm in gui](images/simplify_algorithm_settings.JPG)"
   ]
  },
  {
   "cell_type": "markdown",
   "id": "vulnerable-ireland",
   "metadata": {},
   "source": [
    "After running the algorithm, click on the _Processing_ drop-down menu and select _History_. The opened window contains a list of previous processing runs (under ALGORITHM). \n",
    "\n",
    "Select the latest one. An algorithm call is displayed on the text box below the list and it looks something like this (formatted for clarity):"
   ]
  },
  {
   "cell_type": "code",
   "execution_count": null,
   "id": "compatible-alcohol",
   "metadata": {},
   "outputs": [],
   "source": [
    "processing.run(\"native:simplifygeometries\", \n",
    "               {'INPUT':'C:/Users/tatu/pyqgis_practical/data/practical_data.gpkg|layername=NUTS2_FIN_pop',\n",
    "                'METHOD':0,\n",
    "                'TOLERANCE':5000,\n",
    "                'OUTPUT':'TEMPORARY_OUTPUT'})"
   ]
  },
  {
   "cell_type": "markdown",
   "id": "transsexual-speech",
   "metadata": {},
   "source": [
    "What we have here is a call to the processing framework. Specifically, we name the algorithm and pass a dictionary of algorithm parameters (if you need a refresher of Python dicts, [check this out](https://www.w3schools.com/python/python_dictionaries.asp)). \n",
    "\n",
    "Notice that the parameters are identical to the ones we defined graphically. Though you might wonder how one could know that _Distance: Douglas-Peucker_ maps to method 0 without first running the algorithm graphically. The processing framework has a function for describing algorithms:"
   ]
  },
  {
   "cell_type": "code",
   "execution_count": null,
   "id": "municipal-proportion",
   "metadata": {},
   "outputs": [],
   "source": [
    ">>> processing.algorithmHelp(\"native:simplifygeometries\")"
   ]
  },
  {
   "cell_type": "code",
   "execution_count": null,
   "id": "surprised-devil",
   "metadata": {},
   "outputs": [],
   "source": [
    "Simplify (native:simplifygeometries)\n",
    "\n",
    "This algorithm simplifies the geometries in a line or polygon layer. \n",
    "---\n",
    "METHOD: Simplification method\n",
    "\n",
    "\tParameter type:\tQgsProcessingParameterEnum\n",
    "\n",
    "\tAvailable values:\n",
    "\t\t- 0: Distance (Douglas-Peucker)\n",
    "\t\t- 1: Snap to grid\n",
    "\t\t- 2: Area (Visvalingam)\n",
    "---"
   ]
  },
  {
   "cell_type": "markdown",
   "id": "bearing-salmon",
   "metadata": {},
   "source": [
    "There we have it. Use this function if you want to learn more about the algorithms and the parameters.\n",
    "\n",
    "However, to use the helper function, you need the algorithm's id string, which is different from its screen name (like _native:simplifygeometries_ vs. _Simplify_). Print all available algorithms [like this](https://docs.qgis.org/latest/en/docs/user_manual/processing/console.html#calling-algorithms-from-the-python-console). Because the hundreds of algorithms can be overwhelming, a simple filter is applied below:"
   ]
  },
  {
   "cell_type": "code",
   "execution_count": null,
   "id": "immediate-lindsay",
   "metadata": {},
   "outputs": [],
   "source": [
    ">>> for alg in QgsApplication.processingRegistry().algorithms():\n",
    "...        search_str = \"simplify\"\n",
    "...        if search_str in alg.displayName().lower():\n",
    "...            print(alg.displayName(), \"->\", alg.id())\n",
    "\n",
    "Simplify Network -> NetworkGT:Simplify Network\n",
    "Simplify -> native:simplifygeometries"
   ]
  },
  {
   "cell_type": "markdown",
   "id": "33fda7ac",
   "metadata": {},
   "source": [
    "The part before the colon (_NetworkGT_ and _native_) refers to the algorithm provider – in this case a plugin and the native processing library."
   ]
  },
  {
   "cell_type": "markdown",
   "id": "stuck-first",
   "metadata": {},
   "source": [
    "## Running processing algorithms with PyQGIS\n",
    "If you ran the processing.run call before, you might've noticed that it simply returned a dictionary with a layer as the value – this is because an algorithm can have multiple outputs. The output layers are accessed simply by entering the key of the output."
   ]
  },
  {
   "cell_type": "code",
   "execution_count": null,
   "id": "documentary-energy",
   "metadata": {},
   "outputs": [],
   "source": [
    ">>> results = processing.run(\"native:simplifygeometries\", \n",
    "...              {'INPUT':'C:/Users/tatu/pyqgis_practical/data/practical_data.gpkg|layername=NUTS2_FIN_pop',\n",
    "...                'METHOD':0,\n",
    "...                'TOLERANCE':5000,\n",
    "...                'OUTPUT':'TEMPORARY_OUTPUT'})\n",
    ">>> print(results)\n",
    "{'OUTPUT': <QgsVectorLayer: 'Simplified' (memory)>}\n",
    ">>> simplified_layer = results['OUTPUT']"
   ]
  },
  {
   "cell_type": "markdown",
   "id": "social-angle",
   "metadata": {},
   "source": [
    "Or to skip the middle steps and load the layer directly to the current project, use _runAndLoadResults_."
   ]
  },
  {
   "cell_type": "code",
   "execution_count": null,
   "id": "suitable-retrieval",
   "metadata": {},
   "outputs": [],
   "source": [
    ">>> processing.runAndLoadResults(\"native:simplifygeometries\", \n",
    "                {'INPUT':'C:/Users/tatu/pyqgis_practical/data/practical_data.gpkg|layername=NUTS2_FIN_pop',\n",
    "                'METHOD':0,\n",
    "                'TOLERANCE':5000,\n",
    "                'OUTPUT':'TEMPORARY_OUTPUT'})"
   ]
  },
  {
   "cell_type": "markdown",
   "id": "boxed-samuel",
   "metadata": {},
   "source": [
    "The real power of these algorithms gets unleashed when they're chained together to form an analysis pipeline. For example, you may remember how long and cumbersome the script used to get to simplify the geometries and fields of our input layer was previously. With the processing framework, we can offset the heavy lifting to two processing algorithms (_Simplify_ and _Retain fields_)"
   ]
  },
  {
   "cell_type": "code",
   "execution_count": null,
   "id": "national-table",
   "metadata": {},
   "outputs": [],
   "source": [
    "# defining input parameters\n",
    "\n",
    "# path to the NUTS2 layer\n",
    "input_layer_path = 'C:/Users/tatu/pyqgis_practical/data/practical_data.gpkg|layername=NUTS2_FIN_pop'\n",
    "tolerance = 5000\n",
    "# list of field names to keep\n",
    "fields_to_keep = ['name', 'pop']\n",
    "\n",
    "simplified_layer = processing.run(\"native:simplifygeometries\", \n",
    "              {'INPUT':input_layer_path,\n",
    "               'METHOD':0,\n",
    "               'TOLERANCE':tolerance,\n",
    "               'OUTPUT':'TEMPORARY_OUTPUT'})['OUTPUT'] # NOTICE THAT THE LAYER IS IMMEDIATELY FETCHED FROM THE DICT\n",
    "\n",
    "processing.runAndLoadResults(\"native:retainfields\", \n",
    "               {'INPUT':simplified_layer,\n",
    "                'FIELDS':fields_to_keep,\n",
    "                'OUTPUT':'TEMPORARY_OUTPUT'})"
   ]
  },
  {
   "cell_type": "markdown",
   "id": "52bb4c0e",
   "metadata": {},
   "source": [
    "Notice that with _runAndLoadResults_, the layer will be named automatically after the algorithm parameters (like _Retained fields_)."
   ]
  },
  {
   "cell_type": "markdown",
   "id": "excess-impossible",
   "metadata": {},
   "source": [
    "### TASK\n",
    "- Modify the script above by adding one more algorithm to the pipeline, namely _Add geometry attributes_\n",
    "    - Find out the algorithm id of _Add geometry attributes_.\n",
    "    - Create the parameter dictionary as needed for the algorithm (HINT: if you're lost, run the algorithm through the GUI first)\n",
    "    - Add the algorithm call to the end of the script and modify the previous algorithm call accordingly."
   ]
  },
  {
   "cell_type": "markdown",
   "id": "af9b15ad",
   "metadata": {},
   "source": [
    "## Understanding processing scripts\n",
    "Processing scripts like above are already quite neat, but they do have some weaknesses. First, using them requires some programming understanding, which hinders their usability if you'd want to share your tools with others. It's much more user friendly to select the input parameters graphically like in the processing toolbox algorithms.\n",
    "\n",
    "Let's therefore create our own processing script. This requires a bit more code: however, there's a way to automatically create the uninteresting parts of the program.\n",
    "\n",
    "From the upper row tools of _Processing toolbox_, click on the Python drop-down menu and select _Create new script from template_.\n",
    "\n",
    "![Opening script template](images/opening_script_template.JPG)"
   ]
  },
  {
   "cell_type": "markdown",
   "id": "2b12647a",
   "metadata": {},
   "source": [
    "This opens the Processing Script Editor window. The editor contains a pre-made example script, which doesn't really do anything except ask for a input layer and return the layer.\n",
    "\n",
    "The first thing you might notice are the imports. The Python console imports qgis.core automatically, but the same is not true of processing scripts. Following good coding practices, only the necessary methods are imported."
   ]
  },
  {
   "cell_type": "code",
   "execution_count": null,
   "id": "4ea5cab3",
   "metadata": {},
   "outputs": [],
   "source": [
    "from qgis.PyQt.QtCore import QCoreApplication\n",
    "from qgis.core import (QgsProcessing,\n",
    "                       QgsFeatureSink,\n",
    "                       QgsProcessingException,\n",
    "                       QgsProcessingAlgorithm,\n",
    "                       QgsProcessingParameterFeatureSource,\n",
    "                       QgsProcessingParameterFeatureSink)\n",
    "from qgis import processing"
   ]
  },
  {
   "cell_type": "markdown",
   "id": "e335be7a",
   "metadata": {},
   "source": [
    "Next, the script defines a **class** that inherits from the general [QgsProcessingAlgorithm](https://qgis.org/pyqgis/3.22/core/QgsProcessingParameterField.html#qgis.core.QgsProcessingParameterField)."
   ]
  },
  {
   "cell_type": "code",
   "execution_count": null,
   "id": "feddbce5",
   "metadata": {},
   "outputs": [],
   "source": [
    "class ExampleProcessingAlgorithm(QgsProcessingAlgorithm)"
   ]
  },
  {
   "cell_type": "markdown",
   "id": "f6202f79",
   "metadata": {},
   "source": [
    "Under this class, the algorithm defines both metadata information, such as the algorithm identifier and display name, and the actual processing instructions. There's a lot of information, but you don't need to worry about most of it. If something piques your interest, more information can be found [here](https://docs.qgis.org/latest/en/docs/user_manual/processing/scripts.html#extending-qgsprocessingalgorithm) or by reading the script's comments.\n",
    "\n",
    "What we're interested happens in "
   ]
  },
  {
   "cell_type": "markdown",
   "id": "c927db20",
   "metadata": {},
   "source": [
    "## TODO Progressing from describing the processing scripts to creating one in graphical modeler, exporting to code and modifying code"
   ]
  },
  {
   "cell_type": "markdown",
   "id": "725d18e5",
   "metadata": {},
   "source": [
    "## Graphical modeler\n"
   ]
  },
  {
   "cell_type": "code",
   "execution_count": null,
   "id": "fe822940",
   "metadata": {},
   "outputs": [],
   "source": [
    "processing.run(\"qgis:exportaddgeometrycolumns\", {'INPUT':'C:/Users/joker/OneDrive/Mantsa 6. vuosi/Work/PYQGIS-materials/data/practical_data.gpkg|layername=NUTS2_FIN_pop','CALC_METHOD':0,'OUTPUT':'TEMPORARY_OUTPUT'})"
   ]
  }
 ],
 "metadata": {
  "kernelspec": {
   "display_name": "Python 3",
   "language": "python",
   "name": "python3"
  },
  "language_info": {
   "codemirror_mode": {
    "name": "ipython",
    "version": 3
   },
   "file_extension": ".py",
   "mimetype": "text/x-python",
   "name": "python",
   "nbconvert_exporter": "python",
   "pygments_lexer": "ipython3",
   "version": "3.8.5"
  }
 },
 "nbformat": 4,
 "nbformat_minor": 5
}
