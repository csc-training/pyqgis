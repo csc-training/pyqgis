{
 "cells": [
  {
   "cell_type": "markdown",
   "metadata": {},
   "source": [
    "# PyQGIS: Expanding QGIS's functionality with Python. \n",
    "# Day 1 – Basics of PyQGIS\n",
    "\n",
    "The core application and libraries of QGIS are programmed in C++. However, Python is integrated into every nook and cranny of QGIS. All external plugins are written in Python; pretty much everything that can be done in the UI can be done via the Python bindings (a.k.a. API, Application Programming Interface); generic Python code and scripts can be run through the integrated console; custom functions can be run through the processing tools or on attribute tables. All in all, Python is seamlessly tied with QGIS at every step.\n",
    "\n",
    "On the first section of this short course, you will learn the basics of Python in QGIS: how to interact with the QGIS interface via the Python console, how to handle vector fields and geometries and how to use expression effectively with QGIS. You will learn how to run PyQGIS code through a terminal and scripts. Along the way, you will learn the central concepts which will be built on in tomorrows processing and plugins section."
   ]
  },
  {
   "cell_type": "markdown",
   "metadata": {},
   "source": [
    "### Practicalities\n",
    "For these exercises, you will only need a recent QGIS installation (preferably at least the current LTR, which is QGIS 3.16) and the practical data. The data is packaged as layers in a geopackage to [practical_data.gpkg](https://github.com/csc-training/pyqgis/blob/main/data/practical_data.gpkg). (Use the `Download` button on the next page.)"
   ]
  },
  {
   "cell_type": "markdown",
   "metadata": {},
   "source": [
    "### Data description\n",
    "Below are brief descriptions of the layers and relevant fields in the *practical_data.gpkg*. The original datasets are available through Statistics Finland: here, the field names have been translated to English."
   ]
  },
  {
   "cell_type": "markdown",
   "metadata": {},
   "source": [
    "| Layer    | Layer description |Fields | Field description | Source |\n",
    "| ----------- | ----------- | ----------- | ----------- |  ----------- |\n",
    "| **Helsinki_region_pop_squares**  |  Capital region population (2020) in 1 km x 1 km squares  |        || [Statistics Finland](https://www.paikkatietohakemisto.fi/geonetwork/srv/eng/catalog.search#/metadata/a901d40a-8a6b-4678-814c-79d2e2ab130c), CC-BY 4.0|\n",
    "|      |       | pop        |Population in 2020||\n",
    "|      |       | men / women        | Number of men or women| | \n",
    "|      |       | ages x_y        | Number of people in age group|| \n",
    "|  **NUTS2_FIN_POP**    |   Population (2020) in NUTS2 regions (suuralueet)    |       ||[Statistics Finland](https://www.paikkatietohakemisto.fi/geonetwork/srv/eng/catalog.search#/metadata/d136a588-7fc6-4865-8d7c-b50d1398e728), CC-BY 4.0|\n",
    "|      |       | nimi / name        | Name of the region||\n",
    "|      |       | pop        | Population in 2020||\n",
    "|  |  | total_pop_perc        | This region's share of total Finnish population||\n",
    "|  |  | male/female_perc        | Share of men or women in this region||\n",
    "| **Paavo** | Socio-economic statistics on postal regions |         || [Statistics Finland](https://www.stat.fi/tup/paavo/index_en.html), CC-BY 4.0 |\n",
    "|  |  | Too many to describe        | [See here for full description](https://www.stat.fi/static/media/uploads/tup/paavo/paavo_kuvaus_en.pdf) ||"
   ]
  },
  {
   "cell_type": "markdown",
   "metadata": {},
   "source": [
    "### How to read these instructions\n",
    "The instuctions consist of text blocks like the one you're reading"
   ]
  },
  {
   "cell_type": "code",
   "execution_count": null,
   "metadata": {},
   "outputs": [],
   "source": [
    "and code blocks like these."
   ]
  },
  {
   "cell_type": "markdown",
   "metadata": {},
   "source": [
    "I suggest running the lines of code as you follow along the instuctions. \n",
    "\n",
    "When running code on the terminal window, lines of code are marked with three arrows [>>>]. Output is written as-is:"
   ]
  },
  {
   "cell_type": "code",
   "execution_count": null,
   "metadata": {},
   "outputs": [],
   "source": [
    ">>> print(\"hello world\")\n",
    "hello world"
   ]
  },
  {
   "cell_type": "markdown",
   "metadata": {},
   "source": [
    "The arrows are _not_ part of the code, they're simply to make the code easier to read. \n",
    "\n",
    "Indentated lines are marked with three dots [...]:"
   ]
  },
  {
   "cell_type": "code",
   "execution_count": null,
   "metadata": {},
   "outputs": [],
   "source": [
    ">>> if True:\n",
    "...    print(\"hello world\")"
   ]
  },
  {
   "cell_type": "markdown",
   "metadata": {},
   "source": [
    "Additionally, I've shortened the outputs a few times. These instances are marked with three dashes [---]:"
   ]
  },
  {
   "cell_type": "code",
   "execution_count": null,
   "metadata": {},
   "outputs": [],
   "source": [
    ">>> print(moby_dick)\n",
    "Call me Ishmael. Some years ago—never mind how long precisely—having little or no money in my purse\n",
    "---"
   ]
  },
  {
   "cell_type": "markdown",
   "metadata": {},
   "source": [
    "### Preparations\n",
    "To start with, make sure you've downloaded the course materials from the course's [GitHub page](https://github.com/csc-training/pyqgis). Download the from _Code > Download ZIP_ and unzip in a good location on your system OR use Git, if you're familiar with that.\n",
    "\n",
    "Open QGIS. To get us started, we'll need to set the CRS and add some data to the project. For now, we'll do this through the graphical user interface. \n",
    "\n",
    "Start by setting the project's coordinate reference system to the Finnish standard CRS, ETRS-TM35FIN (EPSG:3067). Open the CRS dialog through the bottom right corner or from *Project > Properties > CRS*. Filter for *3067* to find the correct CRS.\n",
    "\n",
    "Then add data from *project_data* geopackage. From the _Layer_ drop-down menu, select _Data Source Manager_. Activate _GeoPackage_ tab from the left. In the new tab, add a _New_ connection to the *project_data*. _Connect_ and add the layer *NUTS2_FIN_pop* to the project."
   ]
  },
  {
   "cell_type": "markdown",
   "metadata": {},
   "source": [
    "### Table of contents\n",
    "[**1. Basics of PyQGIS**](#1.-Basics-of-PyQGIS)\n",
    "\n",
    "[Task 1](#TASK-1)\n",
    "\n",
    "[1.1. Interface and vector layers](#1.2.-Interface-and-vector-layers)\n",
    "\n",
    "[1.2. Fields, features and attributes](#1.2.-Fields,-features-and-attributes)\n",
    "\n",
    "[1.3. Geometries](#1.3.-Geometries)\n",
    "\n",
    "[Task 2](#TASK-2)\n",
    "\n",
    "\n",
    "[**2. Working with layers**](#2.-Working-with-layers)\n",
    "\n",
    "[2.1. Loading layers](#2.1.-Loading-layers)\n",
    "\n",
    "[2.1.1. Geopackages](#2.1.1.-Geopackages)\n",
    "\n",
    "[2.1.2. WFS](#2.1.2.-WFS)\n",
    "\n",
    "[Task 3](#TASK-3)\n",
    "\n",
    "[2.2. Accessing layers in project](#2.2.-Accessing-layers-in-project)\n",
    "\n",
    "[2.3. Creating vector layers](#2.3.-Creating-vector-layers)\n",
    "\n",
    "[Task 4](#TASK-4)\n",
    "\n",
    "[**3. Expressions and aggregates**](#3.-Expressions-and-aggregates)\n",
    "\n",
    "[3.1. Filtering, selecting and creating](#3.1.-Expressions:-filtering,-selecting-and-creating)\n",
    "\n",
    "[3.2. Aggregates](#3.2.-Aggregates)\n",
    "\n",
    "[Task 5](#TASK-5)\n",
    "\n",
    "\n",
    "[**4. Challenges**](#4.-Challenges)\n",
    "\n",
    "[Challenge X: Layer styling and exporting map layouts](#Challenge-X:-Layer-styling-and-exporting-map-layouts)\n",
    "\n",
    "[Challenge Y: Playing around with a drawing tool](#Challenge-Y:-Playing-around-with-a-drawing-tool)\n",
    "\n",
    "[**5. PyQGIS resources**](#5.-PyQGIS-resources)\n"
   ]
  },
  {
   "cell_type": "markdown",
   "metadata": {},
   "source": [
    "# 1. Basics of PyQGIS\n",
    "## 1.2. Interface and vector layers\n",
    "Now that we're set, let's open QGIS's Python console and get to work! \n",
    "\n",
    "Open the console from *Plugins > Python console* or use the shortcut Ctrl+Alt+P (on Windows).\n",
    "\n",
    "The console functions like any Python terminal: you can input any Python code and have it executed with Enter.\n",
    "\n",
    "![Terminal at the beginning](images/python_terminal_beginning.JPG)"
   ]
  },
  {
   "cell_type": "markdown",
   "metadata": {},
   "source": [
    "By default an iface variable is defined, which is an object of class QgsInterface(https://www.qgis.org/api/classQgisInterface.html), which allows interaction with the current graphical user interface. The elements visible on screen, such as panels and boxes can be manipulated through iface. For example, if you've moved the map elements around, you may re-center the view to the active layer with this:"
   ]
  },
  {
   "cell_type": "code",
   "execution_count": null,
   "metadata": {},
   "outputs": [],
   "source": [
    ">>> iface.zoomToActiveLayer()"
   ]
  },
  {
   "cell_type": "markdown",
   "metadata": {},
   "source": [
    "Another handy element is that can easily retrieve the active (selected) layer. Let's check out what the layer is all about!"
   ]
  },
  {
   "cell_type": "code",
   "execution_count": null,
   "metadata": {},
   "outputs": [],
   "source": [
    "# Get active layer:\n",
    ">>> layer = iface.activeLayer()\n",
    "\n",
    "# Let's see what we got\n",
    ">>> print(type(layer))\n",
    "<class 'qgis._core.QgsVectorLayer'>"
   ]
  },
  {
   "cell_type": "markdown",
   "metadata": {},
   "source": [
    "The layer we got is an object of class *QgsVectorLayer*, which contains the information (geometry, attributes, render information etc.) of a single layer. *QgsVectorLayer* in turn is within QGIS's *core* module. There are [seven modules in total](https://qgis.org/api/modules.html) each housing *classes* critical for the program. Most of the classes used in these exercises are under the *core* module.\n",
    "\n",
    "We don't need to worry about imports too much, since the Python console automatically imports all of the _Core_ module on startup:"
   ]
  },
  {
   "cell_type": "code",
   "execution_count": null,
   "metadata": {},
   "outputs": [],
   "source": [
    "from qgis.core import *\n",
    "import qgis.utils"
   ]
  },
  {
   "cell_type": "markdown",
   "metadata": {},
   "source": [
    "Now, let's get some basic information on our layer:"
   ]
  },
  {
   "cell_type": "code",
   "execution_count": null,
   "metadata": {},
   "outputs": [],
   "source": [
    ">>> print(layer.sourceName())\n",
    "NUTS2_FIN_pop\n",
    "\n",
    ">>> print(layer.featureCount())\n",
    "5"
   ]
  },
  {
   "cell_type": "markdown",
   "metadata": {},
   "source": [
    "Above, we call QgsVectorLayer's methods like *featureCount()*. You can read more on the methods in the [documentation](https://qgis.org/pyqgis/latest/core/QgsVectorLayer.html): scroll down a bit to reach the list of methods. Alternatively, call *help()* on the object for the same information:"
   ]
  },
  {
   "cell_type": "code",
   "execution_count": null,
   "metadata": {},
   "outputs": [],
   "source": [
    ">>> help(layer)\n",
    "Help on QgsVectorLayer in module qgis._core object:\n",
    "\n",
    "class QgsVectorLayer(QgsMapLayer, QgsExpressionContextGenerator, QgsExpressionContextScopeGenerator, QgsFeatureSink, QgsFeatureSource)\n",
    " |  QgsVectorLayer(path: str = '', baseName: str = '', providerLib: str = '', options: QgsVectorLayer.LayerOptions = QgsVectorLayer.LayerOptions())\n",
    " |  Constructor - creates a vector layer\n",
    " |\n",
    "    ---"
   ]
  },
  {
   "cell_type": "markdown",
   "metadata": {},
   "source": [
    "#### TASK 1\n",
    "- Take a look at [QgsVectorLayer documentation](https://qgis.org/pyqgis/3.16/core/QgsVectorLayer.html) and find out how to get the *extent* of the layer. What type is the returned object?"
   ]
  },
  {
   "cell_type": "markdown",
   "metadata": {},
   "source": [
    "### 1.2. Fields, features and attributes"
   ]
  },
  {
   "cell_type": "markdown",
   "metadata": {},
   "source": [
    "A top level class like *QgsVectorLayer* has many subclasses, each with their own and inherited functions. It's not necessary to know even a fraction of them, especially for this introductory course, but you can refer to the documentation if you're lost at any point.\n",
    "\n",
    "One of the handy functions of a vector layer is a method to access the features (=attributes and geometry) of the layer. Let's loop through the features iterator and print out attributes from each [feature](https://qgis.org/pyqgis/latest/core/QgsFeature.html#qgis.core.QgsFeature):"
   ]
  },
  {
   "cell_type": "code",
   "execution_count": null,
   "metadata": {},
   "outputs": [],
   "source": [
    ">>> for feat in layer.getFeatures():\n",
    "        # attributes() returns a list of attributes associated with that feature\n",
    "        # remember to indent the line of code before running it\n",
    "...     print(feat.attributes())\n",
    "[1, '1', 'Helsinki-Uusimaa', 'Helsinki-Uusimaa', 2020, 1702678, 30.8, 48.9, 51.1]\n",
    "[2, '2', 'Etelä-Suomi', 'Southern Finland', 2020, 1147484, 20.7, 49.2, 50.8]\n",
    "    ---"
   ]
  },
  {
   "cell_type": "markdown",
   "metadata": {},
   "source": [
    "What do these values mean though? Let's refer to the fields, a.k.a. columns of our attribute table. [*QgsFields*](https://qgis.org/pyqgis/latest/core/QgsFields.html), is an easy way to access individual [QgsField objects](https://qgis.org/pyqgis/latest/core/QgsField.html). \n",
    "\n",
    "Our layer has these field / column names and datatypes:"
   ]
  },
  {
   "cell_type": "code",
   "execution_count": null,
   "metadata": {},
   "outputs": [],
   "source": [
    ">>> for field in layer.fields():\n",
    "...     print(field.name(), \"\\t\", field.typeName())\n",
    "fid \t Integer64\n",
    "NUTS_region \t String\n",
    "nimi \t String\n",
    "name \t String\n",
    "pop_year \t Integer\n",
    "pop \t Integer64\n",
    "total_pop_perc \t Real\n",
    "male_perc \t Real\n",
    "female_perc \t Real"
   ]
  },
  {
   "cell_type": "markdown",
   "metadata": {},
   "source": [
    "Individual attributes can be accessed via field names or indices. Let's access the *name* attribute using the field name and its index (3rd counting from 0):"
   ]
  },
  {
   "cell_type": "code",
   "execution_count": null,
   "metadata": {},
   "outputs": [],
   "source": [
    ">>> for feat in layer.getFeatures():\n",
    "...     print(feat['name'], \"is the same as\", feat[3])\n",
    "Helsinki-Uusimaa is the same as Helsinki-Uusimaa\n",
    "Southern Finland is the same as Southern Finland\n",
    "---"
   ]
  },
  {
   "cell_type": "markdown",
   "metadata": {},
   "source": [
    "## Detour: Scripts in PyQGIS\n",
    "\n",
    "The code inputs get more complex and longer as we progress. There are code blocks without the arrows (>>>): these are meant to be run as scripts. You'll probably want to use the scripting window on these occasions. QGIS includes a simple editor for running, editing, saving and loading .py scripts. We will use it in this practical, but those looking for a more complex editor (with improved code completion) within QGIS might be interested [in this plugin](http://www.itopen.it/qgis-and-ipython-the-definitive-interactive-console/):"
   ]
  },
  {
   "cell_type": "markdown",
   "metadata": {},
   "source": [
    "\n",
    "**Open the script editor by pressing the middle icon** (1) below the Python console. A new text area opens up. Empty scripts can be opened with the plus icon (2) and scripts loaded with (3). Run a script with the arrow icon (4). Play around a bit to see what each button does!\n",
    "\n",
    "![Terminal and the script editor](images/terminal_and_editor.png)"
   ]
  },
  {
   "cell_type": "markdown",
   "metadata": {},
   "source": [
    "NOTE! While the terminal and the scripting window might seem separate, they both operate in the same environment. Thus, if a variable is defined in a script (summed = 1+1), it can be called in the terminal."
   ]
  },
  {
   "cell_type": "code",
   "execution_count": null,
   "metadata": {},
   "outputs": [],
   "source": [
    ">>> summed\n",
    "2"
   ]
  },
  {
   "cell_type": "markdown",
   "metadata": {},
   "source": [
    "### 1.3. Geometries"
   ]
  },
  {
   "cell_type": "markdown",
   "metadata": {},
   "source": [
    "If the features are geographical, they'll have *geometry* as well as attributes. [QgsGeometry objects](https://qgis.org/pyqgis/3.16/core/QgsGeometry.html), accessed through features, contain the raw geometries. These geometries are of the usual [WKT types](https://en.wikipedia.org/wiki/Well-known_text_representation_of_geometry) which are the  points, lines and polygons and the multivariants of them.\n",
    "\n",
    "Our layer contains multipolygons:"
   ]
  },
  {
   "cell_type": "code",
   "execution_count": null,
   "metadata": {},
   "outputs": [],
   "source": [
    ">>> layer.wkbType()\n",
    "6\n",
    "\n",
    "# the WKB (well known binary) type must be transformed to be human readable\n",
    ">>> print(QgsWkbTypes.displayString(layer.wkbType()))\n",
    "MultiPolygon"
   ]
  },
  {
   "cell_type": "markdown",
   "metadata": {},
   "source": [
    "Let's continue working with the layer geometries by calculating a few key values from them using built-in functions. Namely, the perimeter and area of each NUTS polygon. Copy the following code block to the script editor:"
   ]
  },
  {
   "cell_type": "code",
   "execution_count": null,
   "metadata": {},
   "outputs": [],
   "source": [
    "for feat in layer.getFeatures():\n",
    "    geometry = feat.geometry()\n",
    "    perimeter = geometry.length()\n",
    "    area = geometry.area()\n",
    "    \n",
    "    # print out the result: transform the map units (m and sqr m) to km and sqr km respectively.\n",
    "    # also format the output by rounding the results to nearest whole number and add line breaks\n",
    "    print(feat['name'], \"\\nPerimeter: {0} km\\nArea: {1} sqr km\\n\".format(round(perimeter/1000, 0), \n",
    "          round(area / 1000000, 0)))"
   ]
  },
  {
   "cell_type": "code",
   "execution_count": null,
   "metadata": {},
   "outputs": [],
   "source": [
    "Helsinki-Uusimaa \n",
    "Perimeter: 954.0 km\n",
    "Area: 9599.0 sqr km\n",
    "\n",
    "Southern Finland \n",
    "Perimeter: 2501.0 km\n",
    "Area: 34932.0 sqr km\n",
    "---"
   ]
  },
  {
   "cell_type": "markdown",
   "metadata": {},
   "source": [
    "#### TASK 2\n",
    "- Get the bounding box of each geometry. Which NUTS2 polygon's bounding box is the largest? (Hint: remember to [check out the documentation](https://qgis.org/pyqgis/3.16/core/QgsGeometry.html))"
   ]
  },
  {
   "cell_type": "markdown",
   "metadata": {},
   "source": [
    "## 2. Working with layers\n",
    "### 2.1. Loading layers\n",
    "#### 2.1.1. Geopackages"
   ]
  },
  {
   "cell_type": "markdown",
   "metadata": {},
   "source": [
    "Let's add more interesting layers to the project. To load in layers to the current project with PyQGIS, you will need to define a path to the data source (this might be local or online, e.g. a WFS server), provide a screen name and define the data provider (e.g. [ogr](https://gdal.org/user/vector_data_model.html) for many vector layers, [gdal](https://gdal.org/index.html) for raster, postgis). \n",
    "\n",
    "Data providers allow QGIS to use the data sources: the generic class for them is [QgsDataProvider](https://qgis.org/api/classQgsDataProvider.html), which we will we use more later on. To get the full list of data providers, you can call:"
   ]
  },
  {
   "cell_type": "code",
   "execution_count": null,
   "metadata": {},
   "outputs": [],
   "source": [
    ">>> QgsProviderRegistry.instance().providerList()"
   ]
  },
  {
   "cell_type": "markdown",
   "metadata": {},
   "source": [
    "Define a path to this practical's geopackage. This will be dependent on where you've saved it and on which Operating System you're working on. Define an absolute path to the resource – for example:"
   ]
  },
  {
   "cell_type": "code",
   "execution_count": null,
   "metadata": {},
   "outputs": [],
   "source": [
    ">>> gpkg_path = \"C:/Users/tatu/pyqgis_practical/data/practical_data.gpkg\" # windows\n",
    "\n",
    ">>> gpkg_path = \"/home/tatu/pyqgis_practical/data/practical_data.gpkg\" # linux"
   ]
  },
  {
   "cell_type": "markdown",
   "metadata": {},
   "source": [
    "Next, since we're dealing with a geopackage with multiple layers, define which layer you want to add. This is done by appending a *layername* parameter to the path. Let's add Finnish postal code areas:"
   ]
  },
  {
   "cell_type": "code",
   "execution_count": null,
   "metadata": {},
   "outputs": [],
   "source": [
    ">>> paavo_path = gpkg_path + \"|layername=Paavo\""
   ]
  },
  {
   "cell_type": "markdown",
   "metadata": {},
   "source": [
    "Finally, let's create a new QgsVectorLayer with the path:"
   ]
  },
  {
   "cell_type": "code",
   "execution_count": null,
   "metadata": {},
   "outputs": [],
   "source": [
    ">>> paavo_layer = QgsVectorLayer(path=paavo_path, baseName=\"Paavo\", providerLib=\"ogr\")"
   ]
  },
  {
   "cell_type": "markdown",
   "metadata": {},
   "source": [
    "The layer object has a function to check that everything went fine. \n",
    "\n",
    "If the layer passes the validity check, we will use the current [QgsProject](https://qgis.org/pyqgis/master/core/QgsProject.html) to insert it to QGIS. QgsProject deals with everything in the current project, including CRS and metadata, but we'll mostly use it to deal with layers:"
   ]
  },
  {
   "cell_type": "code",
   "execution_count": null,
   "metadata": {},
   "outputs": [],
   "source": [
    ">>> if paavo_layer.isValid():\n",
    "...     QgsProject.instance().addMapLayer(paavo_layer)\n",
    ">>> else:\n",
    "...     print(\"Oops, something went wrong! Is the layer path correct?\")"
   ]
  },
  {
   "cell_type": "markdown",
   "metadata": {},
   "source": [
    "#### 2.1.2. WFS\n",
    "A WFS ([Web Feature Service](http://www.e-cartouche.ch/content_reg/cartouche/webservice/en/html/wfs_whatWFSis.html)) layer works similarly, only the path is a feature request; a url. Let's fetch a layer of similar population data on regions (*maakunta* / NUTS 3) from Statistics Finland's service. The url is provided ready-made here, but usually a [GetCapabilities](https://geo.stat.fi/geoserver/vaestoalue/wfs?service=WFS&version=2.0.0&request=GetCapabilities) call is needed to get the proper feature names. "
   ]
  },
  {
   "cell_type": "code",
   "execution_count": null,
   "metadata": {},
   "outputs": [],
   "source": [
    "region_url = (\"https://geo.stat.fi/geoserver/vaestoalue/wfs?service=WFS&version=auto&\"+\n",
    "            \"request=GetFeature&typename=vaestoalue:maakunta_vaki2020&srsname=EPSG:3067\")\n",
    "region_layer = QgsVectorLayer(region_url, \"regions_pop_wfs\", \"WFS\")\n",
    "\n",
    "if region_layer.isValid():\n",
    "    QgsProject.instance().addMapLayer(region_layer)\n",
    "else:\n",
    "    print(\"Oops, something went wrong! Is the layer path correct?\")"
   ]
  },
  {
   "cell_type": "markdown",
   "metadata": {},
   "source": [
    "Numerous parameters can be passed to the WFS query, such as SQL filters, WFS version and authentication details. See full list [here under \"WFS (web feature service)  data provider\"](https://qgis.org/api/classQgsVectorLayer.html#details)\n",
    "\n",
    "Writing all the parameters in a big string is cumbersome and error prone. If you'd prefer to write them in a dictionary and use the built-in urllib to parse them, check out [the example from PyQGIS cookbook](https://docs.qgis.org/latest/en/docs/pyqgis_developer_cookbook/loadlayer.html#vector-layers). You may also check out the [procedure for loading raster layers](https://docs.qgis.org/latest/en/docs/pyqgis_developer_cookbook/loadlayer.html#raster-layers), which is similar to vector layers."
   ]
  },
  {
   "cell_type": "markdown",
   "metadata": {
    "tags": [
     "Task"
    ]
   },
   "source": [
    "#### TASK 3\n",
    "- Build another WFS request URL, create a vector layer with the URL and add the layer to the project. Choose one of [Statistics Finland's services](https://www.stat.fi/org/avoindata/paikkatietoaineistot_en.html), for example [this](https://geo.stat.fi/geoserver/vaestoalue/wfs?service=WFS&version=2.0.0&request=GetCapabilities), or another service of your choice."
   ]
  },
  {
   "cell_type": "markdown",
   "metadata": {},
   "source": [
    "### 1.2.2. Accessing layers in project\n",
    "Besides selecting the active layer, layers added to the project may be accessed like this:"
   ]
  },
  {
   "cell_type": "code",
   "execution_count": null,
   "metadata": {},
   "outputs": [],
   "source": [
    ">>> proj_layers = QgsProject.instance().mapLayers()\n",
    ">>> print(proj_layers)\n",
    "{'NUTS2_FIN_pop_9c7cb77b_1b15_46b5_805d_24d9042ffb0c': <QgsVectorLayer: 'NUTS2_FIN_pop' (ogr)>, \n",
    " 'paavo_3ae4d938_41c6_4aaf_849d_e871e0c0f1d7': <QgsVectorLayer: 'paavo' (ogr)>, \n",
    " 'regions_pop_wfs_1ec842a0_437b_4323_8dfa_c5e35cd507c5': <QgsVectorLayer: 'regions_pop_wfs' (WFS)>}"
   ]
  },
  {
   "cell_type": "markdown",
   "metadata": {},
   "source": [
    "The returned object is a dictionary where keys are unique ID's and values are the layers. The dictionary can be indexed to for example get the first layer:"
   ]
  },
  {
   "cell_type": "code",
   "execution_count": null,
   "metadata": {},
   "outputs": [],
   "source": [
    ">>> first_layer = list(proj_layers.values())[0]\n",
    ">>> first_layer\n",
    "<QgsVectorLayer: 'nuts2_FIN_pop' (ogr)>"
   ]
  },
  {
   "cell_type": "markdown",
   "metadata": {},
   "source": [
    "Another way is to query the layers by name. Since the name isn't necessarily unique, the query returns a _list_ of matching layers. The first element must again be selected:"
   ]
  },
  {
   "cell_type": "code",
   "execution_count": null,
   "metadata": {},
   "outputs": [],
   "source": [
    ">>> nuts2 = QgsProject.instance().mapLayersByName(\"NUTS2_FIN_pop\")\n",
    ">>> nuts2 # a list\n",
    "[<QgsVectorLayer: 'NUTS2_FIN_pop' (ogr)>]\n",
    ">>> nuts2 = nuts2[0]"
   ]
  },
  {
   "cell_type": "markdown",
   "metadata": {},
   "source": [
    "### 2.3. Creating vector layers\n",
    "\n",
    "There are ways to create vector layers from scratch by defining fields and passing a number of features (attributes and geometry) to them (see [this example](https://docs.qgis.org/latest/en/docs/pyqgis_developer_cookbook/vector.html#from-an-instance-of-qgsvectorlayer)). However, we'll simply modify features of the NUTS2 layer and pass them to a new _memory_ layer. Namely, we'll drop a few fields and simplify the feature geometries."
   ]
  },
  {
   "cell_type": "markdown",
   "metadata": {},
   "source": [
    "A memory (temporary) layer lasts only one session and their data is erased once the user closes QGIS. Therefore, they're handy for purposes where intermittent layers are needed, like processing script or plugin development. \n",
    "\n",
    "A URI (Universal Resource Identifier) string must be passed as the layer path. At minimum, the string should define the layer's geometry type (point, line, polygon etc.). Coordinate reference system, whether to build a spatial index and the layer fields may also be defined ([see here](https://docs.qgis.org/latest/en/docs/pyqgis_developer_cookbook/vector.html#from-an-instance-of-qgsvectorlayer)). \n",
    "\n",
    "For example, creating a new vector layer with two fields:"
   ]
  },
  {
   "cell_type": "code",
   "execution_count": null,
   "metadata": {},
   "outputs": [],
   "source": [
    "# index = Yes -> a spatial index is built for the layer\n",
    ">>> data_str = \"Multipolygon?crs=epsg:3067&field=name:string(50)&field=pop:integer(20)&index=yes\"\n",
    ">>> new_layer = QgsVectorLayer(data_str, \"new_layer\", \"memory\")"
   ]
  },
  {
   "cell_type": "markdown",
   "metadata": {},
   "source": [
    "The fields may also be defined afterwards by calling the data provider explicitly, then adding new QgsField objects:"
   ]
  },
  {
   "cell_type": "code",
   "execution_count": null,
   "metadata": {},
   "outputs": [],
   "source": [
    ">>> new_layer = QgsVectorLayer(\"Multipolygon\", \"new_layer\", \"memory\")\n",
    ">>> provider = new_layer.dataProvider()\n",
    "\n",
    "# defining new fields: first names, then data types\n",
    ">>> new_fields = [QgsField(\"name\", QVariant.String), QgsField(\"pop\",  QVariant.Int)]\n",
    "\n",
    "# add new fields, confusingly named addAttributes\n",
    ">>> provider.addAttributes(new_fields)\n",
    "\n",
    "# the layer must be refreshed to see the changed fields\n",
    ">>> new_layer.updateFields()"
   ]
  },
  {
   "cell_type": "markdown",
   "metadata": {},
   "source": [
    "Once the fields are in place, they must be populated with features. In the script below, the base for those features are gotten from the NUTS2 layer. There's a lot of code in there, but this is what happens summarized:\n",
    "\n",
    "1. The original layer is activated\n",
    "2. Its features are looped over: For each feature, its geometry is simplified by the defined threshold. Only a few attributes are selected, and the features are added to a list\n",
    "3. A new layer is created\n",
    "4. Fields are added to it\n",
    "5. Features are loaded from the list, which populates the fields and adds geometry."
   ]
  },
  {
   "cell_type": "code",
   "execution_count": null,
   "metadata": {},
   "outputs": [],
   "source": [
    "original_layer = QgsProject.instance().mapLayersByName(\"NUTS2_FIN_pop\")[0]\n",
    "\n",
    "# list where the features of the new layer will be gathered\n",
    "simplified_feat_list = []\n",
    "\n",
    "# used in simplification: increase to simplify more\n",
    "tolerance_level = 5000\n",
    "\n",
    "# looping through features of the the layer\n",
    "for input_order, feat in enumerate(original_layer.getFeatures()):\n",
    "    # original geometry\n",
    "    geometry = feat.geometry()\n",
    "    \n",
    "    # returns a new geometry where the amount of nodes is reduced\n",
    "    simplified = geometry.simplify(tolerance_level)\n",
    "    \n",
    "    # a list with this feature's name and population\n",
    "    trimmed_attributes = [feat['name'], feat['pop']]\n",
    "    \n",
    "    # creating a new feature by passing a id\n",
    "    feat = QgsFeature(input_order)\n",
    "    # adding the new geometry and trimmed attributes to the layer\n",
    "    feat.setGeometry(simplified)\n",
    "    feat.setAttributes(trimmed_attributes)\n",
    "\n",
    "    # adding all the features to a list\n",
    "    simplified_feat_list.append(feat)\n",
    "\n",
    "geometry_type = QgsWkbTypes.displayString(original_layer.wkbType()) # Example: Multipolygon\n",
    "\n",
    "# taking the original layer's CRS\n",
    "layer_crs = original_layer.sourceCrs().authid() # Example: EPSG:3067\n",
    "\n",
    "path_str = '{0}?crs={1}'.format(geometry_type, layer_crs) # example: Multipolygon?crs=EPSG:3067\n",
    "\n",
    "name_str = \"Simplified_{0}_{1}\".format(original_layer.sourceName(), str(tolerance_level)) # example: Simplified_Paavo_5000\n",
    "\n",
    "# creating the new vector layer as a temporary (memory) layer\n",
    "simplified_layer = QgsVectorLayer(path_str, name_str, \"memory\")\n",
    "provider = simplified_layer.dataProvider()\n",
    "\n",
    "# add fields\n",
    "provider.addAttributes([QgsField(\"name\", QVariant.String),\n",
    "                    QgsField(\"pop\",  QVariant.Int)])\n",
    "simplified_layer.updateFields()\n",
    "# adding all the features the fields\n",
    "provider.addFeatures(simplified_feat_list)\n",
    "\n",
    "#check the layer is valid\n",
    "if simplified_layer.isValid():\n",
    "    # inserting the new layer to the project\n",
    "    QgsProject.instance().addMapLayer(simplified_layer)\n",
    "else:\n",
    "    print(\"Faulty layer\")"
   ]
  },
  {
   "cell_type": "markdown",
   "metadata": {},
   "source": [
    "#### TASK 4\n",
    "- Play around with different tolerance levels to see how the layers change. Notice that heavy simplification leads to incorrect geometries (overlaps and gaps). This is because we simplify each geometry individually without snapping them to nearby nodes.\n",
    "- Run another transformation on the geometries. Use [smooth](https://qgis.org/pyqgis/3.16/core/QgsGeometry.html#qgis.core.QgsGeometry.smooth) or whichever piques your interest. Notice that other algorithms use different parameters than _tolerance_level_ which we defined for simplifying."
   ]
  },
  {
   "cell_type": "markdown",
   "metadata": {},
   "source": [
    "## 3. Expressions and aggregates\n",
    "### 3.1. Filtering, selecting and creating\n",
    "\n",
    "It's often beneficial to get a subset of a layer based on some filter. QGIS supports passing [SQL](https://www.tutorialspoint.com/sql/sql-overview.htm) like expressions to do this. The expressions can simply be written as strings, and at a simple level, attributes of the layer used to filter it.\n",
    "\n",
    "For example, let's filter the postal code area by total residents (pt_vakiy). The threshold is 50. Every feature that doesn't meet this criteria is filtered:"
   ]
  },
  {
   "cell_type": "code",
   "execution_count": null,
   "metadata": {},
   "outputs": [],
   "source": [
    "# make sure you have a pointer to the layer\n",
    "paavo = QgsProject.instance().mapLayersByName(\"Paavo\")[0]\n",
    "\n",
    "# the double quotes denote a field, in this case the field containing the population count\n",
    "filter_exp = '\"pt_vakiy\" > 50'\n",
    "\n",
    "paavo.setSubsetString(filter_exp)"
   ]
  },
  {
   "cell_type": "markdown",
   "metadata": {},
   "source": [
    "Subsetting can be cleared simply by passing an empty string:"
   ]
  },
  {
   "cell_type": "code",
   "execution_count": null,
   "metadata": {},
   "outputs": [],
   "source": [
    "paavo.setSubsetString(\"\")"
   ]
  },
  {
   "cell_type": "markdown",
   "metadata": {},
   "source": [
    "The same expression can be used to _select_ features:"
   ]
  },
  {
   "cell_type": "code",
   "execution_count": null,
   "metadata": {},
   "outputs": [],
   "source": [
    "paavo.selectByExpression(filter_exp)\n",
    "\n",
    "# clear selection\n",
    "paavo.removeSelection()"
   ]
  },
  {
   "cell_type": "markdown",
   "metadata": {},
   "source": [
    "If you want to save the selection as a new layer, here's a neat hack for that ([see](https://gis.stackexchange.com/questions/80292/how-can-i-create-a-vector-layer-from-selected-features-with-pyqgis)):"
   ]
  },
  {
   "cell_type": "code",
   "execution_count": null,
   "metadata": {},
   "outputs": [],
   "source": [
    "filtered_paavo = paavo.materialize(QgsFeatureRequest().setFilterFids(paavo.selectedFeatureIds()))\n",
    "\n",
    "if filtered_paavo.isValid():\n",
    "    QgsProject.instance().addMapLayer(filtered_paavo)"
   ]
  },
  {
   "cell_type": "markdown",
   "metadata": {},
   "source": [
    "Expressions can be used to easily add new _expression_ fields, that calculate new values based on the ones defined in an expression. Let's calculate the percentage of students (pt_opisk) of the whole population:"
   ]
  },
  {
   "cell_type": "code",
   "execution_count": null,
   "metadata": {},
   "outputs": [],
   "source": [
    "student_exp = '(\"pt_opisk\" / \"pt_vakiy\") *100'\n",
    "\n",
    "# pass the expression and the field definitions\n",
    "paavo.addExpressionField(student_exp, QgsField(\"perc_students\",  QVariant.Double, prec=1))"
   ]
  },
  {
   "cell_type": "markdown",
   "metadata": {},
   "source": [
    "More complex expression are enabled by [QgsExpression](https://qgis.org/pyqgis/master/core/QgsExpression.html) class. QgsExpression parse the strings, which means that it also checks them for validity. "
   ]
  },
  {
   "cell_type": "code",
   "execution_count": null,
   "metadata": {},
   "outputs": [],
   "source": [
    "# we could easily make an expression with faulty syntax\n",
    ">>> expression = QgsExpression('\"pt_vakiy\" >')\n",
    ">>> expression.isValid()\n",
    "False\n",
    "\n",
    ">>> expression = QgsExpression('\"pt_vakiy\" > 50')\n",
    ">>> expression.isValid()\n",
    "True"
   ]
  },
  {
   "cell_type": "markdown",
   "metadata": {},
   "source": [
    "You might've noticed the previous percentage of students field is a bit faulty, since we didn't deal with NoData values (-1). Let's remedy that wtih a conditional statement:"
   ]
  },
  {
   "cell_type": "code",
   "execution_count": null,
   "metadata": {},
   "outputs": [],
   "source": [
    ">>> student_exp = QgsExpression('CASE WHEN \"pt_opisk\">0 THEN (\"pt_opisk\" / \"pt_vakiy\") *100 ELSE 0 END')"
   ]
  },
  {
   "cell_type": "markdown",
   "metadata": {},
   "source": [
    "QgsExpressions can also use different expression functions, that for example use the feature's geometry. The first one calculates population density per square km per region, and the other one is a wacky expression that demonstrates what's possible – it calculates the area of a buffer, when the buffer is based on population count, BUT only for region's whose name start with 'a':"
   ]
  },
  {
   "cell_type": "code",
   "execution_count": null,
   "metadata": {},
   "outputs": [],
   "source": [
    ">>> pop_dens_exp = QgsExpression(' \"pt_vakiy\" / ($area / 1000000)')\n",
    "\n",
    ">>> wacky_exp = QgsExpression ('CASE WHEN left( lower(\"nimi\"),1) LIKE \\'a\\' THEN area(buffer($geometry,\"pt_vakiy\")) ELSE 0 END')"
   ]
  },
  {
   "cell_type": "markdown",
   "metadata": {},
   "source": [
    "This expression needs [context](https://qgis.org/pyqgis/latest/core/QgsExpressionContext.html) can then be passed to the vector layer:"
   ]
  },
  {
   "cell_type": "code",
   "execution_count": null,
   "metadata": {},
   "outputs": [],
   "source": [
    ">>> context = QgsExpressionContext()\n",
    ">>> context.appendScopes(QgsExpressionContextUtils.globalProjectLayerScopes(paavo))"
   ]
  },
  {
   "cell_type": "markdown",
   "metadata": {},
   "source": [
    "Prepare the layer by adding the new fields. Notice that these edit the actual data source in comparison to the expression fields:"
   ]
  },
  {
   "cell_type": "code",
   "execution_count": null,
   "metadata": {},
   "outputs": [],
   "source": [
    ">>> new_fields = [QgsField(\"perc_students_valid\", QVariant.Double), \n",
    "                  QgsField(\"pop_density\", QVariant.Double), \n",
    "                  QgsField(\"wacky\",  QVariant.Double)]\n",
    ">>> paavo.dataProvider().addAttributes(new_fields)\n",
    ">>> paavo.updateFields()"
   ]
  },
  {
   "cell_type": "markdown",
   "metadata": {},
   "source": [
    "Finally, the layer looped in editing mode and the expressions \"evaluated\" on each feature:"
   ]
  },
  {
   "cell_type": "code",
   "execution_count": null,
   "metadata": {},
   "outputs": [],
   "source": [
    "with edit(paavo):\n",
    "    for feat in paavo.getFeatures():\n",
    "        context.setFeature(feat)\n",
    "        feat['perc_students_valid'] = student_exp.evaluate(context)\n",
    "        feat['pop_density'] = pop_dens_exp.evaluate(context)\n",
    "        feat['wacky'] = wacky_exp.evaluate(context)\n",
    "        paavo.updateFeature(feat)"
   ]
  },
  {
   "cell_type": "markdown",
   "metadata": {},
   "source": [
    "### 3.2. Aggregates"
   ]
  },
  {
   "cell_type": "markdown",
   "metadata": {},
   "source": [
    "Aggregates (sum, mean, standard deviation etc.) can be queried from a layer easily with the [_aggregate_](https://qgis.org/pyqgis/master/core/QgsVectorLayer.html#qgis.core.QgsVectorLayer.aggregate) method. The aggregate method must be, at minimum, be provided an [aggregate function](https://qgis.org/pyqgis/master/core/QgsAggregateCalculator.html#qgis.core.QgsAggregateCalculator.Count) and a field to calculate on. The method simply returns the calculated value / values and a boolean to indicate the expression succeeded.\n",
    "\n",
    "Calculating the mean population of the postal code regions:"
   ]
  },
  {
   "cell_type": "code",
   "execution_count": null,
   "metadata": {},
   "outputs": [],
   "source": [
    ">>> exp_field = \"pt_vakiy\" # total population field name, could be an expression too\n",
    ">>> agg_exp = QgsAggregateCalculator.Mean # maps to number 6\n",
    "\n",
    ">>> paavo.aggregate(aggregate=agg_exp, fieldOrExpression=exp_field)\n",
    "(1799.1139742319128, True)"
   ]
  },
  {
   "cell_type": "markdown",
   "metadata": {},
   "source": [
    "#### TASK 5\n",
    "- What is the **median share of students** in postal code regions that have **at least 30 students** (*pt_opisk*)?"
   ]
  },
  {
   "cell_type": "markdown",
   "metadata": {},
   "source": [
    "## 4. Challenges\n",
    "If you have time, delve into more topics and test what you've learned with these more free-form exercises."
   ]
  },
  {
   "cell_type": "markdown",
   "metadata": {},
   "source": [
    "### Challenge X: Layer styling and exporting map layouts\n",
    "QGIS's cartographic tools are excellent, and sure enough, they can be run with PyQGIS. Below, a value from the postal code regions layer (_Paavo_) is first classified, then styled. Finally, a [layout object](https://qgis.org/pyqgis/3.16/core/QgsPrintLayout.html) with title, legend and a scale bar is added, and exported as pdf.\n",
    "\n",
    "Test out the code by running it (remember to set a valid output filepath first) and work your way through the tasks."
   ]
  },
  {
   "cell_type": "markdown",
   "metadata": {},
   "source": [
    "#### TASKS\n",
    "1. Make a map with some other variable. Absolute values should normally not be used directly in a choropleth map. So, first calculate some other relative variable.\n",
    "\n",
    "\n",
    "2. Zoom in the map in the layout to your home area.\n",
    "\n",
    "\n",
    "3. Change the styling as you wish: For example, play around with different color ramps."
   ]
  },
  {
   "cell_type": "code",
   "execution_count": null,
   "metadata": {},
   "outputs": [],
   "source": [
    "# LAYER VISUALIZATION IN MAP\n",
    "\n",
    "# Set layer name and desired paremeters\n",
    "layer_name = 'Paavo'\n",
    "thematic_field = 'pt_vakiy'\n",
    "\n",
    "# DEFINE OUTPUT FILEPATH HERE\n",
    "fn = 'C:/temp/layout_export.pdf'\n",
    "\n",
    "classification_method = QgsClassificationQuantile()\n",
    "#You can use any of these classification method classes:\n",
    "#QgsClassificationQuantile()\n",
    "#QgsClassificationEqualInterval()\n",
    "#QgsClassificationJenks()\n",
    "#QgsClassificationPrettyBreaks()\n",
    "#QgsClassificationLogarithmic()\n",
    "#QgsClassificationStandardDeviation()\n",
    "\n",
    "layer = QgsProject().instance().mapLayersByName(layer_name)[0]\n",
    "\n",
    "# Get color ramp by name (set above)\n",
    "# See default_style.colorRampNames() for all options\n",
    "default_style = QgsStyle().defaultStyle()\n",
    "color_ramp = default_style.colorRamp('Spectral')\n",
    "\n",
    "# Use Graduated symbology\n",
    "renderer = QgsGraduatedSymbolRenderer()\n",
    "renderer.setClassAttribute(thematic_field)\n",
    "renderer.setClassificationMethod(classification_method)\n",
    "num_classes = 5\n",
    "renderer.updateClasses(layer, num_classes)\n",
    "renderer.updateColorRamp(color_ramp)\n",
    "\n",
    "# Remove outlines of polygons to keep the fill colors visible\n",
    "# with small polygons\n",
    "for sym in renderer.symbols(QgsRenderContext()):\n",
    "    sym.symbolLayer(0).setStrokeStyle(Qt.PenStyle(Qt.NoPen))\n",
    "\n",
    "layer.setRenderer(renderer)\n",
    "layer.triggerRepaint()\n",
    "\n",
    "# LAYOUT CREATION\n",
    "# Create new layout\n",
    "project = QgsProject.instance()\n",
    "manager = project.layoutManager()\n",
    "layoutName = 'pyqgis_test_layout'\n",
    "layouts_list = manager.printLayouts()\n",
    "# remove any duplicate layouts \n",
    "# (only important when running the same script several times).\n",
    "for layout in layouts_list:\n",
    "    if layout.name() == layoutName:\n",
    "        manager.removeLayout(layout)\n",
    "layout = QgsPrintLayout(project)\n",
    "layout.initializeDefaults()\n",
    "layout.setName(layoutName)\n",
    "manager.addLayout(layout)\n",
    "\n",
    "# Map in layout\n",
    "# create map item in the layout\n",
    "map = QgsLayoutItemMap(layout)\n",
    "map.setRect(20, 20, 20, 20)\n",
    "\n",
    "# Map settings for layout\n",
    "map.setExtent(layer.extent())\n",
    "map.setScale(65000000)\n",
    "map.setBackgroundColor(QColor(200, 200, 200))\n",
    "layout.addLayoutItem(map)\n",
    "\n",
    "# Change map location and size\n",
    "map.attemptMove(QgsLayoutPoint(5, 20, QgsUnitTypes.LayoutMillimeters))\n",
    "map.attemptResize(QgsLayoutSize(180, 180, QgsUnitTypes.LayoutMillimeters))\n",
    "\n",
    "# Legend in layout\n",
    "legend = QgsLayoutItemLegend(layout)\n",
    "legend.setTitle(\"Legend\")\n",
    "layerTree = QgsLayerTree()\n",
    "layerTree.addLayer(layer)\n",
    "legend.model().setRootGroup(layerTree)\n",
    "layout.addLayoutItem(legend)\n",
    "legend.attemptMove(QgsLayoutPoint(230, 15, QgsUnitTypes.LayoutMillimeters))\n",
    "\n",
    "# Scalebar in layout\n",
    "scalebar = QgsLayoutItemScaleBar(layout)\n",
    "scalebar.setStyle('Line Ticks Up')\n",
    "scalebar.setUnits(QgsUnitTypes.DistanceKilometers)\n",
    "scalebar.setNumberOfSegments(2)\n",
    "scalebar.setNumberOfSegmentsLeft(0)\n",
    "scalebar.setUnitsPerSegment(50)\n",
    "scalebar.setLinkedMap(map)\n",
    "scalebar.setUnitLabel('km')\n",
    "scalebar.setFont(QFont('Arial', 14))\n",
    "scalebar.update()\n",
    "layout.addLayoutItem(scalebar)\n",
    "scalebar.attemptMove(QgsLayoutPoint(220, 190, QgsUnitTypes.LayoutMillimeters))\n",
    "\n",
    "# Map title in layout\n",
    "title = QgsLayoutItemLabel(layout)\n",
    "title.setText(\"My Title\")\n",
    "title.setFont(QFont('Arial', 24))\n",
    "title.adjustSizeToText()\n",
    "layout.addLayoutItem(title)\n",
    "title.attemptMove(QgsLayoutPoint(10, 5, QgsUnitTypes.LayoutMillimeters))\n",
    "\n",
    "## LAYOUT EXPORT\n",
    "exporter = QgsLayoutExporter(layout)\n",
    "\n",
    "#exporter.exportToImage(fn, QgsLayoutExporter.ImageExportSettings())\n",
    "exporter.exportToPdf(fn, QgsLayoutExporter.PdfExportSettings())"
   ]
  },
  {
   "cell_type": "markdown",
   "metadata": {},
   "source": [
    "### Challenge Y: Playing around with a drawing tool\n",
    "The two classes below (_drawWindow_ and _PolygonMapTool_) create a very simple polygon drawing tool (implementation derived from [GeoCubes Finland plugin](https://github.com/geoportti/GeoCubes-Finland-QGIS-Plugin/blob/master/PolygonMapWindow.py)). Run the code in the script editor and draw something! After that, work through the exercises below.\n",
    "\n",
    "#### TASKS\n",
    "1. The _PolygonMapTool_ draws a polygon in the map in an eye-catching red. Find where the color is defined, figure out how it works and change the color.\n",
    "\n",
    "\n",
    "2. The polygon is drawn on a empty surface. Add a background layer by inserting some code to function _showWindow_ under the class _drawWindow_. For example, get the first vector layer in the current QGIS project and define it as self.layer.\n",
    "\n",
    "\n",
    "3. Currently the program prints out the nodes of the drawn polygon. It does this by iterating a list called _points_, consisting of QgsPointXY's. \n",
    "    - Modify the code in _closeEvent_ to create a polygon QgsGeometry (hint: [see this](https://gis.stackexchange.com/questions/373295/creating-polygon-out-of-list-of-points-qgspointxy)). \n",
    "    - Create an empty QgsFeature and set the polygon as its geometry\n",
    "    - Create a vector layer in memory and add the feature to it\n",
    "    - Add the vector layer to the project"
   ]
  },
  {
   "cell_type": "code",
   "execution_count": null,
   "metadata": {},
   "outputs": [],
   "source": [
    "class drawWindow(QMainWindow):\n",
    "    def __init__(self):\n",
    "        \"\"\"Initializing the necessary resources.\"\"\"\n",
    "        QMainWindow.__init__(self)\n",
    "\n",
    "        # creating map canvas, which draws the maplayers\n",
    "        # setting up features like canvas color\n",
    "        self.canvas = QgsMapCanvas()\n",
    "        self.canvas.setSizePolicy(QSizePolicy.Preferred, QSizePolicy.Preferred)\n",
    "        self.canvas.setCanvasColor(Qt.white)\n",
    "        self.canvas.enableAntiAliasing(True)\n",
    "\n",
    "        # Qmainwindow requires a central widget. Canvas is placed\n",
    "        self.setCentralWidget(self.canvas)\n",
    "\n",
    "        # creating each desired action\n",
    "        self.actionPan = QAction(\"Pan tool\", self)\n",
    "        self.actionDraw = QAction(\"Polygon tool\", self)\n",
    "        self.actionConnect = QAction(\"Connect polygon\", self)\n",
    "        self.actionClear = QAction(\"Clear\", self)\n",
    "        self.actionClose = QAction(\"Close\", self)\n",
    "\n",
    "        # these two function as on/off. the rest are clickable\n",
    "        self.actionPan.setCheckable(True)\n",
    "        self.actionDraw.setCheckable(True)\n",
    "\n",
    "        # when actions are clicked, do corresponding function\n",
    "        self.actionPan.triggered.connect(self.pan)\n",
    "        self.actionDraw.triggered.connect(self.draw)\n",
    "        self.actionClear.triggered.connect(self.clear)\n",
    "        self.actionConnect.triggered.connect(self.connect)\n",
    "        self.actionClose.triggered.connect(self.close)\n",
    "\n",
    "        # toolbar at the top of the screen: houses actions as buttons\n",
    "\n",
    "        self.toolbar = self.addToolBar(\"Canvas actions\")\n",
    "        # ensure user can't close the toolbar\n",
    "        self.toolbar.setContextMenuPolicy(Qt.PreventContextMenu)\n",
    "        self.toolbar.setMovable(False)\n",
    "        # change order here to change their placement on toolbar\n",
    "        self.toolbar.addAction(self.actionPan)\n",
    "        self.toolbar.addAction(self.actionDraw)\n",
    "        self.toolbar.addAction(self.actionConnect)\n",
    "        self.toolbar.addAction(self.actionClear)\n",
    "        self.toolbar.addAction(self.actionClose)\n",
    "\n",
    "        # link action to premade map tool\n",
    "        self.toolPan = QgsMapToolPan(self.canvas)\n",
    "        self.toolPan.setAction(self.actionPan)\n",
    "        # And the draw tool created below\n",
    "        self.toolDraw = PolygonMapTool(self.canvas)\n",
    "        self.toolDraw.setAction(self.actionDraw)\n",
    "\n",
    "        # set draw tool by default\n",
    "        self.draw()\n",
    "\n",
    "    def pan(self):\n",
    "        \"\"\"Simply activates pan tool\"\"\"\n",
    "        self.canvas.setMapTool(self.toolPan)\n",
    "        # make sure the other button isn't checked to avoid confusion\n",
    "        self.actionDraw.setChecked(False)\n",
    "\n",
    "    def draw(self):\n",
    "        \"\"\"Activates draw tool\"\"\"\n",
    "        self.canvas.setMapTool(self.toolDraw)\n",
    "        self.actionPan.setChecked(False)\n",
    "\n",
    "    def clear(self):\n",
    "        self.toolDraw.reset()\n",
    "\n",
    "    def connect(self):\n",
    "        \"\"\"Calls the polygon tool to connect an unconnected polygon\"\"\"\n",
    "        self.toolDraw.finishPolygon()\n",
    "\n",
    "    def showWindow(self):\n",
    "        \"\"\"Shows the map canvas: currently the canvas is empty,\n",
    "       but a reference layer can be added to it \"\"\"\n",
    "        \n",
    "\n",
    "        \"\"\"\n",
    "        -------------------\n",
    "        ADD CODE HERE TO ADD A BACKGROUND LAYER\n",
    "\n",
    "        self.layer = get a layer from the project\n",
    "        -------------------\n",
    "        \n",
    "        self.canvas.setExtent(self.layer.extent())\n",
    "        self.canvas.setLayers([self.layer])\n",
    "        \"\"\"\n",
    "        self.show()\n",
    "\n",
    "    def closeEvent(self, event):\n",
    "        \"\"\"Activated anytime Mapwindow is closed either programmatically or\n",
    "            if the user finds some other way to close the window. Automatically\n",
    "            finishes the polygon if it's unconnected.\n",
    "        \"\"\"\n",
    "        self.toolDraw.finishPolygon()\n",
    "        points = self.getPolygon()\n",
    "        if points:\n",
    "            # ------------------------\n",
    "            # ADD  CODE HERE TO BUILD A POLYGON\n",
    "            # AND ADD IT TO THE PROJECT AS A VECTOR LAYER\n",
    "            # ------------------------\n",
    "            for point in points:\n",
    "                print(point)\n",
    "        QMainWindow.closeEvent(self, event)\n",
    "\n",
    "    def getPolygon(self):\n",
    "        return self.toolDraw.getPoints()\n",
    "\n",
    "    def getPolygonBbox(self):\n",
    "        return self.toolDraw.getPolyBbox()\n",
    "\n",
    "class PolygonMapTool(QgsMapToolEmitPoint):\n",
    "    \"\"\"This class holds a map tool to create a polygon from points got by clicking\n",
    "        on the map window. Points are stored in a list of point geometries, which is when finishing the polygon\"\"\"\n",
    "    def __init__(self, canvas):\n",
    "        self.canvas = canvas\n",
    "        QgsMapToolEmitPoint.__init__(self, self.canvas)\n",
    "        # rubberband class gives the user visual feedback of the drawing\n",
    "        self.rubberBand = QgsRubberBand(self.canvas, True)\n",
    "\n",
    "        \n",
    "        # setting up outline and fill color: both red\n",
    "        self.rubberBand.setColor(QColor(235,36,21))\n",
    "        \n",
    "        # RGB color values, last value indicates transparency (0-255)\n",
    "        self.rubberBand.setFillColor(QColor(255,79,66,140))\n",
    "        self.rubberBand.setWidth(3)\n",
    "\n",
    "        \n",
    "        self.points = []\n",
    "        # a flag indicating when a single polygon is finished\n",
    "        self.finished = False\n",
    "        self.poly_bbox = False\n",
    "        self.double_click_flag = False\n",
    "        self.reset()\n",
    "\n",
    "    def reset(self):\n",
    "        \"\"\"Empties the canvas and the points gathered thus far\"\"\"\n",
    "        self.rubberBand.reset(True)\n",
    "        self.poly_bbox = False\n",
    "        self.points.clear()\n",
    "\n",
    "    def keyPressEvent(self, e):\n",
    "        \"\"\"Pressing ESC resets the canvas. Pressing enter connects the polygon\"\"\"\n",
    "        if (e.key() == 16777216):\n",
    "            self.reset()\n",
    "        if (e.key() == 16777220):\n",
    "            self.finishPolygon()\n",
    "\n",
    "    def canvasDoubleClickEvent(self, e):\n",
    "        \"\"\"Finishes the polygon on double click\"\"\"\n",
    "        self.double_click_flag = True\n",
    "        self.finishPolygon()\n",
    "\n",
    "    def canvasReleaseEvent(self, e):\n",
    "        \"\"\"Activated when user clicks on the canvas. Gets coordinates, draws\n",
    "        them on the map and adds to the list of points.\"\"\"\n",
    "        if self.double_click_flag:\n",
    "            self.double_click_flag = False\n",
    "            return\n",
    "\n",
    "        # if the finished flag is activated, the canvas will be reset\n",
    "        # for a new polygon\n",
    "        if self.finished:\n",
    "            self.reset()\n",
    "            self.finished = False\n",
    "\n",
    "        self.click_point = self.toMapCoordinates(e.pos())\n",
    "\n",
    "        self.rubberBand.addPoint(self.click_point, True)\n",
    "        self.points.append(self.click_point)\n",
    "        self.rubberBand.show()\n",
    "\n",
    "\n",
    "    def finishPolygon(self):\n",
    "        \"\"\"Activated by user or when the map window is closed without connecting\n",
    "            the polygon. Makes the polygon valid by making first and last point\n",
    "            the same. This is reflected visually. Up until now the user has been\n",
    "            drawing a line: a polygon is created and shown on the map.\"\"\"\n",
    "        # nothing will happen if the code below has already been ran\n",
    "        if self.finished:\n",
    "            return\n",
    "        # connecting the polygon is valid if there's already at least 3 points\n",
    "        elif len(self.points)>2:\n",
    "            first_point = self.points[0]\n",
    "            self.points.append(first_point)\n",
    "            self.rubberBand.closePoints()\n",
    "            self.rubberBand.addPoint(first_point, True)\n",
    "            self.finished = True\n",
    "            # a polygon is created and added to the map for visual purposes\n",
    "            map_polygon = QgsGeometry.fromPolygonXY([self.points])\n",
    "            self.rubberBand.setToGeometry(map_polygon)\n",
    "            # get the bounding box of this new polygon\n",
    "            self.poly_bbox = self.rubberBand.asGeometry().boundingBox()\n",
    "        else:\n",
    "            self.finished = True\n",
    "\n",
    "    def getPoints(self):\n",
    "        \"\"\"Returns list of PointXY geometries, i.e. the polygon in list form\"\"\"\n",
    "        self.rubberBand.reset(True)\n",
    "        return self.points\n",
    "\n",
    "myDrawWindow = drawWindow()\n",
    "myDrawWindow.showWindow()"
   ]
  },
  {
   "cell_type": "markdown",
   "metadata": {},
   "source": [
    "## 5. PyQGIS resources\n",
    "Below are some great resources for delving into PyQGIS:\n",
    "\n",
    "[PyQGIS Developer Cookbook](https://docs.qgis.org/latest/en/docs/pyqgis_developer_cookbook/index.html), by [QGIS contributors](https://docs.qgis.org/3.16/en/docs/user_manual/preamble/contributors.html)\n",
    "\n",
    "[PyQGIS Documentation](https://qgis.org/pyqgis/latest/index.html), by [QGIS contributors](https://docs.qgis.org/3.16/en/docs/user_manual/preamble/contributors.html)\n",
    "\n",
    "[Customizing QGIS with Python](https://courses.spatialthoughts.com/pyqgis-in-a-day.html), by Ujaval Gandhi, shared under CC BY-NC 4.0\n",
    "\n",
    "[PyQGIS 101: Introduction to QGIS Python programming for non-programmers](https://anitagraser.com/pyqgis-101-introduction-to-qgis-python-programming-for-non-programmers/), by Anita Graser\n",
    "\n",
    "[The PyQGIS Programmer's Guide 3](http://locatepress.com/ppg3) (available for purchase) by Gary Sherman"
   ]
  }
 ],
 "metadata": {
  "kernelspec": {
   "display_name": "Python 3",
   "language": "python",
   "name": "python3"
  },
  "language_info": {
   "codemirror_mode": {
    "name": "ipython",
    "version": 3
   },
   "file_extension": ".py",
   "mimetype": "text/x-python",
   "name": "python",
   "nbconvert_exporter": "python",
   "pygments_lexer": "ipython3",
   "version": "3.8.5"
  }
 },
 "nbformat": 4,
 "nbformat_minor": 2
}
