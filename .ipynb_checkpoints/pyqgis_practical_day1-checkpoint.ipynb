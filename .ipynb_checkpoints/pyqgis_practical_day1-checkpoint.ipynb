{
 "cells": [
  {
   "cell_type": "markdown",
   "metadata": {},
   "source": [
    "# PyQGIS: Expanding QGIS's functionality with Python. Day 1.\n",
    "\n",
    "The core application and libraries of QGIS are programmed in C++. However, Python is integrated into every nook and cranny of QGIS. All external plugins are written in Python; pretty much everything that can be done via the UI can be done via the Python bindings (a.k.a. API, Application Programming Interface); generic Python code and scripts can be run through the integrated console; custom functions can be run through the processing tools or on attribute tables. All in all, Python is seamlessly tied with QGIS at every step.\n",
    "\n",
    "On the first section of this short course, you will learn the basics of Python in QGIS: how to interact with the QGIS interface via the Python console, how to handle vector fields and geometries and how to use expression effectively with QGIS. You will also write and modify Python scripts."
   ]
  },
  {
   "cell_type": "markdown",
   "metadata": {},
   "source": [
    "### Practical stuff\n",
    "For these exercises, you will only need a recent QGIS installation (preferably at least the current LTR, which is QGIS 3.16) and the practical data. The data is in a "
   ]
  },
  {
   "cell_type": "markdown",
   "metadata": {},
   "source": [
    "### Preparations\n",
    "Open QGIS. To get us started, we'll need to set the CRS and get some data. For now, we'll do this through the graphical user interface. \n",
    "\n",
    "Start by setting the project's coordinate reference system to the Finnish standard CRS, ETRS-TM35FIN (EPSG:3067). Open the CRS dialog through the bottom right corner or from *Project > Properties > CRS*. Filter for *3067* to find the correct CRS.\n",
    "\n",
    "Connect to Statistics Finland's (Tilastokeskus) WFS service containing areal unit layers. \n",
    "Open Data Source Manager *Layer > Data Source Manager*. Select *WFS / OGC API - Features* and create a new connection to URL http://geo.stat.fi/geoserver/tilastointialueet/wfs and load the layer list. \n",
    "\n",
    "From the large list of returned layers, select *Suuralueet (1:1 000 000)* and add it to the project. This layer contains the polygons of largest statistical units in Finland, corresponding to NUTS 2 division."
   ]
  },
  {
   "cell_type": "markdown",
   "metadata": {},
   "source": [
    "### PyQGIS essentials\n",
    "Now that we're set, let's open QGIS's Python console and get to work! \n",
    "\n",
    "Open the console from *Plugins > Python console* or use the shortcut Ctrl+Alt+P.\n",
    "\n",
    "The console functions like any Python terminal: you can input any Python code and have it executed with Enter.\n",
    "\n",
    "![Console and editor](img/konsoli_alussa.png)"
   ]
  },
  {
   "cell_type": "markdown",
   "metadata": {},
   "source": [
    "By default an [iface](https://www.qgis.org/api/classQgisInterface.html) object is imported, which allows the access to the currently active QGIS instance’s user interface. The elements visible on screen, such as panels and boxes can be manipulated through the iface. For example, if you've moved the map elements around, you may re-center the view to the active layer with this (exclude the arrows when you copy and paste the text to the console)"
   ]
  },
  {
   "cell_type": "code",
   "execution_count": null,
   "metadata": {},
   "outputs": [],
   "source": [
    ">>> iface.zoomToActiveLayer()"
   ]
  },
  {
   "cell_type": "markdown",
   "metadata": {},
   "source": [
    "Another handy element is that can easily retrieve the active (selected) layer. Let's check out what the layer is all about!"
   ]
  },
  {
   "cell_type": "code",
   "execution_count": null,
   "metadata": {},
   "outputs": [],
   "source": [
    "# Get active layer:\n",
    ">>> layer = iface.activeLayer()\n",
    "\n",
    "# Let's see what we got\n",
    ">>> print(type(layer))\n",
    "<class 'qgis._core.QgsVectorLayer'>"
   ]
  },
  {
   "cell_type": "markdown",
   "metadata": {},
   "source": [
    "The layer we got is an object of class *QgsVectorLayer*, which contains the information (geometry, attributes, render information etc.) of a single layer. *QgsVectorLayer* in turn is within QGIS's *core* module. There are [seven modules in total](https://qgis.org/api/modules.html) each housing *classes* critical for the program. Most of the classes used in these exercises are under the *core* module.\n",
    "\n",
    "Above, we call QgsVectorLayer's methods like *featureCount()*. You can read more on the methods in the [documentation](https://qgis.org/pyqgis/latest/core/QgsVectorLayer.html) or call *help()* on the object for the same information:"
   ]
  },
  {
   "cell_type": "code",
   "execution_count": null,
   "metadata": {},
   "outputs": [],
   "source": [
    ">>> help(layer)\n",
    "Help on QgsVectorLayer in module qgis._core object:\n",
    "\n",
    "class QgsVectorLayer(QgsMapLayer, QgsExpressionContextGenerator, QgsExpressionContextScopeGenerator, QgsFeatureSink, QgsFeatureSource)\n",
    " |  QgsVectorLayer(path: str = '', baseName: str = '', providerLib: str = '', options: QgsVectorLayer.LayerOptions = QgsVectorLayer.LayerOptions())\n",
    " |  Constructor - creates a vector layer\n",
    " |\n",
    "    ..."
   ]
  },
  {
   "cell_type": "markdown",
   "metadata": {},
   "source": [
    "Let's get some basic information on our layer:"
   ]
  },
  {
   "cell_type": "code",
   "execution_count": null,
   "metadata": {},
   "outputs": [],
   "source": [
    ">>> print(layer.sourceName())\n",
    "NUTS2_FIN_pop\n",
    "\n",
    ">>> print(layer.featureCount())\n",
    "5"
   ]
  },
  {
   "cell_type": "markdown",
   "metadata": {},
   "source": [
    "#### TASK\n",
    "- Take a look at [QgsVectorLayer documentation](https://qgis.org/pyqgis/3.16/core/QgsVectorLayer.html) and find out how to get the *extent* of the layer. What type is the returned object?"
   ]
  },
  {
   "cell_type": "markdown",
   "metadata": {},
   "source": [
    "### Fields, features and attributes"
   ]
  },
  {
   "cell_type": "markdown",
   "metadata": {},
   "source": [
    "A top level class like *QgsVectorLayer* has many subclasses, each with their own and inherited functions. It's not necessary to know even a fraction of them, especially for this introductory course, but you can refer to the documentation if you're lost at any point.\n",
    "\n",
    "One of the handy functions of a vector layer is a method to access the features (=attributes and geometry) of the layer. Let's loop through [the features](https://qgis.org/pyqgis/latest/core/QgsFeature.html#qgis.core.QgsFeature) and print out attributes from each feature:"
   ]
  },
  {
   "cell_type": "code",
   "execution_count": null,
   "metadata": {},
   "outputs": [],
   "source": [
    ">>> for feat in layer.getFeatures():\n",
    "        # attributes() returns a list of attributes associated with that feature\n",
    "        # remember to indent the line of code before running it\n",
    "...     print(feat.attributes())\n",
    "[1, '1', 'Helsinki-Uusimaa', 'Helsinki-Uusimaa', 2020, 1702678, 30.8, 48.9, 51.1]\n",
    "[2, '2', 'Etelä-Suomi', 'Southern Finland', 2020, 1147484, 20.7, 49.2, 50.8]\n",
    "    ..."
   ]
  },
  {
   "cell_type": "markdown",
   "metadata": {},
   "source": [
    "What do these values mean though? That information is within the fields, a.k.a. columns of our attribute table. [*QgsFields*](https://qgis.org/pyqgis/latest/core/QgsFields.html), is an easy way to access individual [QgsField objects](https://qgis.org/pyqgis/latest/core/QgsField.html). \n",
    "\n",
    "Our layer has these field / column names and datatypes:"
   ]
  },
  {
   "cell_type": "code",
   "execution_count": null,
   "metadata": {},
   "outputs": [],
   "source": [
    ">>> for field in layer.fields():\n",
    "...     print(field.name(), \"\\t\", field.typeName())\n",
    "fid \t Integer64\n",
    "NUTS_region \t String\n",
    "nimi \t String\n",
    "name \t String\n",
    "pop_year \t Integer\n",
    "pop \t Integer64\n",
    "total_pop_perc \t Real\n",
    "male_perc \t Real\n",
    "female_perc \t Real"
   ]
  },
  {
   "cell_type": "markdown",
   "metadata": {},
   "source": [
    "Individual attributes can be accessed via field names or indices. Let's access the *name* attribute using the field name and its index (3rd counting from 0):"
   ]
  },
  {
   "cell_type": "code",
   "execution_count": null,
   "metadata": {},
   "outputs": [],
   "source": [
    ">>> for feat in layer.getFeatures():\n",
    ">>>     print(feat['name'], \"is the same as\", feat[3])\n",
    "Helsinki-Uusimaa is the same as Helsinki-Uusimaa\n",
    "Southern Finland is the same as Southern Finland\n",
    "---"
   ]
  },
  {
   "cell_type": "markdown",
   "metadata": {},
   "source": [
    "## Scripts in PyQGIS\n",
    "\n",
    "The code blocks get more complex and longer as we progress. So as to not have to run each line of code as you write them, you may want to use the scripting window on occasion. QGIS includes a simple editor for running, editing, saving and loading .py scripts. We will use it in this practical, but those looking for a more complex editor (with improved code completion) within QGIS might be interested [in this plugin](http://www.itopen.it/qgis-and-ipython-the-definitive-interactive-console/)"
   ]
  },
  {
   "cell_type": "markdown",
   "metadata": {},
   "source": [
    "#### TASK\n",
    "- Open the script editor by pressing the middle icon (1) below the Python console. A new text area opens up. Empty scripts can be opened with the plus icon (2) and scripts loaded with (3). Run a script with the arrow icon (4). Play around a bit to see what each button does!\n",
    "### selkeyttävä kuva tähän"
   ]
  },
  {
   "cell_type": "markdown",
   "metadata": {},
   "source": [
    "NOTE! While the terminal and the scripting window might seem separate, they both operate in the same environment. Thus, if a variable is defined in a script (summed = 1+1), it can be called in the terminal."
   ]
  },
  {
   "cell_type": "code",
   "execution_count": null,
   "metadata": {},
   "outputs": [],
   "source": [
    ">>> summed\n",
    "2"
   ]
  },
  {
   "cell_type": "markdown",
   "metadata": {},
   "source": [
    "### Geometries"
   ]
  },
  {
   "cell_type": "markdown",
   "metadata": {},
   "source": [
    "If the features are geographical, they'll have *geometry* as well as attributes. [QgsGeometry objects](https://qgis.org/pyqgis/3.16/core/QgsGeometry.html), accessed through features, contain the raw geometries. These geometries are of the usual [WKT types](https://en.wikipedia.org/wiki/Well-known_text_representation_of_geometry) which are the  points, lines and polygons and the multivariants of them.\n",
    "\n",
    "Our layer contains multipolygons:"
   ]
  },
  {
   "cell_type": "code",
   "execution_count": null,
   "metadata": {},
   "outputs": [],
   "source": [
    ">>> layer.wkbType()\n",
    "6\n",
    "\n",
    "# the WKB (well known binary) type must be transformed to be human readable\n",
    ">>> print(QgsWkbTypes.displayString(layer.wkbType()))\n",
    "MultiPolygon"
   ]
  },
  {
   "cell_type": "markdown",
   "metadata": {},
   "source": [
    "Let's continue working with the layer geometries by calculating a few key values from them using built-in functions. Namely, the perimeter and area of each NUTS polygon. Copy the following code block to the editor:"
   ]
  },
  {
   "cell_type": "code",
   "execution_count": null,
   "metadata": {},
   "outputs": [],
   "source": [
    "for feat in layer.getFeatures():\n",
    "    geometry = feat.geometry()\n",
    "    perimeter = geometry.length()\n",
    "    area = geometry.area()\n",
    "    \n",
    "    # print out the result: transform the map units (m and sqr m) to km and sqr km respectively.\n",
    "    # also format the output by rounding the results to nearest whole number and add line breaks\n",
    "    print(feat['name'], \"\\nPerimeter: {0} km\\nArea: {1} sqr km\\n\".format(round(perimeter/1000, 0), \n",
    "          round(area / 1000000, 0)))"
   ]
  },
  {
   "cell_type": "code",
   "execution_count": null,
   "metadata": {},
   "outputs": [],
   "source": [
    "Helsinki-Uusimaa \n",
    "Perimeter: 3270.0 km\n",
    "Area: 9479.0 sqr km\n",
    "\n",
    "Southern Finland \n",
    "Perimeter: 7578.0 km\n",
    "Area: 35181.0 sqr km\n",
    "---"
   ]
  },
  {
   "cell_type": "markdown",
   "metadata": {},
   "source": [
    "#### TASK\n",
    "- Get the bounding box of each geometry. Which NUTS2 polygon's bounding box is the largest? (Hint: remember to [check out the documentation](https://qgis.org/pyqgis/3.16/core/QgsGeometry.html))"
   ]
  },
  {
   "cell_type": "markdown",
   "metadata": {},
   "source": [
    "## Working with layers\n",
    "### Loading layers\n",
    "#### Geopackages"
   ]
  },
  {
   "cell_type": "markdown",
   "metadata": {},
   "source": [
    "Let's add more interesting layers to the project. To load in layers to the current project with PyQGIS, you will need to define a path to the data source (this might be local or online, e.g. a WFS server), provide a screen name and define the data provider (e.g. [ogr](https://gdal.org/user/vector_data_model.html) for many vector layers, [gdal](https://gdal.org/index.html) for raster, postgis). \n",
    "\n",
    "Data providers allow QGIS to use the data sources: the generic class for them is [QgsDataProvider](https://qgis.org/api/classQgsDataProvider.html), which we will we use more later on. To get the full list of data providers, you can call:"
   ]
  },
  {
   "cell_type": "code",
   "execution_count": null,
   "metadata": {},
   "outputs": [],
   "source": [
    "QgsProviderRegistry.instance().providerList()"
   ]
  },
  {
   "cell_type": "markdown",
   "metadata": {},
   "source": [
    "Define a path to this practical's geopackage. This will be dependent on where you've saved it and on which Operating System you're working on. Define an absolute path to the resource – for example:"
   ]
  },
  {
   "cell_type": "code",
   "execution_count": null,
   "metadata": {},
   "outputs": [],
   "source": [
    "gpkg_path = \"C:/Users/tatu/pyqgis_practical/data/practical_data.gpkg\" # windows\n",
    "\n",
    "gpkg_path = \"/home/tatu/pyqgis_practical/data/practical_data.gpkg\" # linux"
   ]
  },
  {
   "cell_type": "markdown",
   "metadata": {},
   "source": [
    "Next, since we're dealing with a geopackage with multiple layers, define which layer you want to add. This is done by appending a *layername* parameter to the path. Let's add Finnish postal code areas:"
   ]
  },
  {
   "cell_type": "code",
   "execution_count": null,
   "metadata": {},
   "outputs": [],
   "source": [
    "paavo_path = gpkg_path + \"|layername=Paavo\""
   ]
  },
  {
   "cell_type": "markdown",
   "metadata": {},
   "source": [
    "Finally, let's create a new QgsVectorLayer with the path:"
   ]
  },
  {
   "cell_type": "code",
   "execution_count": null,
   "metadata": {},
   "outputs": [],
   "source": [
    "paavo_layer = QgsVectorLayer(path=paavo_path, baseName=\"paavo\", providerLib=\"ogr\")"
   ]
  },
  {
   "cell_type": "markdown",
   "metadata": {},
   "source": [
    "The layer object has a function to check that everything went fine. \n",
    "\n",
    "If the layer passes the validity check, we will use the current [QgsProject](https://qgis.org/pyqgis/master/core/QgsProject.html) to add the map layer:"
   ]
  },
  {
   "cell_type": "code",
   "execution_count": null,
   "metadata": {},
   "outputs": [],
   "source": [
    "if paavo_layer.isValid():\n",
    "    QgsProject.instance().addMapLayer(paavo_layer)\n",
    "else:\n",
    "    print(\"Oops, something went wrong! Is the layer path correct?\")"
   ]
  },
  {
   "cell_type": "markdown",
   "metadata": {},
   "source": [
    "#### WFS\n",
    "A WFS ([Web Feature Service](http://www.e-cartouche.ch/content_reg/cartouche/webservice/en/html/wfs_whatWFSis.html)) layer works similarly, only the path is an url defining a feature request. Let's fetch a layer of similar population data on regions (*maakunta* / NUTS 3) from Statistics Finland's service. The url is provided ready-made here, but usually a [GetCapabilities](https://geo.stat.fi/geoserver/vaestoalue/wfs?service=WFS&version=2.0.0&request=GetCapabilities) call is needed to get the proper feature names. "
   ]
  },
  {
   "cell_type": "code",
   "execution_count": null,
   "metadata": {},
   "outputs": [],
   "source": [
    "region_url = (\"https://geo.stat.fi/geoserver/vaestoalue/wfs?service=WFS&version=auto&\"+\n",
    "            \"request=GetFeature&typename=vaestoalue:maakunta_vaki2020&srsname=EPSG:3067\")\n",
    "region_layer = QgsVectorLayer(region_url, \"regions_pop_wfs\", \"WFS\")\n",
    "\n",
    "if region_layer.isValid():\n",
    "    QgsProject.instance().addMapLayer(region_layer)\n",
    "else:\n",
    "    print(\"Oops, something went wrong! Is the layer path correct?\")"
   ]
  },
  {
   "cell_type": "markdown",
   "metadata": {},
   "source": [
    "Numerous parameters can be passed to the WFS query, such as SQL filters, WFS version to use and authentication details. See full list [here under \"WFS (web feature service)  data provider\"](https://qgis.org/api/classQgsVectorLayer.html#details)\n",
    "\n",
    "Writing all the parameters in a big string is cumbersome and error prone. If you'd prefer to write them in a dictionary and use the built-in urllib to parse them, check out [the example from PyQGIS cookbook](https://docs.qgis.org/latest/en/docs/pyqgis_developer_cookbook/loadlayer.html#vector-layers). You may also check out the [procedure for loading raster layers](https://docs.qgis.org/latest/en/docs/pyqgis_developer_cookbook/loadlayer.html#raster-layers), which is similar to vector layers."
   ]
  },
  {
   "cell_type": "markdown",
   "metadata": {
    "tags": [
     "Task"
    ]
   },
   "source": [
    "#### TASKS\n",
    "- Build another WFS request URL, create a vector layer with the URL and add the layer to the project. Choose one of [Statistics Finland's services](https://www.stat.fi/org/avoindata/paikkatietoaineistot_en.html), for example [this](https://geo.stat.fi/geoserver/vaestoalue/wfs?service=WFS&version=2.0.0&request=GetCapabilities), or another service of your choice."
   ]
  },
  {
   "cell_type": "markdown",
   "metadata": {},
   "source": [
    "### Accessing layers in project\n",
    "Besides selecting the active layer, layers added to the project may be accessed like this:"
   ]
  },
  {
   "cell_type": "code",
   "execution_count": null,
   "metadata": {},
   "outputs": [],
   "source": [
    "proj_layers = QgsProject.instance().mapLayers()\n",
    "print(proj_layers)\n",
    "{'NUTS2_FIN_pop_9c7cb77b_1b15_46b5_805d_24d9042ffb0c': <QgsVectorLayer: 'NUTS2_FIN_pop' (ogr)>, \n",
    " 'paavo_3ae4d938_41c6_4aaf_849d_e871e0c0f1d7': <QgsVectorLayer: 'paavo' (ogr)>, \n",
    " 'regions_pop_wfs_1ec842a0_437b_4323_8dfa_c5e35cd507c5': <QgsVectorLayer: 'regions_pop_wfs' (WFS)>}"
   ]
  },
  {
   "cell_type": "markdown",
   "metadata": {},
   "source": [
    "The returned object is a dictionary where keys are unique ID's and values are the layers. The dictionary can be indexed to for example get the first layer:"
   ]
  },
  {
   "cell_type": "code",
   "execution_count": null,
   "metadata": {},
   "outputs": [],
   "source": [
    "nuts2 = list(proj_layers.values())[0]\n",
    "nuts2\n",
    "<QgsVectorLayer: 'nuts2_FIN_pop' (ogr)>"
   ]
  },
  {
   "cell_type": "markdown",
   "metadata": {},
   "source": [
    "Another way is to query the layers by name. Since the name isn't necessarily unique, the query returns a list of matching layers. The first element must again be selected:"
   ]
  },
  {
   "cell_type": "code",
   "execution_count": null,
   "metadata": {},
   "outputs": [],
   "source": [
    "nuts2 = QgsProject.instance().mapLayersByName(\"NUTS2_FIN_pop\")\n",
    "nuts2\n",
    "[<QgsVectorLayer: 'NUTS2_FIN_pop' (ogr)>]\n",
    "nuts2 = nuts2[0]"
   ]
  },
  {
   "cell_type": "markdown",
   "metadata": {},
   "source": [
    "### Creating vector layers\n",
    "\n",
    "There are ways to create vector layers from scratch by defining fields and passing a number of features (attributes and geometry) to them (see [this example](https://docs.qgis.org/latest/en/docs/pyqgis_developer_cookbook/vector.html#from-an-instance-of-qgsvectorlayer)). However, we'll simply modify features of the NUTS2 layer and pass them to a new _memory_ layer. Namely, we'll drop a few fields and simplify the feature geometries."
   ]
  },
  {
   "cell_type": "markdown",
   "metadata": {},
   "source": [
    "A memory (temporary) layer lasts only one session and their data is erased once the user closes QGIS. Therefore, they're handy for purposes where intermittent layers are needed, like processing script or plugin development. \n",
    "\n",
    "A string similar to an url must be passed as the layer path. At minimum, the string should define the layer's geometry type (point, line, polygon etc.). Coordinate reference system, whether to build a spatial index and the layer fields may also be defined ([see here](https://docs.qgis.org/latest/en/docs/pyqgis_developer_cookbook/vector.html#from-an-instance-of-qgsvectorlayer)). \n",
    "\n",
    "For example, creating a new vector layer with two fields:"
   ]
  },
  {
   "cell_type": "code",
   "execution_count": 1,
   "metadata": {},
   "outputs": [
    {
     "ename": "NameError",
     "evalue": "name 'QgsVectorLayer' is not defined",
     "output_type": "error",
     "traceback": [
      "\u001b[1;31m---------------------------------------------------------------------------\u001b[0m",
      "\u001b[1;31mNameError\u001b[0m                                 Traceback (most recent call last)",
      "\u001b[1;32m<ipython-input-1-c859094b1df0>\u001b[0m in \u001b[0;36m<module>\u001b[1;34m\u001b[0m\n\u001b[0;32m      1\u001b[0m \u001b[1;31m# index = Yes means that a spatial index is built for the layer\u001b[0m\u001b[1;33m\u001b[0m\u001b[1;33m\u001b[0m\u001b[1;33m\u001b[0m\u001b[0m\n\u001b[0;32m      2\u001b[0m \u001b[0mdata_str\u001b[0m \u001b[1;33m=\u001b[0m \u001b[1;34m\"Multipolygon?crs=epsg:3067&field=name:string(50)&field=pop:integer(20)&index=yes\"\u001b[0m\u001b[1;33m\u001b[0m\u001b[1;33m\u001b[0m\u001b[0m\n\u001b[1;32m----> 3\u001b[1;33m \u001b[0mnew_layer\u001b[0m \u001b[1;33m=\u001b[0m \u001b[0mQgsVectorLayer\u001b[0m\u001b[1;33m(\u001b[0m\u001b[0mdata_str\u001b[0m\u001b[1;33m,\u001b[0m \u001b[1;34m\"new_layer\"\u001b[0m\u001b[1;33m,\u001b[0m \u001b[1;34m\"memory\"\u001b[0m\u001b[1;33m)\u001b[0m\u001b[1;33m\u001b[0m\u001b[1;33m\u001b[0m\u001b[0m\n\u001b[0m",
      "\u001b[1;31mNameError\u001b[0m: name 'QgsVectorLayer' is not defined"
     ]
    }
   ],
   "source": [
    "# index = Yes -> a spatial index is built for the layer\n",
    "data_str = \"Multipolygon?crs=epsg:3067&field=name:string(50)&field=pop:integer(20)&index=yes\"\n",
    "new_layer = QgsVectorLayer(data_str, \"new_layer\", \"memory\")"
   ]
  },
  {
   "cell_type": "markdown",
   "metadata": {},
   "source": [
    "The fields may also be defined afterwards by calling the data provider explicitly, then adding new QgsField objects:"
   ]
  },
  {
   "cell_type": "code",
   "execution_count": null,
   "metadata": {},
   "outputs": [],
   "source": [
    "new_layer = QgsVectorLayer(\"Multipolygon\", \"new_layer\", \"memory\")\n",
    "provider = new_layer.dataProvider()\n",
    "\n",
    "# defining new fields: first names, then data types\n",
    "new_fields = [QgsField(\"name\", QVariant.String), QgsField(\"pop\",  QVariant.Int)]\n",
    "\n",
    "# add new fields, confusingly named addAttributes\n",
    "provider.addAttributes(new_fields)\n",
    "\n",
    "# the layer must be refreshed to see the changed fields\n",
    "new_layer.updateFields()"
   ]
  },
  {
   "cell_type": "markdown",
   "metadata": {},
   "source": [
    "Once the fields are in place, they must be populated with features. In the script below, the base for those features are gotten from the NUTS2 layer. There's a lot of code in there, but this is what happens summarized:\n",
    "\n",
    "1. The original layer is activated\n",
    "2. Its features are looped over: For each feature, its geometry is simplified by the defined threshold. Only a few attributes are selected, and the features are added to a list\n",
    "3. A new layer is created\n",
    "4. Fields are added to it\n",
    "5. Features are loaded from the list, which populates the fields and adds geometry."
   ]
  },
  {
   "cell_type": "code",
   "execution_count": null,
   "metadata": {},
   "outputs": [],
   "source": [
    "proj_layers = QgsProject.instance().mapLayers()\n",
    "original_layer = list(proj_layers.values())[0]\n",
    "\n",
    "# list where the features of the new layer will be gathered\n",
    "simplified_feat_list = []\n",
    "\n",
    "# used in simplification: increase to simplify more\n",
    "tolerance_level = 5000\n",
    "\n",
    "# looping through features of the the layer\n",
    "for input_order, feat in enumerate(original_layer.getFeatures()):\n",
    "    # original geometry\n",
    "    geometry = feat.geometry()\n",
    "    \n",
    "    # returns a new geometry where the amount of nodes is reduced\n",
    "    simplified = geometry.simplify(tolerance_level)\n",
    "    \n",
    "    # a list with this feature's name and population\n",
    "    trimmed_attributes = [feat['name'], feat['pop']]\n",
    "    \n",
    "    # creating a new feature by passing a id\n",
    "    feat = QgsFeature(input_order)\n",
    "    # adding the new geometry and trimmed attributes to the layer\n",
    "    feat.setGeometry(simplified)\n",
    "    feat.setAttributes(trimmed_attributes)\n",
    "\n",
    "    # adding all the features to a list\n",
    "    simplified_feat_list.append(feat)\n",
    "\n",
    "geometry_type = QgsWkbTypes.displayString(original_layer.wkbType()) # Example: Multipolygon\n",
    "\n",
    "# taking the original layer's CRS\n",
    "layer_crs = original_layer.sourceCrs().authid() # Example: EPSG:3067\n",
    "\n",
    "path_str = '{0}?crs={1}'.format(geometry_type, layer_crs) # example: Multipolygon?crs=EPSG:3067\n",
    "\n",
    "name_str = \"Simplified_{0}_{1}\".format(original_layer.sourceName(), str(tolerance_level)) # example: Simplified_Paavo_5000\n",
    "\n",
    "# creating the new vector layer as a temporary (memory) layer\n",
    "simplified_layer = QgsVectorLayer(path_str, name_str, \"memory\")\n",
    "provider = simplified_layer.dataProvider()\n",
    "\n",
    "# add fields\n",
    "provider.addAttributes([QgsField(\"name\", QVariant.String),\n",
    "                    QgsField(\"pop\",  QVariant.Int)])\n",
    "simplified_layer.updateFields()\n",
    "# adding all the features the fields\n",
    "provider.addFeatures(simplified_feat_list)\n",
    "\n",
    "#check the layer is valid\n",
    "if simplified_layer.isValid():\n",
    "    # inserting the new layer to the project\n",
    "    QgsProject.instance().addMapLayer(simplified_layer)\n",
    "else:\n",
    "    print(\"Faulty layer\")"
   ]
  },
  {
   "cell_type": "markdown",
   "metadata": {},
   "source": [
    "#### TASKS\n",
    "- Play around with different tolerance levels to see how the layers change. Notice that heavy simplification leads to incorrect geometries (overlaps and gaps). This is because we simplify each geometry individually without snapping them to nearby nodes.\n",
    "- Run another transformation on the geometries. Use [smooth](https://qgis.org/pyqgis/3.16/core/QgsGeometry.html#qgis.core.QgsGeometry.smooth) or whichever piques your interest. Notice that other algorithms use different parameters than _tolerance_level_ which we defined for simplifying."
   ]
  },
  {
   "cell_type": "markdown",
   "metadata": {},
   "source": [
    "### Expressions: filtering, selecting and creating\n",
    "\n",
    "It's often beneficial to get a subset of a layer based on some filter. QGIS supports passing [SQL](https://www.tutorialspoint.com/sql/sql-overview.htm) like expressions to do this. The expressions can simply be written as strings, and at a simple level, attributes of the layer used to filter it.\n",
    "\n",
    "For example, let's filter the postal code area by total residents. The threshold is 50. Every feature that doesn't meet this criteria is filtered:"
   ]
  },
  {
   "cell_type": "code",
   "execution_count": null,
   "metadata": {},
   "outputs": [],
   "source": [
    "# make sure you have a pointer to the layer\n",
    "paavo = QgsProject.instance().mapLayersByName(\"paavo\")[0]\n",
    "\n",
    "# the double quotes denote a field, in this case the field containing the population count\n",
    "filter_exp = '\"pt_vakiy\" > 50'\n",
    "\n",
    "paavo.setSubsetString(filter_exp)"
   ]
  },
  {
   "cell_type": "markdown",
   "metadata": {},
   "source": [
    "Subsetting can be cleared simply by passing an empty string:"
   ]
  },
  {
   "cell_type": "code",
   "execution_count": null,
   "metadata": {},
   "outputs": [],
   "source": [
    "paavo.setSubsetString(\"\")"
   ]
  },
  {
   "cell_type": "markdown",
   "metadata": {},
   "source": [
    "The same expression can be used to _select_ features:"
   ]
  },
  {
   "cell_type": "code",
   "execution_count": null,
   "metadata": {},
   "outputs": [],
   "source": [
    "paavo.selectByExpression(filter_exp)\n",
    "\n",
    "# clear selection\n",
    "paavo.removeSelection()"
   ]
  },
  {
   "cell_type": "markdown",
   "metadata": {},
   "source": [
    "If you want to save the selection as a new layer, here's a neat hack for that ([see](https://gis.stackexchange.com/questions/80292/how-can-i-create-a-vector-layer-from-selected-features-with-pyqgis)):"
   ]
  },
  {
   "cell_type": "code",
   "execution_count": null,
   "metadata": {},
   "outputs": [],
   "source": [
    "filtered_paavo = paavo.materialize(QgsFeatureRequest().setFilterFids(paavo.selectedFeatureIds()))\n",
    "\n",
    "if filtered_paavo.isValid():\n",
    "    QgsProject.instance().addMapLayer(filtered_paavo)"
   ]
  },
  {
   "cell_type": "markdown",
   "metadata": {},
   "source": [
    "Expressions can be used to easily add new fields. Let's calculate the percentage of students (pt_opisk) of the whole population:"
   ]
  },
  {
   "cell_type": "code",
   "execution_count": null,
   "metadata": {},
   "outputs": [],
   "source": [
    "student_exp = '(\"pt_opisk\" / \"pt_vakiy\") *100'\n",
    "\n",
    "# pass the expression and the field definitions\n",
    "paavo.addExpressionField(student_exp, QgsField(\"perc_students\",  QVariant.Double, prec=1))"
   ]
  },
  {
   "cell_type": "markdown",
   "metadata": {},
   "source": [
    "More complex expression are enabled by [QgsExpression](https://qgis.org/pyqgis/master/core/QgsExpression.html) class, which parses the strings. This expression can then be passed to the vector layer."
   ]
  },
  {
   "cell_type": "code",
   "execution_count": null,
   "metadata": {},
   "outputs": [],
   "source": [
    "# we could easily make an expression with faulty syntax\n",
    "expression = QgsExpression('\"pt_vakiy\" >')\n",
    "expression.isValid()\n",
    "False\n",
    "\n",
    "expression = QgsExpression('\"pt_vakiy\" > 50')\n",
    "expression.isValid()\n",
    "True"
   ]
  },
  {
   "cell_type": "code",
   "execution_count": null,
   "metadata": {},
   "outputs": [],
   "source": [
    "student_exp = QgsExpression('(\"pt_opisk\" / \"pt_vakiy\") *100')\n",
    "\n",
    "paavo.addExpressionField('(\"pt_opisk\" / \"pt_vakiy\") *100', QgsField(\"perc_students\",  QVariant.Double, prec=1))"
   ]
  },
  {
   "cell_type": "markdown",
   "metadata": {},
   "source": [
    "## Challenges\n",
    "If you have time, you can test what you've learned with these more free-form exercises:\n",
    "\n",
    "### Challenge Y: Modifying a more complex PyQGIS script\n"
   ]
  },
  {
   "cell_type": "markdown",
   "metadata": {},
   "source": [
    "1. The _PolygonMapTool_ draws a polygon in the map in an eye-catching red. Find where the color is defined, figure out how it works and change the color.\n",
    "2. The polygon is drawn on a empty surface. Add a background layer by inserting some code to function _showWindow_ under the class _drawWindow_. For example, get the first vector layer in the current QGIS project and define it as self.layer.\n",
    "3. Currently the program prints out the nodes of the drawn polygon. It does this by iterating a list called _points_, consisting of QgsPointXY's. \n",
    "    - Modify the code in _closeEvent_ to create a polygon QgsGeometry (hint: [see this](https://gis.stackexchange.com/questions/373295/creating-polygon-out-of-list-of-points-qgspointxy)). \n",
    "    - Create an empty QgsFeature and set the polygon as its geometry\n",
    "    - Create a vector layer in memory and add the feature to it\n",
    "    - Add the vector layer to the project"
   ]
  },
  {
   "cell_type": "code",
   "execution_count": null,
   "metadata": {},
   "outputs": [],
   "source": [
    "class drawWindow(QMainWindow):\n",
    "    def __init__(self):\n",
    "        \"\"\"Initializing the necessary resources.\"\"\"\n",
    "        QMainWindow.__init__(self)\n",
    "\n",
    "        # creating map canvas, which draws the maplayers\n",
    "        # setting up features like canvas color\n",
    "        self.canvas = QgsMapCanvas()\n",
    "        self.canvas.setSizePolicy(QSizePolicy.Preferred, QSizePolicy.Preferred)\n",
    "        self.canvas.setCanvasColor(Qt.white)\n",
    "        self.canvas.enableAntiAliasing(True)\n",
    "\n",
    "        # Qmainwindow requires a central widget. Canvas is placed\n",
    "        self.setCentralWidget(self.canvas)\n",
    "\n",
    "        # creating each desired action\n",
    "        self.actionPan = QAction(\"Pan tool\", self)\n",
    "        self.actionDraw = QAction(\"Polygon tool\", self)\n",
    "        self.actionConnect = QAction(\"Connect polygon\", self)\n",
    "        self.actionClear = QAction(\"Clear\", self)\n",
    "        self.actionClose = QAction(\"Close\", self)\n",
    "\n",
    "        # these two function as on/off. the rest are clickable\n",
    "        self.actionPan.setCheckable(True)\n",
    "        self.actionDraw.setCheckable(True)\n",
    "\n",
    "        # when actions are clicked, do corresponding function\n",
    "        self.actionPan.triggered.connect(self.pan)\n",
    "        self.actionDraw.triggered.connect(self.draw)\n",
    "        self.actionClear.triggered.connect(self.clear)\n",
    "        self.actionConnect.triggered.connect(self.connect)\n",
    "        self.actionClose.triggered.connect(self.close)\n",
    "\n",
    "        # toolbar at the top of the screen: houses actions as buttons\n",
    "\n",
    "        self.toolbar = self.addToolBar(\"Canvas actions\")\n",
    "        # ensure user can't close the toolbar\n",
    "        self.toolbar.setContextMenuPolicy(Qt.PreventContextMenu)\n",
    "        self.toolbar.setMovable(False)\n",
    "        # change order here to change their placement on toolbar\n",
    "        self.toolbar.addAction(self.actionPan)\n",
    "        self.toolbar.addAction(self.actionDraw)\n",
    "        self.toolbar.addAction(self.actionConnect)\n",
    "        self.toolbar.addAction(self.actionClear)\n",
    "        self.toolbar.addAction(self.actionClose)\n",
    "\n",
    "        # link action to premade map tool\n",
    "        self.toolPan = QgsMapToolPan(self.canvas)\n",
    "        self.toolPan.setAction(self.actionPan)\n",
    "        # And the draw tool created below\n",
    "        self.toolDraw = PolygonMapTool(self.canvas)\n",
    "        self.toolDraw.setAction(self.actionDraw)\n",
    "\n",
    "        # set draw tool by default\n",
    "        self.draw()\n",
    "\n",
    "    def pan(self):\n",
    "        \"\"\"Simply activates pan tool\"\"\"\n",
    "        self.canvas.setMapTool(self.toolPan)\n",
    "        # make sure the other button isn't checked to avoid confusion\n",
    "        self.actionDraw.setChecked(False)\n",
    "\n",
    "    def draw(self):\n",
    "        \"\"\"Activates draw tool\"\"\"\n",
    "        self.canvas.setMapTool(self.toolDraw)\n",
    "        self.actionPan.setChecked(False)\n",
    "\n",
    "    def clear(self):\n",
    "        self.toolDraw.reset()\n",
    "\n",
    "    def connect(self):\n",
    "        \"\"\"Calls the polygon tool to connect an unconnected polygon\"\"\"\n",
    "        self.toolDraw.finishPolygon()\n",
    "\n",
    "    def showWindow(self):\n",
    "        \"\"\"Shows the map canvas: currently the canvas is empty,\n",
    "       but a reference layer can be added to it \"\"\"\n",
    "        \n",
    "\n",
    "        \"\"\"\n",
    "        -------------------\n",
    "        ADD CODE HERE ADD A BACKGROUND LAYER\n",
    "\n",
    "        self.layer = get a layer from the project\n",
    "        -------------------\n",
    "        \n",
    "        self.canvas.setExtent(self.layer.extent())\n",
    "        self.canvas.setLayers([self.layer])\n",
    "        \"\"\"\n",
    "        self.show()\n",
    "\n",
    "    def closeEvent(self, event):\n",
    "        \"\"\"Activated anytime Mapwindow is closed either programmatically or\n",
    "            if the user finds some other way to close the window. Automatically\n",
    "            finishes the polygon if it's unconnected.\n",
    "        \"\"\"\n",
    "        self.toolDraw.finishPolygon()\n",
    "        points = self.getPolygon()\n",
    "        if points:\n",
    "            # ------------------------\n",
    "            # ADD  CODE HERE TO BUILD A POLYGON\n",
    "            # AND ADD IT TO THE PROJECT AS A VECTOR LAYER\n",
    "            # ------------------------\n",
    "            for point in points:\n",
    "                print(point)\n",
    "        QMainWindow.closeEvent(self, event)\n",
    "\n",
    "    def getPolygon(self):\n",
    "        return self.toolDraw.getPoints()\n",
    "\n",
    "    def getPolygonBbox(self):\n",
    "        return self.toolDraw.getPolyBbox()\n",
    "\n",
    "class PolygonMapTool(QgsMapToolEmitPoint):\n",
    "    \"\"\"This class holds a map tool to create a polygon from points got by clicking\n",
    "        on the map window. Points are stored in a list of point geometries, which is when finishing the polygon\"\"\"\n",
    "    def __init__(self, canvas):\n",
    "        self.canvas = canvas\n",
    "        QgsMapToolEmitPoint.__init__(self, self.canvas)\n",
    "        # rubberband class gives the user visual feedback of the drawing\n",
    "        self.rubberBand = QgsRubberBand(self.canvas, True)\n",
    "\n",
    "        # setting up outline and fill color: both red\n",
    "        self.rubberBand.setColor(QColor(235,36,21))\n",
    "        # RGB color values, last value indicates transparency (0-255)\n",
    "        self.rubberBand.setFillColor(QColor(255,79,66,140))\n",
    "        self.rubberBand.setWidth(3)\n",
    "\n",
    "        self.points = []\n",
    "        # a flag indicating when a single polygon is finished\n",
    "        self.finished = False\n",
    "        self.poly_bbox = False\n",
    "        self.double_click_flag = False\n",
    "        self.reset()\n",
    "\n",
    "    def reset(self):\n",
    "        \"\"\"Empties the canvas and the points gathered thus far\"\"\"\n",
    "        self.rubberBand.reset(True)\n",
    "        self.poly_bbox = False\n",
    "        self.points.clear()\n",
    "\n",
    "    def keyPressEvent(self, e):\n",
    "        \"\"\"Pressing ESC resets the canvas. Pressing enter connects the polygon\"\"\"\n",
    "        if (e.key() == 16777216):\n",
    "            self.reset()\n",
    "        if (e.key() == 16777220):\n",
    "            self.finishPolygon()\n",
    "\n",
    "    def canvasDoubleClickEvent(self, e):\n",
    "        \"\"\"Finishes the polygon on double click\"\"\"\n",
    "        self.double_click_flag = True\n",
    "        self.finishPolygon()\n",
    "\n",
    "    def canvasReleaseEvent(self, e):\n",
    "        \"\"\"Activated when user clicks on the canvas. Gets coordinates, draws\n",
    "        them on the map and adds to the list of points.\"\"\"\n",
    "        if self.double_click_flag:\n",
    "            self.double_click_flag = False\n",
    "            return\n",
    "\n",
    "        # if the finished flag is activated, the canvas will be reset\n",
    "        # for a new polygon\n",
    "        if self.finished:\n",
    "            self.reset()\n",
    "            self.finished = False\n",
    "\n",
    "        self.click_point = self.toMapCoordinates(e.pos())\n",
    "\n",
    "        self.rubberBand.addPoint(self.click_point, True)\n",
    "        self.points.append(self.click_point)\n",
    "        self.rubberBand.show()\n",
    "\n",
    "\n",
    "    def finishPolygon(self):\n",
    "        \"\"\"Activated by user or when the map window is closed without connecting\n",
    "            the polygon. Makes the polygon valid by making first and last point\n",
    "            the same. This is reflected visually. Up until now the user has been\n",
    "            drawing a line: a polygon is created and shown on the map.\"\"\"\n",
    "        # nothing will happen if the code below has already been ran\n",
    "        if self.finished:\n",
    "            return\n",
    "        # connecting the polygon is valid if there's already at least 3 points\n",
    "        elif len(self.points)>2:\n",
    "            first_point = self.points[0]\n",
    "            self.points.append(first_point)\n",
    "            self.rubberBand.closePoints()\n",
    "            self.rubberBand.addPoint(first_point, True)\n",
    "            self.finished = True\n",
    "            # a polygon is created and added to the map for visual purposes\n",
    "            map_polygon = QgsGeometry.fromPolygonXY([self.points])\n",
    "            self.rubberBand.setToGeometry(map_polygon)\n",
    "            # get the bounding box of this new polygon\n",
    "            self.poly_bbox = self.rubberBand.asGeometry().boundingBox()\n",
    "        else:\n",
    "            self.finished = True\n",
    "\n",
    "    def getPoints(self):\n",
    "        \"\"\"Returns list of PointXY geometries, i.e. the polygon in list form\"\"\"\n",
    "        self.rubberBand.reset(True)\n",
    "        return self.points\n",
    "\n",
    "myDrawWindow = drawWindow()\n",
    "myDrawWindow.showWindow()"
   ]
  },
  {
   "cell_type": "markdown",
   "metadata": {},
   "source": [
    "## seuraavaksi datan filteröinti. johonkin väliin [aggregointi](https://docs.qgis.org/3.16/en/docs/user_manual/working_with_vector/functions_list.html?highlight=aggregate)\n",
    "\n",
    "## rakenna tehtävä [naapurialueiden](https://gis.stackexchange.com/questions/218883/counting-polygon-neighbours-and-writing-to-table-using-pyqgis) varaan?"
   ]
  },
  {
   "cell_type": "markdown",
   "metadata": {},
   "source": [
    "## PyQGIS resources\n",
    "Below are some great resources for delving into PyQGIS:\n",
    "\n",
    "[PyQGIS Developer Cookbook](https://docs.qgis.org/latest/en/docs/pyqgis_developer_cookbook/index.html), by [QGIS contributors](https://docs.qgis.org/3.16/en/docs/user_manual/preamble/contributors.html)\n",
    "\n",
    "[PyQGIS Documentation](https://qgis.org/pyqgis/latest/index.html), by [QGIS contributors](https://docs.qgis.org/3.16/en/docs/user_manual/preamble/contributors.html)\n",
    "\n",
    "[Customizing QGIS with Python](https://courses.spatialthoughts.com/pyqgis-in-a-day.html), by Ujaval Gandhi, shared under CC BY-NC 4.0\n",
    "\n",
    "[PyQGIS 101: Introduction to QGIS Python programming for non-programmers](https://anitagraser.com/pyqgis-101-introduction-to-qgis-python-programming-for-non-programmers/), by Anita Graser\n",
    "\n",
    "[The PyQGIS Programmer's Guide 3](http://locatepress.com/ppg3) (available for purchase) by Gary Sherman"
   ]
  }
 ],
 "metadata": {
  "kernelspec": {
   "display_name": "Python 3",
   "language": "python",
   "name": "python3"
  },
  "language_info": {
   "codemirror_mode": {
    "name": "ipython",
    "version": 3
   },
   "file_extension": ".py",
   "mimetype": "text/x-python",
   "name": "python",
   "nbconvert_exporter": "python",
   "pygments_lexer": "ipython3",
   "version": "3.8.5"
  }
 },
 "nbformat": 4,
 "nbformat_minor": 2
}
